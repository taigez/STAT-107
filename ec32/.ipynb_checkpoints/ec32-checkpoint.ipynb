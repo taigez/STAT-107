{
 "cells": [
  {
   "cell_type": "markdown",
   "metadata": {
    "deletable": false,
    "editable": false,
    "nbgrader": {
     "cell_type": "markdown",
     "checksum": "724783d2814c0bb968f01e46c2c7a8e8",
     "grade": false,
     "grade_id": "cell-67e7afc4b4ff4e96",
     "locked": true,
     "schema_version": 3,
     "solution": false,
     "task": false
    }
   },
   "source": [
    "## EC Notebook for Lecture 32: RMSE and Clustering\n",
    "\n",
    "This extra credit Python notebook will let you practice the material you saw in lecture.  Completing all parts of this notebook will earn +1 extra credit point to your grade in STAT 107! :)\n",
    "\n",
    "This notebook is worth +1 if turned in before 11:30 am on **Wednesday, Nov. 13** *(30 minutes before the next STAT 107 lecture)*.  You can feel free to complete it anytime for extra practice."
   ]
  },
  {
   "cell_type": "markdown",
   "metadata": {
    "deletable": false,
    "editable": false,
    "nbgrader": {
     "cell_type": "markdown",
     "checksum": "9cf677bc4ec2b579a14c8a433c8081bb",
     "grade": false,
     "grade_id": "cell-959f443304692271",
     "locked": true,
     "schema_version": 3,
     "solution": false,
     "task": false
    }
   },
   "source": [
    "### 1. Importing libraries and reading data\n",
    "For this extra credit notebook, we will still use the Beer dataset to do some exercise. At first, you need to import the libraries and reading the dataset."
   ]
  },
  {
   "cell_type": "code",
   "execution_count": 1,
   "metadata": {
    "deletable": false,
    "nbgrader": {
     "cell_type": "code",
     "checksum": "8ae9ecb1841ca5fc495f2370e8de8a0f",
     "grade": false,
     "grade_id": "cell-3182d2cfb9079fe2",
     "locked": false,
     "schema_version": 3,
     "solution": true,
     "task": false
    }
   },
   "outputs": [
    {
     "data": {
      "text/html": [
       "<div>\n",
       "<style scoped>\n",
       "    .dataframe tbody tr th:only-of-type {\n",
       "        vertical-align: middle;\n",
       "    }\n",
       "\n",
       "    .dataframe tbody tr th {\n",
       "        vertical-align: top;\n",
       "    }\n",
       "\n",
       "    .dataframe thead th {\n",
       "        text-align: right;\n",
       "    }\n",
       "</style>\n",
       "<table border=\"1\" class=\"dataframe\">\n",
       "  <thead>\n",
       "    <tr style=\"text-align: right;\">\n",
       "      <th></th>\n",
       "      <th>Brand</th>\n",
       "      <th>Brewery</th>\n",
       "      <th>PercentAlcohol</th>\n",
       "      <th>Calories</th>\n",
       "      <th>Carbohydrates</th>\n",
       "    </tr>\n",
       "  </thead>\n",
       "  <tbody>\n",
       "    <tr>\n",
       "      <th>75</th>\n",
       "      <td>Winehard's Private Reserve</td>\n",
       "      <td>Miller</td>\n",
       "      <td>4.8</td>\n",
       "      <td>150</td>\n",
       "      <td>9.9</td>\n",
       "    </tr>\n",
       "    <tr>\n",
       "      <th>26</th>\n",
       "      <td>Hamm's Golden Draft</td>\n",
       "      <td>Miller</td>\n",
       "      <td>4.7</td>\n",
       "      <td>144</td>\n",
       "      <td>12.1</td>\n",
       "    </tr>\n",
       "    <tr>\n",
       "      <th>38</th>\n",
       "      <td>Magnum Malt Liquor</td>\n",
       "      <td>Miller</td>\n",
       "      <td>5.6</td>\n",
       "      <td>157</td>\n",
       "      <td>11.2</td>\n",
       "    </tr>\n",
       "    <tr>\n",
       "      <th>79</th>\n",
       "      <td>Winehard's Pale Ale</td>\n",
       "      <td>Miller</td>\n",
       "      <td>4.6</td>\n",
       "      <td>147</td>\n",
       "      <td>13.0</td>\n",
       "    </tr>\n",
       "    <tr>\n",
       "      <th>20</th>\n",
       "      <td>Genesee Cream Ale</td>\n",
       "      <td>High Falls Brewing</td>\n",
       "      <td>5.1</td>\n",
       "      <td>162</td>\n",
       "      <td>15.0</td>\n",
       "    </tr>\n",
       "  </tbody>\n",
       "</table>\n",
       "</div>"
      ],
      "text/plain": [
       "                         Brand             Brewery  PercentAlcohol  Calories  \\\n",
       "75  Winehard's Private Reserve              Miller             4.8       150   \n",
       "26         Hamm's Golden Draft              Miller             4.7       144   \n",
       "38          Magnum Malt Liquor              Miller             5.6       157   \n",
       "79         Winehard's Pale Ale              Miller             4.6       147   \n",
       "20           Genesee Cream Ale  High Falls Brewing             5.1       162   \n",
       "\n",
       "    Carbohydrates  \n",
       "75            9.9  \n",
       "26           12.1  \n",
       "38           11.2  \n",
       "79           13.0  \n",
       "20           15.0  "
      ]
     },
     "execution_count": 1,
     "metadata": {},
     "output_type": "execute_result"
    }
   ],
   "source": [
    "#import libraries\n",
    "import pandas as pd \n",
    "df = pd.read_csv('beer.csv')\n",
    "\n",
    "\n",
    "\n",
    "df.sample(5)"
   ]
  },
  {
   "cell_type": "markdown",
   "metadata": {},
   "source": [
    "### 2. Creating regression models\n",
    "After loading the data, let's fit several regression models according to the following description:\n",
    "\n",
    "1. `models[0]`: Take **PercentAlcohol** as independent variable and **Calories** as dependent variable.\n",
    "2. `models[1]`: Take **Carbohydrates** as independent variable and **Calories** as dependent variable.\n",
    "3. `models[2]`: Take **PercentAlcohol** and **Carbohydrates** as independent variables and **Calories** as dependent variable."
   ]
  },
  {
   "cell_type": "code",
   "execution_count": null,
   "metadata": {
    "deletable": false,
    "nbgrader": {
     "cell_type": "code",
     "checksum": "69ee1c07f504fbb48541a4a4c569eb09",
     "grade": false,
     "grade_id": "cell-060c81a4477630d2",
     "locked": false,
     "schema_version": 3,
     "solution": true,
     "task": false
    }
   },
   "outputs": [],
   "source": [
    "models = []\n",
    "\n"
   ]
  },
  {
   "cell_type": "markdown",
   "metadata": {
    "deletable": false,
    "editable": false,
    "nbgrader": {
     "cell_type": "markdown",
     "checksum": "07c799b402c0b2fcb440191520349bea",
     "grade": false,
     "grade_id": "cell-47b6be3b89d4c4bd",
     "locked": true,
     "schema_version": 3,
     "solution": false,
     "task": false
    }
   },
   "source": [
    "### 3. Making Predictions and Calculating RMSE\n",
    "Now make predictions using the above models, create three extra columns to store the results. After that, calculate the RMSE with the help of the predicted values and store the results in a list `errors`. \n",
    "\n",
    "*Think about: which value is the smallest and why?*\n"
   ]
  },
  {
   "cell_type": "code",
   "execution_count": null,
   "metadata": {
    "deletable": false,
    "nbgrader": {
     "cell_type": "code",
     "checksum": "97618d143fe59327457499e6c2d96d4b",
     "grade": false,
     "grade_id": "cell-8b0f0ef67575550d",
     "locked": false,
     "schema_version": 3,
     "solution": true,
     "task": false
    }
   },
   "outputs": [],
   "source": [
    "errors = []\n",
    "\n",
    "\n",
    "\n",
    "errors"
   ]
  },
  {
   "cell_type": "code",
   "execution_count": null,
   "metadata": {
    "deletable": false,
    "editable": false,
    "nbgrader": {
     "cell_type": "code",
     "checksum": "15c554f1cc2633965c0d61d68a07008b",
     "grade": true,
     "grade_id": "cell-621e2757b30ebf38",
     "locked": true,
     "points": 1,
     "schema_version": 3,
     "solution": false,
     "task": false
    }
   },
   "outputs": [],
   "source": [
    "## == TEST CASES for Part 1,2,3 ==\n",
    "# - This read-only cell contains test cases for your previous cell.\n",
    "# - If this cell runs without any error our output, you PASSED all test cases!\n",
    "# - If this cell results in any errors, check you previous cell, make changes, and RE-RUN your code and then this cell.\n",
    "\n",
    "ans_coef = [34.961178732626145, 5.399999224018191, 26.633421167621528]\n",
    "ans_int = [-26.289717456127363, 82.27177327363447, -11.764312556069427]\n",
    "ans_error = 38.152395545641205\n",
    "for i in range(3):\n",
    "    assert(abs(sum(models[i].coef_)-anscoef[i])<0.01), \"Make sure you created the correct models\"\n",
    "    assert(abs(models[i].intercept_-ans_int[i])<0.01), \"Make sure you created the correct models\"\n",
    "assert(abs(sum(errors)-ans_error)<0.01), \"Make sure you calculated the correct RMSE\"\n",
    "\n",
    "## == SUCCESS MESSAGE ==\n",
    "# You will only see this message (with the emoji showing) if you passed all test cases:\n",
    "tada = \"\\N{PARTY POPPER}\"\n",
    "print(f\"{tada} All tests passed! {tada}\")\n",
    "print()\n"
   ]
  },
  {
   "cell_type": "code",
   "execution_count": null,
   "metadata": {},
   "outputs": [],
   "source": []
  }
 ],
 "metadata": {
  "kernelspec": {
   "display_name": "Python 3",
   "language": "python",
   "name": "python3"
  },
  "language_info": {
   "codemirror_mode": {
    "name": "ipython",
    "version": 3
   },
   "file_extension": ".py",
   "mimetype": "text/x-python",
   "name": "python",
   "nbconvert_exporter": "python",
   "pygments_lexer": "ipython3",
   "version": "3.7.3"
  }
 },
 "nbformat": 4,
 "nbformat_minor": 2
}
