{
 "cells": [
  {
   "cell_type": "markdown",
   "metadata": {
    "deletable": false,
    "editable": false,
    "nbgrader": {
     "cell_type": "markdown",
     "checksum": "a1c278002edbbf042acd8fc30586e1ee",
     "grade": false,
     "grade_id": "cell-ca7457947c03ac72",
     "locked": true,
     "schema_version": 3,
     "solution": false,
     "task": false
    }
   },
   "source": [
    "## EC Notebook for Lecture 30: Linear Regression\n",
    "\n",
    "This extra credit Python notebook will let you practice the material you saw in lecture.  Completing all parts of this notebook will earn +1 extra credit point to your grade in STAT 107! :)\n",
    "\n",
    "This notebook is worth +1 if turned in before 11:30 am on **Friday, Nov. 8** *(30 minutes before the next STAT 107 lecture)*.  You can feel free to complete it anytime for extra practice."
   ]
  },
  {
   "cell_type": "markdown",
   "metadata": {
    "deletable": false,
    "editable": false,
    "nbgrader": {
     "cell_type": "markdown",
     "checksum": "c9d6b93befae5da0f72c5e548583badb",
     "grade": false,
     "grade_id": "cell-cfa9a6d93e0ab320",
     "locked": true,
     "schema_version": 3,
     "solution": false,
     "task": false
    }
   },
   "source": [
    "## Linear Regression\n",
    "\n",
    "In today's lecture, we learned the basic idea and concept of the linear regression.\n",
    "\n",
    "Intuition: The basic idea of trying to fit a line as closely as possible to as many points as possible is known as linear regression. The most common technique is to try to fit a line that minimizes the squared distance to each of those points. This technique is known as the OLS or Ordinary Least Squares Regression. \n",
    "\n",
    "In the following, we will use **diamond** dataset and fit the linear regressions."
   ]
  },
  {
   "cell_type": "markdown",
   "metadata": {
    "deletable": false,
    "editable": false,
    "nbgrader": {
     "cell_type": "markdown",
     "checksum": "2d24d176bf759bcb2d7f9d5b5b49b3ea",
     "grade": false,
     "grade_id": "cell-c2cbfd6290b97af4",
     "locked": true,
     "schema_version": 3,
     "solution": false,
     "task": false
    }
   },
   "source": [
    "##  1. Regression Equation\n",
    "\n",
    "In the class, we learned that the we can describle our regression via an equation in slope-intercept form since it is estimated from a sgraight line. Thus, one way to make predictions is by using the regression equation, i.e. calculate the slope and intercept by the definition:\n",
    "\n",
    "Slope of the regression line: $r*(\\text{SD of y})/(\\text{SD of x})$.  \n",
    "Intercept of the regression line: $(\\text{average of y}) - slope*(\\text{average of x})$\n",
    "\n",
    "In the following, please use the formula to calculate the slope and intercept to fit the linear regession by using `price` as dependent variable and `depth` as independent variable."
   ]
  },
  {
   "cell_type": "code",
   "execution_count": 1,
   "metadata": {
    "deletable": false,
    "nbgrader": {
     "cell_type": "code",
     "checksum": "8be4f49c834d89649eac6608f888c32f",
     "grade": false,
     "grade_id": "cell-351d38d62038f3f5",
     "locked": false,
     "schema_version": 3,
     "solution": true,
     "task": false
    }
   },
   "outputs": [],
   "source": [
    "# Keep in mind import diamonds dataset as df\n",
    "import pandas as pd \n",
    "df = pd.read_csv('Diamonds.csv')\n",
    "\n",
    "mean_depth = df['depth'].mean()\n",
    "sd_depth = df['depth'].std()\n",
    "mean_price = df['price'].mean()\n",
    "sd_price = df['price'].std()\n",
    "df['z_depth'] = (df['depth'] - mean_depth) / sd_depth\n",
    "df['z_price'] = (df['price'] - mean_price) / sd_price\n",
    "df['z_product'] = df['z_depth'] * df['z_price']\n",
    "r = df['z_product'].sum() / (len(df['z_product']) - 1)\n",
    "\n",
    "sd_x = sd_depth\n",
    "sd_y = sd_price\n"
   ]
  },
  {
   "cell_type": "code",
   "execution_count": 2,
   "metadata": {
    "deletable": false,
    "nbgrader": {
     "cell_type": "code",
     "checksum": "38590ec13d48d27c1b074f6e6b7069ea",
     "grade": false,
     "grade_id": "cell-cba4787fd8d2c490",
     "locked": false,
     "schema_version": 3,
     "solution": true,
     "task": false
    }
   },
   "outputs": [],
   "source": [
    "slope = r*(sd_y)/sd_x\n",
    "intercept = mean_price - slope*mean_depth\n"
   ]
  },
  {
   "cell_type": "code",
   "execution_count": 3,
   "metadata": {
    "deletable": false,
    "editable": false,
    "nbgrader": {
     "cell_type": "code",
     "checksum": "6da7c965082e0a64710a6e9251ba600c",
     "grade": true,
     "grade_id": "cell-bfb8f8c7929ded38",
     "locked": true,
     "points": 1,
     "schema_version": 3,
     "solution": false,
     "task": false
    }
   },
   "outputs": [
    {
     "name": "stdout",
     "output_type": "stream",
     "text": [
      "🎉 All tests passed! 🎉\n",
      "\n"
     ]
    }
   ],
   "source": [
    "## == TEST CASES for 1 ==\n",
    "# - This read-only cell contains test cases for your previous cell.\n",
    "# - If this cell runs without any error our output, you PASSED all test cases!\n",
    "# - If this cell results in any errors, check you previous cell, make changes, and RE-RUN your code and then this cell.\n",
    "\n",
    "assert(round(slope,5) == -29.64997), \"The slope is incorrect.\"\n",
    "assert(round(intercept,5) == 5763.66772), \"The intercept is incorrect.\"\n",
    "\n",
    "## == SUCCESS MESSAGE ==\n",
    "# You will only see this message (with the emoji showing) if you passed all test cases:\n",
    "tada = \"\\N{PARTY POPPER}\"\n",
    "print(f\"{tada} All tests passed! {tada}\")\n",
    "print()"
   ]
  },
  {
   "cell_type": "markdown",
   "metadata": {
    "deletable": false,
    "editable": false,
    "nbgrader": {
     "cell_type": "markdown",
     "checksum": "0131bee5e44301e01a46a6b63cd53359",
     "grade": false,
     "grade_id": "cell-1d92d282ac7a1759",
     "locked": true,
     "schema_version": 3,
     "solution": false,
     "task": false
    }
   },
   "source": [
    "##  2. Building a Linear Regression in Python\n",
    "\n",
    "In the class, we also learned how ot use the scikit-learn (sklearn) Python library for fitting the linear regression in Python. \n",
    "\n",
    "\n",
    "In the following, we still focus on the *diamond* dataset, but we do not use the defintion of the slope and intercept by the regression equation. We directly use scikit to fit the linear regression and make prediction!"
   ]
  },
  {
   "cell_type": "markdown",
   "metadata": {
    "deletable": false,
    "editable": false,
    "nbgrader": {
     "cell_type": "markdown",
     "checksum": "aa11e005b391f7946022603546d1d1e0",
     "grade": false,
     "grade_id": "cell-df1c2173d4b4cb6f",
     "locked": true,
     "schema_version": 3,
     "solution": false,
     "task": false
    }
   },
   "source": [
    "##  2.1.1 Use scikit to fit simple linear regression\n",
    "\n",
    "In this question, firstly, please use scikit to fit the simple liear regression by using `price` as dependent variable and `depth` as independent variable. Also, find the intercept and slope and compare them to those in the last question. "
   ]
  },
  {
   "cell_type": "code",
   "execution_count": 4,
   "metadata": {
    "deletable": false,
    "nbgrader": {
     "cell_type": "code",
     "checksum": "ff16b245f34a2a2ae1af7208bab8b66a",
     "grade": false,
     "grade_id": "cell-e944a7df4529ca47",
     "locked": false,
     "schema_version": 3,
     "solution": true,
     "task": false
    }
   },
   "outputs": [],
   "source": [
    "# Please keep in mind to import the library. \n",
    "from sklearn.linear_model import LinearRegression\n",
    "model = LinearRegression()\n",
    "\n",
    "linear_reg = model.fit(df[['depth']],df['price'])\n",
    "linear_slope = linear_reg.coef_\n",
    "linear_intercept = linear_reg.intercept_\n"
   ]
  },
  {
   "cell_type": "markdown",
   "metadata": {
    "deletable": false,
    "editable": false,
    "nbgrader": {
     "cell_type": "markdown",
     "checksum": "7188e2fb604701374fb29a76fbfb8c9a",
     "grade": false,
     "grade_id": "cell-f7d3f78431194b59",
     "locked": true,
     "schema_version": 3,
     "solution": false,
     "task": false
    }
   },
   "source": [
    "##  2.1.1 Use scikit to fit simple linear regression (Continue)\n",
    "\n",
    "According to the last question, please predict the price of a `3.5` depth diamond using simple linear regression."
   ]
  },
  {
   "cell_type": "code",
   "execution_count": 8,
   "metadata": {
    "deletable": false,
    "nbgrader": {
     "cell_type": "code",
     "checksum": "420000f3d6dc6c4da0049dc779160caf",
     "grade": false,
     "grade_id": "cell-36d364ebf63b019d",
     "locked": false,
     "schema_version": 3,
     "solution": true,
     "task": false
    }
   },
   "outputs": [],
   "source": [
    "linear_pred = linear_reg.predict([[3.5]])\n"
   ]
  },
  {
   "cell_type": "code",
   "execution_count": 9,
   "metadata": {
    "deletable": false,
    "editable": false,
    "nbgrader": {
     "cell_type": "code",
     "checksum": "ff807a2aad66b067e0c13d0a60adb555",
     "grade": true,
     "grade_id": "cell-16cf28eb7c11ad0e",
     "locked": true,
     "points": 1,
     "schema_version": 3,
     "solution": false,
     "task": false
    }
   },
   "outputs": [
    {
     "name": "stdout",
     "output_type": "stream",
     "text": [
      "🎉 All tests passed! 🎉\n",
      "\n"
     ]
    }
   ],
   "source": [
    "## == TEST CASES for 2 ==\n",
    "# - This read-only cell contains test cases for your previous cell.\n",
    "# - If this cell runs without any error our output, you PASSED all test cases!\n",
    "# - If this cell results in any errors, check you previous cell, make changes, and RE-RUN your code and then this cell.\n",
    "\n",
    "assert(round(linear_slope[0],5) == -29.64997), \"The slope is incorrect.\"\n",
    "assert(round(linear_intercept,5) == 5763.66772), \"The intercept is incorrect.\"\n",
    "assert(round(linear_pred[0],5) == 5659.89282), \"The price of 3.5 depth diamond is incorrect.\"\n",
    "\n",
    "## == SUCCESS MESSAGE ==\n",
    "# You will only see this message (with the emoji showing) if you passed all test cases:\n",
    "tada = \"\\N{PARTY POPPER}\"\n",
    "print(f\"{tada} All tests passed! {tada}\")\n",
    "print()"
   ]
  },
  {
   "cell_type": "markdown",
   "metadata": {
    "deletable": false,
    "editable": false,
    "nbgrader": {
     "cell_type": "markdown",
     "checksum": "69664e9551b5768eae2a473cc913970c",
     "grade": false,
     "grade_id": "cell-e6464db6e468214d",
     "locked": true,
     "schema_version": 3,
     "solution": false,
     "task": false
    }
   },
   "source": [
    "##  2.2.1 Use scikit to fit  multiple linear regression\n",
    "\n",
    "In this question, firstly, please use scikit to fit the multiple liear regression by using `price` as dependent variable and `depth`,`table` and `carat` as independent variables. Also, find the intercept and coefficients for each independent variable."
   ]
  },
  {
   "cell_type": "code",
   "execution_count": 10,
   "metadata": {
    "deletable": false,
    "nbgrader": {
     "cell_type": "code",
     "checksum": "aa0edea2c498ceebd2f9dbcae13bafb7",
     "grade": false,
     "grade_id": "cell-fef161fc8a6e05b2",
     "locked": false,
     "schema_version": 3,
     "solution": true,
     "task": false
    }
   },
   "outputs": [],
   "source": [
    "multilinear_reg = model.fit(df[['depth','table','carat']],df['price'])\n",
    "multilinear_intercept = multilinear_reg.intercept_\n",
    "depth_coef = multilinear_reg.coef_[0]\n",
    "table_coef = multilinear_reg.coef_[1]\n",
    "carat_coef = multilinear_reg.coef_[2]\n"
   ]
  },
  {
   "cell_type": "code",
   "execution_count": 11,
   "metadata": {
    "deletable": false,
    "editable": false,
    "nbgrader": {
     "cell_type": "code",
     "checksum": "44e5069dcd2fe3a45cc6e6e43d96c8f8",
     "grade": true,
     "grade_id": "cell-29c8fb4ef999ce91",
     "locked": true,
     "points": 1,
     "schema_version": 3,
     "solution": false,
     "task": false
    }
   },
   "outputs": [
    {
     "name": "stdout",
     "output_type": "stream",
     "text": [
      "🎉 All tests passed! 🎉\n",
      "\n"
     ]
    }
   ],
   "source": [
    "## == TEST CASES for 3 ==\n",
    "# - This read-only cell contains test cases for your previous cell.\n",
    "# - If this cell runs without any error our output, you PASSED all test cases!\n",
    "# - If this cell results in any errors, check you previous cell, make changes, and RE-RUN your code and then this cell.\n",
    "\n",
    "assert(round(depth_coef,5) == -151.23635), \"The coefficient of depth is incorrect.\"\n",
    "assert(round(table_coef,5) == -104.47278), \"The coefficient of table is incorrect.\"\n",
    "assert(round(carat_coef,5) == 7858.77051), \"The coefficient of carat is incorrect.\"\n",
    "assert(round(multilinear_intercept,5) == 13003.44052), \"The intercept of the regression model is incorrect.\"\n",
    "\n",
    "## == SUCCESS MESSAGE ==\n",
    "# You will only see this message (with the emoji showing) if you passed all test cases:\n",
    "tada = \"\\N{PARTY POPPER}\"\n",
    "print(f\"{tada} All tests passed! {tada}\")\n",
    "print()"
   ]
  },
  {
   "cell_type": "markdown",
   "metadata": {
    "deletable": false,
    "editable": false,
    "nbgrader": {
     "cell_type": "markdown",
     "checksum": "b1e8b8e9dc3fe0911cf12c53c2c5c002",
     "grade": false,
     "grade_id": "cell-14f57ce7a5fcb778",
     "locked": true,
     "schema_version": 3,
     "solution": false,
     "task": false
    }
   },
   "source": [
    "## 3. Submit Your Work\n",
    "\n",
    "In this notebook:\n",
    "\n",
    "1. Click **File** -> **Save and Checkpoint** (to save your work)\n",
    "2. Click **File** -> **Close and Halt** (to exit this notebook)\n",
    "\n",
    "Follow the instructions on the STAT 107 website to submit your work."
   ]
  }
 ],
 "metadata": {
  "kernelspec": {
   "display_name": "Python 3",
   "language": "python",
   "name": "python3"
  },
  "language_info": {
   "codemirror_mode": {
    "name": "ipython",
    "version": 3
   },
   "file_extension": ".py",
   "mimetype": "text/x-python",
   "name": "python",
   "nbconvert_exporter": "python",
   "pygments_lexer": "ipython3",
   "version": "3.7.3"
  }
 },
 "nbformat": 4,
 "nbformat_minor": 2
}
