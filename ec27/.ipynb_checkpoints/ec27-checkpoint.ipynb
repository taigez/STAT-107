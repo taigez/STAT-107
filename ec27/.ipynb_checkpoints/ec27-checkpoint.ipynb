{
 "cells": [
  {
   "cell_type": "markdown",
   "metadata": {
    "deletable": false,
    "editable": false,
    "nbgrader": {
     "cell_type": "markdown",
     "checksum": "10afd790e087077ee70da88ed7550c44",
     "grade": false,
     "grade_id": "cell-67e7afc4b4ff4e96",
     "locked": true,
     "schema_version": 3,
     "solution": false,
     "task": false
    }
   },
   "source": [
    "## EC Notebook for Lecture 27: CLT + Polling\n",
    "\n",
    "This extra credit Python notebook will let you practice the material you saw in lecture.  Completing all parts of this notebook will earn +1 extra credit point to your grade in STAT 107! :)\n",
    "\n",
    "This notebook is worth +1 if turned in before 11:30 am on **Monday, Nov. 4** *(30 minutes before the next STAT 107 lecture)*.  You can feel free to complete it anytime for extra practice."
   ]
  },
  {
   "cell_type": "markdown",
   "metadata": {
    "deletable": false,
    "editable": false,
    "nbgrader": {
     "cell_type": "markdown",
     "checksum": "f5443fcfe2a2c33885630a89dcc7fb75",
     "grade": false,
     "grade_id": "cell-959f443304692271",
     "locked": true,
     "schema_version": 3,
     "solution": false,
     "task": false
    }
   },
   "source": [
    "## 1. Function to calculate the number of people needed in the survey\n",
    "\n",
    "In the class, we saw a formula to calculate the number of people needed for a survey (with known underlying SD) to achieve confidence interval (level alpha) with a certain margin of error. <br>\n",
    "\n",
    "We will use the following notations: <br>\n",
    "\n",
    "**margin** : represents the margin of error required. <br>\n",
    "**SD** : underlying population standard deviation. <br>\n",
    "**confidence** : the confidence percentage. <br>\n",
    "**n** : the number of people required\n",
    "\n",
    "Write a function which takes **margin, SD** and **confidence** as inputs and outputs the number of people (**n**). <br>\n",
    "Reacall that the formula which we can use is as: <br>\n",
    "\n",
    "**n=(100 * z_confidence*SD/margin)^2**, <br>\n",
    "\n",
    "where **z_confidence** = **z_value** corresponding to **confidence** (example: 95% confidence has z_value = 1.96) <br>\n",
    "\n",
    "Note that the confidence is given in percentage. So, make sure to change it into a fraction while trying to calculate z_value."
   ]
  },
  {
   "cell_type": "code",
   "execution_count": 1,
   "metadata": {
    "deletable": false,
    "nbgrader": {
     "cell_type": "code",
     "checksum": "dd01f01cb7d9f331708e5c455ba90bd9",
     "grade": false,
     "grade_id": "cell-3182d2cfb9079fe2",
     "locked": false,
     "schema_version": 3,
     "solution": true,
     "task": false
    }
   },
   "outputs": [],
   "source": [
    "from scipy.stats import norm\n",
    "import math\n",
    "def n_calc(margin, SD, confidence):\n",
    "    #first calculate z_value\n",
    "    z_confidence = norm.ppf((1 - (confidence/100))/2 + (confidence/100))\n",
    "    #next, calculate and return n\n",
    "    n= (100*z_confidence*(SD/margin))**2\n",
    "    return math.ceil(n)\n",
    "\n",
    "\n"
   ]
  },
  {
   "cell_type": "code",
   "execution_count": 2,
   "metadata": {
    "deletable": false,
    "editable": false,
    "nbgrader": {
     "cell_type": "code",
     "checksum": "42e00d01c18082f289c08d506557dfe1",
     "grade": true,
     "grade_id": "cell-621e2757b30ebf38",
     "locked": true,
     "points": 1,
     "schema_version": 3,
     "solution": false,
     "task": false
    }
   },
   "outputs": [
    {
     "name": "stdout",
     "output_type": "stream",
     "text": [
      "🎉 All tests passed! 🎉\n",
      "\n"
     ]
    }
   ],
   "source": [
    "## == TEST CASES for 1 ==\n",
    "# - This read-only cell contains test cases for your previous cell.\n",
    "# - If this cell runs without any error our output, you PASSED all test cases!\n",
    "# - If this cell results in any errors, check you previous cell, make changes, and RE-RUN your code and then this cell.\n",
    "\n",
    "assert(n_calc(2,0.5,95) == 2401), \"Yikes! Make sure to double check that z_value is correct.\"\n",
    "\n",
    "## == SUCCESS MESSAGE ==\n",
    "# You will only see this message (with the emoji showing) if you passed all test cases:\n",
    "tada = \"\\N{PARTY POPPER}\"\n",
    "print(f\"{tada} All tests passed! {tada}\")\n",
    "print()\n"
   ]
  },
  {
   "cell_type": "markdown",
   "metadata": {
    "deletable": false,
    "editable": false,
    "nbgrader": {
     "cell_type": "markdown",
     "checksum": "2273a74cceab22b0035d66ec4a2d7f4d",
     "grade": false,
     "grade_id": "cell-4a8189a240ad40a2",
     "locked": true,
     "schema_version": 3,
     "solution": false,
     "task": false
    }
   },
   "source": [
    "## 2: The formula in action!\n",
    "\n",
    "### Part 1:\n",
    "We will write a simulation to toss a coin `n` times to estimate the probability of getting heads. Note that its population value (true value) is 0.5 (which we don't know!). <br>\n",
    "Before we write the simulation, suppose we want to estimate the probability with `4%` margin of error with `90%` confidence. First, calculate the number of tosses needed to achieve that. (**SD = 0.5**) <br>\n",
    "Hint: Use the function which you have defined above!"
   ]
  },
  {
   "cell_type": "code",
   "execution_count": 3,
   "metadata": {
    "deletable": false,
    "nbgrader": {
     "cell_type": "code",
     "checksum": "ac8017b0b1ae532b15a3af91c8ecc619",
     "grade": false,
     "grade_id": "cell-2ff20b5b160999ef",
     "locked": false,
     "schema_version": 3,
     "solution": true,
     "task": false
    }
   },
   "outputs": [],
   "source": [
    "n_toss = n_calc(4,0.5,90)\n",
    "\n",
    "\n"
   ]
  },
  {
   "cell_type": "markdown",
   "metadata": {
    "deletable": false,
    "editable": false,
    "nbgrader": {
     "cell_type": "markdown",
     "checksum": "d8fac247b5b5c0aba031cd9990cadac0",
     "grade": false,
     "grade_id": "cell-c2c005c6369b41a3",
     "locked": true,
     "schema_version": 3,
     "solution": false,
     "task": false
    }
   },
   "source": [
    "### Part 2:\n",
    "\n",
    "Now, write the simulation of tossing a coin `n_toss` many times. Calculate the margin of error that you get at `90%` confidence. Is it close to 4? <br>\n",
    "Consider assigning **Heads = 1 and Tails = 0**."
   ]
  },
  {
   "cell_type": "code",
   "execution_count": 5,
   "metadata": {
    "deletable": false,
    "nbgrader": {
     "cell_type": "code",
     "checksum": "e4b80725406d7ae9925afc39b65eaa35",
     "grade": false,
     "grade_id": "cell-2df596612092f1ba",
     "locked": false,
     "schema_version": 3,
     "solution": true,
     "task": false
    }
   },
   "outputs": [
    {
     "data": {
      "text/plain": [
       "3.998776005175958"
      ]
     },
     "execution_count": 5,
     "metadata": {},
     "output_type": "execute_result"
    }
   ],
   "source": [
    "z_value = norm.ppf(0.95)\n",
    "import random\n",
    "import pandas as pd\n",
    "import math\n",
    "\n",
    "data = []\n",
    "for i in range(n_toss):\n",
    "    toss = random.randint(0,1)\n",
    "    d = {\"toss\": toss}\n",
    "    data.append(d)\n",
    "df = pd.DataFrame(data)\n",
    "\n",
    "se = 0.5/math.sqrt(n_toss)\n",
    "margin = 100*z_value*se    \n",
    "margin\n",
    "\n"
   ]
  },
  {
   "cell_type": "code",
   "execution_count": null,
   "metadata": {},
   "outputs": [],
   "source": []
  }
 ],
 "metadata": {
  "kernelspec": {
   "display_name": "Python 3",
   "language": "python",
   "name": "python3"
  },
  "language_info": {
   "codemirror_mode": {
    "name": "ipython",
    "version": 3
   },
   "file_extension": ".py",
   "mimetype": "text/x-python",
   "name": "python",
   "nbconvert_exporter": "python",
   "pygments_lexer": "ipython3",
   "version": "3.7.3"
  }
 },
 "nbformat": 4,
 "nbformat_minor": 2
}
