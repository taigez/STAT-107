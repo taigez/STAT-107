{
 "cells": [
  {
   "cell_type": "markdown",
   "metadata": {
    "deletable": false,
    "editable": false,
    "nbgrader": {
     "cell_type": "markdown",
     "checksum": "e1f025659376214bc2a20d35a71f8ee0",
     "grade": false,
     "grade_id": "cell-ca7457947c03ac72",
     "locked": true,
     "schema_version": 3,
     "solution": false,
     "task": false
    }
   },
   "source": [
    "## EC Notebook for Lecture 31: RMSE in Linear Regression\n",
    "\n",
    "This extra credit Python notebook will let you practice the material you saw in lecture.  Completing all parts of this notebook will earn +1 extra credit point to your grade in STAT 107! :)\n",
    "\n",
    "This notebook is worth +1 if turned in before 11:30 am on **Monday, Nov. 11** *(30 minutes before the next STAT 107 lecture)*.  You can feel free to complete it anytime for extra practice."
   ]
  },
  {
   "cell_type": "markdown",
   "metadata": {
    "deletable": false,
    "editable": false,
    "nbgrader": {
     "cell_type": "markdown",
     "checksum": "389dea4c7286fe0dc1890b753c99984b",
     "grade": false,
     "grade_id": "cell-cfa9a6d93e0ab320",
     "locked": true,
     "schema_version": 3,
     "solution": false,
     "task": false
    }
   },
   "source": [
    "## RMSE\n",
    "\n",
    "In this EC notebook, we will use the `beer-dataset`. Our goals will be as follows: <br>\n",
    "1) Fit a Linear regression model of `Carbohydrates`(dependent variable ~ **y**) vs `PercentAlcohol` (independent variable ~**x**). <br>\n",
    "2) Calculate RMSE of the fitted model using the formula: <br>\n",
    "$$RMSE=SD_{errors}=(1-r^2)^{1/2}*SD_y$$. <br>\n",
    "3) Calculate the RMSE by taking the root of mean of squared difference between predicted and the original values (`Carbohydrates`). We will write a function for this step."
   ]
  },
  {
   "cell_type": "markdown",
   "metadata": {
    "deletable": false,
    "editable": false,
    "nbgrader": {
     "cell_type": "markdown",
     "checksum": "e23b38b5c4f3c8a25a2fe91a3cc29c75",
     "grade": false,
     "grade_id": "cell-c2cbfd6290b97af4",
     "locked": true,
     "schema_version": 3,
     "solution": false,
     "task": false
    }
   },
   "source": [
    "##  1. Linear Model\n",
    "\n",
    "Load the beer-dataset. First, let's fit a linear regression model by considering `PercentAlcohol` as independent variable (**x**) and `Carbohydrates` as dependent variable (**y**). Also, find out the slope and the intercept term."
   ]
  },
  {
   "cell_type": "code",
   "execution_count": 2,
   "metadata": {
    "deletable": false,
    "nbgrader": {
     "cell_type": "code",
     "checksum": "bfb19df2ab43caebe29f68be04044ea9",
     "grade": false,
     "grade_id": "cell-351d38d62038f3f5",
     "locked": false,
     "schema_version": 3,
     "solution": true,
     "task": false
    }
   },
   "outputs": [
    {
     "name": "stdout",
     "output_type": "stream",
     "text": [
      "[3.03190839]\n",
      "-3.544086376301504\n"
     ]
    }
   ],
   "source": [
    "import pandas as pd\n",
    "# load the dataset and store it in df\n",
    "df = pd.read_csv('beer-dataset.csv')\n",
    "\n",
    "from sklearn.linear_model import LinearRegression\n",
    "model = LinearRegression()\n",
    "# Now, use model.fit\n",
    "reg = model.fit(df[['PercentAlcohol']],df['Carbohydrates'])\n",
    "slope = reg.coef_\n",
    "intercept = reg.intercept_\n",
    "print(slope)\n",
    "print(intercept)\n",
    "\n",
    "\n"
   ]
  },
  {
   "cell_type": "code",
   "execution_count": 3,
   "metadata": {
    "deletable": false,
    "editable": false,
    "nbgrader": {
     "cell_type": "code",
     "checksum": "ba50a78dc8469eb4c9bc7429a4ec00a6",
     "grade": true,
     "grade_id": "cell-bfb8f8c7929ded38",
     "locked": true,
     "points": 1,
     "schema_version": 3,
     "solution": false,
     "task": false
    }
   },
   "outputs": [
    {
     "name": "stdout",
     "output_type": "stream",
     "text": [
      "🎉 All tests passed! 🎉\n",
      "\n"
     ]
    }
   ],
   "source": [
    "## == TEST CASES for 1 ==\n",
    "# - This read-only cell contains test cases for your previous cell.\n",
    "# - If this cell runs without any error our output, you PASSED all test cases!\n",
    "# - If this cell results in any errors, check you previous cell, make changes, and RE-RUN your code and then this cell.\n",
    "\n",
    "assert(round(slope[0],2) == 3.03), \"The slope is incorrect.\"\n",
    "assert(round(intercept,2) == -3.54), \"The intercept is incorrect.\"\n",
    "\n",
    "## == SUCCESS MESSAGE ==\n",
    "# You will only see this message (with the emoji showing) if you passed all test cases:\n",
    "tada = \"\\N{PARTY POPPER}\"\n",
    "print(f\"{tada} All tests passed! {tada}\")\n",
    "print()"
   ]
  },
  {
   "cell_type": "markdown",
   "metadata": {
    "deletable": false,
    "editable": false,
    "nbgrader": {
     "cell_type": "markdown",
     "checksum": "a0e69f22113362e54d0821d5e186f124",
     "grade": false,
     "grade_id": "cell-1d92d282ac7a1759",
     "locked": true,
     "schema_version": 3,
     "solution": false,
     "task": false
    }
   },
   "source": [
    "##  2. RMSE using the formula\n",
    "\n",
    "As mentioned above, we will use the following formula to calculate RMSE:\n",
    "$$RMSE=SD_{errors}=(1-r^2)^{1/2}*SD_y$$\n",
    "We will need to calculate **r** and $SD_y$ for this purpose. <br>\n",
    "\n",
    "1) **r** is the correlation between `Carbohydrates` and `PercentAlcohol`. <br>\n",
    "2) $SD_y$ is the std (standard deviation) of `Carbohydrates`. <br>\n",
    "\n",
    "A syntax for your help: <br>\n",
    "`df[\"a\"].corr(df[\"b\"])` gives correlation between column `a` and column `b`.\n"
   ]
  },
  {
   "cell_type": "code",
   "execution_count": 9,
   "metadata": {
    "deletable": false,
    "nbgrader": {
     "cell_type": "code",
     "checksum": "ed9ea8498255702e2a77643d49cd13f9",
     "grade": false,
     "grade_id": "cell-e944a7df4529ca47",
     "locked": false,
     "schema_version": 3,
     "solution": true,
     "task": false
    }
   },
   "outputs": [
    {
     "name": "stdout",
     "output_type": "stream",
     "text": [
      "3.8585450410889286\n"
     ]
    }
   ],
   "source": [
    "r = df['Carbohydrates'].corr(df['PercentAlcohol'])\n",
    "# Use std()...but on which column!?\n",
    "SD_y = df['Carbohydrates'].std()\n",
    "# Now, use the formula!\n",
    "RMSE = (1-r**2)**0.5*SD_y\n",
    "print(RMSE)\n",
    "\n",
    "\n",
    "\n"
   ]
  },
  {
   "cell_type": "code",
   "execution_count": 10,
   "metadata": {
    "deletable": false,
    "editable": false,
    "nbgrader": {
     "cell_type": "code",
     "checksum": "934d4f6e5911e544e55544a2cdcf75ea",
     "grade": true,
     "grade_id": "cell-16cf28eb7c11ad0e",
     "locked": true,
     "points": 1,
     "schema_version": 3,
     "solution": false,
     "task": false
    }
   },
   "outputs": [
    {
     "name": "stdout",
     "output_type": "stream",
     "text": [
      "🎉 All tests passed! 🎉\n",
      "\n"
     ]
    }
   ],
   "source": [
    "## == TEST CASES for 2 ==\n",
    "# - This read-only cell contains test cases for your previous cell.\n",
    "# - If this cell runs without any error our output, you PASSED all test cases!\n",
    "# - If this cell results in any errors, check you previous cell, make changes, and RE-RUN your code and then this cell.\n",
    "\n",
    "assert(round(r,2) == 0.42), \"The r is incorrect.\"\n",
    "assert(round(SD_y,2) == 4.25), \"The SD_y is incorrect.\"\n",
    "assert(round(RMSE,2) == 3.86), \"The RMSE is incorrect.\"\n",
    "\n",
    "## == SUCCESS MESSAGE ==\n",
    "# You will only see this message (with the emoji showing) if you passed all test cases:\n",
    "tada = \"\\N{PARTY POPPER}\"\n",
    "print(f\"{tada} All tests passed! {tada}\")\n",
    "print()"
   ]
  },
  {
   "cell_type": "markdown",
   "metadata": {
    "deletable": false,
    "editable": false,
    "nbgrader": {
     "cell_type": "markdown",
     "checksum": "78eb1e71ec83732a0ee278b1c08b5932",
     "grade": false,
     "grade_id": "cell-e6464db6e468214d",
     "locked": true,
     "schema_version": 3,
     "solution": false,
     "task": false
    }
   },
   "source": [
    "##  3 RMSE with the help of predicted values.\n",
    "\n",
    "First, we will predict values of Carbohydrates based on our linear regression. <br>\n",
    "Then, we will write a function which takes two columns as input and outputs the root mean squared difference between the two columns. We will use this function to calculate RMSE."
   ]
  },
  {
   "cell_type": "code",
   "execution_count": 14,
   "metadata": {
    "deletable": false,
    "nbgrader": {
     "cell_type": "code",
     "checksum": "9a43878127016141e1eaf9cdc69dcd99",
     "grade": false,
     "grade_id": "cell-fef161fc8a6e05b2",
     "locked": false,
     "schema_version": 3,
     "solution": true,
     "task": false
    }
   },
   "outputs": [
    {
     "name": "stdout",
     "output_type": "stream",
     "text": [
      "3.835780564884537\n"
     ]
    }
   ],
   "source": [
    "# Use model.predict\n",
    "df[\"predicted\"] = reg.predict(df[['PercentAlcohol']])\n",
    "\n",
    "def rmse(column1,column2):\n",
    "    df['difference'] = column1 - column2\n",
    "    df['squared_difference'] = df['difference']**2\n",
    "    mean = df['squared_difference'].mean()\n",
    "    return mean**0.5\n",
    "    \n",
    "print(rmse(df[\"predicted\"],df[\"Carbohydrates\"])) # This is our RMSE\n",
    "\n",
    "\n"
   ]
  },
  {
   "cell_type": "code",
   "execution_count": 15,
   "metadata": {
    "deletable": false,
    "editable": false,
    "nbgrader": {
     "cell_type": "code",
     "checksum": "08322421b56dc0db5c57a62aac109f51",
     "grade": true,
     "grade_id": "cell-6f61254e771fe914",
     "locked": true,
     "points": 1,
     "schema_version": 3,
     "solution": false,
     "task": false
    }
   },
   "outputs": [
    {
     "name": "stdout",
     "output_type": "stream",
     "text": [
      "🎉 All tests passed! 🎉\n",
      "\n"
     ]
    }
   ],
   "source": [
    "## == TEST CASES for 3 ==\n",
    "# - This read-only cell contains test cases for your previous cell.\n",
    "# - If this cell runs without any error our output, you PASSED all test cases!\n",
    "# - If this cell results in any errors, check you previous cell, make changes, and RE-RUN your code and then this cell.\n",
    "\n",
    "assert(round(rmse(df[\"predicted\"],df[\"Carbohydrates\"]),2) == 3.84), \"The RMSE is incorrect.\"\n",
    "\n",
    "\n",
    "## == SUCCESS MESSAGE ==\n",
    "# You will only see this message (with the emoji showing) if you passed all test cases:\n",
    "tada = \"\\N{PARTY POPPER}\"\n",
    "print(f\"{tada} All tests passed! {tada}\")\n",
    "print()"
   ]
  },
  {
   "cell_type": "markdown",
   "metadata": {
    "deletable": false,
    "editable": false,
    "nbgrader": {
     "cell_type": "markdown",
     "checksum": "b1e8b8e9dc3fe0911cf12c53c2c5c002",
     "grade": false,
     "grade_id": "cell-14f57ce7a5fcb778",
     "locked": true,
     "schema_version": 3,
     "solution": false,
     "task": false
    }
   },
   "source": [
    "## 3. Submit Your Work\n",
    "\n",
    "In this notebook:\n",
    "\n",
    "1. Click **File** -> **Save and Checkpoint** (to save your work)\n",
    "2. Click **File** -> **Close and Halt** (to exit this notebook)\n",
    "\n",
    "Follow the instructions on the STAT 107 website to submit your work."
   ]
  }
 ],
 "metadata": {
  "kernelspec": {
   "display_name": "Python 3",
   "language": "python",
   "name": "python3"
  },
  "language_info": {
   "codemirror_mode": {
    "name": "ipython",
    "version": 3
   },
   "file_extension": ".py",
   "mimetype": "text/x-python",
   "name": "python",
   "nbconvert_exporter": "python",
   "pygments_lexer": "ipython3",
   "version": "3.7.3"
  }
 },
 "nbformat": 4,
 "nbformat_minor": 2
}
