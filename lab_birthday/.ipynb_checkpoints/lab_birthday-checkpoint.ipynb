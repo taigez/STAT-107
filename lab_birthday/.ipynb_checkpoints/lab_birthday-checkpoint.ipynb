{
 "cells": [
  {
   "cell_type": "markdown",
   "metadata": {},
   "source": [
    "# Happy Birthday!\n",
    "\n",
    "Just kidding, it's *(probably, with P=0.9973)* not your birthday, but it might be someone's birthday in this room! Taylor Swift says she will come and give a free concert on THE QUAD on March 14th if it is someone's birthday on that day. Now obviously the students want to make this happen, so they ask you to do some calculations regarding the probability of the concert happening.\n",
    "\n",
    "- For these puzzles, we assume that each year is 365 days (ignore leap years)\n",
    "- We also assume that everyone has an equal chance of a birthday each day *(not actually true IRL)*\n",
    "\n",
    "## Review: Random Numbers in Python\n",
    "\n",
    "Python provides an extremely easy way to generate a random integer (whole) number.  You need to take only two steps.\n",
    "\n",
    "#### Step 1: Import Libraries\n",
    "\n",
    "1\\. `import` the `random` and `pandas` library"
   ]
  },
  {
   "cell_type": "code",
   "execution_count": 1,
   "metadata": {
    "deletable": false,
    "nbgrader": {
     "cell_type": "code",
     "checksum": "084f93139a0be36aa1ec41a537004442",
     "grade": false,
     "grade_id": "cell-18f4035da8f5ab1e",
     "locked": false,
     "schema_version": 3,
     "solution": true,
     "task": false
    }
   },
   "outputs": [],
   "source": [
    "import random \n",
    "import pandas as pd"
   ]
  },
  {
   "cell_type": "markdown",
   "metadata": {},
   "source": [
    "#### Step 2: Random Number\n",
    "\n",
    "2\\. Use the function `random.randint(x, y)`, where `x` and `y` are numbers, which will return in the inclusive range `x` to `y`.\n",
    "\n",
    "- Example: `random.randint(4, 10)` randomly chooses `4`, `5`, `6`, `7`, `8`, `9` or `10`\n",
    "- Example: `random.randint(0, 1)` randomly chooses `0` or `1`\n",
    "\n",
    "In the following cell, generate a random number that represents a day in the year.  (**HINT**: *How many days are there every year?*)"
   ]
  },
  {
   "cell_type": "code",
   "execution_count": 2,
   "metadata": {
    "deletable": false,
    "nbgrader": {
     "cell_type": "code",
     "checksum": "28b6169c06b98f25c8c5bc6c4a6b7975",
     "grade": false,
     "grade_id": "cell-c2dd17defd9fa8a2",
     "locked": false,
     "schema_version": 3,
     "solution": true,
     "task": false
    }
   },
   "outputs": [],
   "source": [
    "some_day = random.randint(1,365)\n",
    "\n"
   ]
  },
  {
   "cell_type": "markdown",
   "metadata": {},
   "source": [
    "## Puzzle 1: My Birthday\n",
    "\n",
    "The **birthday problem** is a classic problem we covered in lecture that asks: *How likely is it for at least two people in a room of n people to share a birthday?*  In other words, what's the chance that there's at least one match of birthdays in a room with n people? We'll cover this Puzzle \\#2.\n",
    "\n",
    "\n",
    "### \"My Birthday Problem\"\n",
    "\n",
    "Instead of doing the same thing in lecture, let's consider **your birthday**: \n",
    "\n",
    "> *How likely is it for at least one person in a room to have the same birthday as **me**?*\n",
    "\n",
    "### One Other Person (n=1)\n",
    "\n",
    "If you are in a room with **one other person**, what is the probability you both have the same birthday? (*Of course you know your own birthday!*)"
   ]
  },
  {
   "cell_type": "code",
   "execution_count": 3,
   "metadata": {
    "deletable": false,
    "nbgrader": {
     "cell_type": "code",
     "checksum": "b6d3e5e40942afd41ec7d8f2325dae98",
     "grade": false,
     "grade_id": "cell-16021a893dda10f8",
     "locked": false,
     "schema_version": 3,
     "solution": true,
     "task": false
    }
   },
   "outputs": [
    {
     "data": {
      "text/plain": [
       "0.0027397260273972603"
      ]
     },
     "execution_count": 3,
     "metadata": {},
     "output_type": "execute_result"
    }
   ],
   "source": [
    "p_one_person_my_birthday = 1/365\n",
    "p_one_person_my_birthday\n",
    "\n"
   ]
  },
  {
   "cell_type": "markdown",
   "metadata": {},
   "source": [
    "### Two Other People (n=2)\n",
    "\n",
    "If you are in a room with **two other people**, what is the probability that at least one of them has the same birthday as you?"
   ]
  },
  {
   "cell_type": "code",
   "execution_count": 4,
   "metadata": {
    "deletable": false,
    "nbgrader": {
     "cell_type": "code",
     "checksum": "a95a7132e37162b6357c9bb881d67265",
     "grade": false,
     "grade_id": "cell-d776448804b67dfc",
     "locked": false,
     "schema_version": 3,
     "solution": true,
     "task": false
    }
   },
   "outputs": [
    {
     "data": {
      "text/plain": [
       "0.005471945956089352"
      ]
     },
     "execution_count": 4,
     "metadata": {},
     "output_type": "execute_result"
    }
   ],
   "source": [
    "p_two_others_my_birthday = 1 - (364/365)**2\n",
    "p_two_others_my_birthday\n",
    "\n"
   ]
  },
  {
   "cell_type": "markdown",
   "metadata": {},
   "source": [
    "### Three Other People (n=3)\n",
    "\n",
    "If you are in a room with **three other people**, what is the probability that at least one of them has the same birthday as you?"
   ]
  },
  {
   "cell_type": "code",
   "execution_count": 5,
   "metadata": {
    "deletable": false,
    "nbgrader": {
     "cell_type": "code",
     "checksum": "5e2a6ff437cc6c85677b49c5f4fd8024",
     "grade": false,
     "grade_id": "cell-9b6271534fe56ab1",
     "locked": false,
     "schema_version": 3,
     "solution": true,
     "task": false
    }
   },
   "outputs": [
    {
     "data": {
      "text/plain": [
       "0.008196680350730179"
      ]
     },
     "execution_count": 5,
     "metadata": {},
     "output_type": "execute_result"
    }
   ],
   "source": [
    "p_three_others_my_birthday = 1 - (364/365)**3\n",
    "p_three_others_my_birthday\n",
    "\n"
   ]
  },
  {
   "cell_type": "code",
   "execution_count": 6,
   "metadata": {
    "deletable": false,
    "editable": false,
    "nbgrader": {
     "cell_type": "code",
     "checksum": "16e4e8ea5a2341e555764f9ec2e14b78",
     "grade": true,
     "grade_id": "cell-2213109ad4022435",
     "locked": true,
     "points": 0,
     "schema_version": 3,
     "solution": false,
     "task": false
    }
   },
   "outputs": [
    {
     "name": "stdout",
     "output_type": "stream",
     "text": [
      "🎉 All tests passed! 🎉\n"
     ]
    }
   ],
   "source": [
    "## == TEST CASES for Puzzle 1a ==\n",
    "# - This read-only cell contains test cases for your previous cells.\n",
    "# - If this cell runs without any error our output, you PASSED all test cases!\n",
    "# - If this cell results in any errors, check you previous cell, make changes, and RE-RUN your code and then this cell.\n",
    "\n",
    "assert(abs(p_one_person_my_birthday - 0.0027397) < 0.001), \"The probability for one birthday doesn't seem right.\"\n",
    "assert(abs(p_two_others_my_birthday - 0.0054719) < 0.001), \"The probability for two birthdays doesn't seem right.\"\n",
    "assert(abs(p_three_others_my_birthday - 0.0081966) < 0.001), \"The probability for three birthdays doesn't seem right.\"\n",
    "\n",
    "## == SUCCESS MESSAGE ==\n",
    "# You will only see this message (with the emoji showing) if you passed all test cases:\n",
    "tada = \"\\N{PARTY POPPER}\"\n",
    "print(f\"{tada} All tests passed! {tada}\")"
   ]
  },
  {
   "cell_type": "markdown",
   "metadata": {},
   "source": [
    "### `n` Other People\n",
    "\n",
    "Suppose we have a room with **`n` other people**.  Complete the function `p_my_birthday(n)` that returns the probability that at least one person has the same birthday as you:\n"
   ]
  },
  {
   "cell_type": "code",
   "execution_count": 7,
   "metadata": {
    "deletable": false,
    "nbgrader": {
     "cell_type": "code",
     "checksum": "d5c853de63ccf0acbdbec7a4a33cec91",
     "grade": false,
     "grade_id": "cell-9fcc75505fada2fa",
     "locked": false,
     "schema_version": 3,
     "solution": true,
     "task": false
    }
   },
   "outputs": [],
   "source": [
    "def p_my_birthday(n):\n",
    "    x = 1 - (364/365)**n\n",
    "    return x\n",
    "    \n"
   ]
  },
  {
   "cell_type": "markdown",
   "metadata": {},
   "source": [
    "### Running Your Function:\n",
    "\n",
    "Here are a few functions to test our function.  Make sure the answers are what you expect:"
   ]
  },
  {
   "cell_type": "code",
   "execution_count": 8,
   "metadata": {},
   "outputs": [
    {
     "name": "stdout",
     "output_type": "stream",
     "text": [
      "A room with one other person: 0.002739726027397249\n",
      "A room with two other people: 0.005471945956089352\n",
      "A room with three other people: 0.008196680350730179\n",
      "A room with 100 other people: 0.23993292618409912\n",
      "A room with 1000 other people: 0.9356543499651447\n",
      "A room with 10000 other people: 0.9999999999987833\n"
     ]
    }
   ],
   "source": [
    "print('A room with one other person:', p_my_birthday(1))\n",
    "print('A room with two other people:', p_my_birthday(2))\n",
    "print('A room with three other people:', p_my_birthday(3))\n",
    "print('A room with 100 other people:', p_my_birthday(100))\n",
    "print('A room with 1000 other people:', p_my_birthday(1000))\n",
    "print('A room with 10000 other people:', p_my_birthday(10000))"
   ]
  },
  {
   "cell_type": "code",
   "execution_count": 9,
   "metadata": {
    "deletable": false,
    "editable": false,
    "nbgrader": {
     "cell_type": "code",
     "checksum": "402327839a86f4ea6a2ff359bd1fbac8",
     "grade": true,
     "grade_id": "cell-f1a2b09260950b38",
     "locked": true,
     "points": 0,
     "schema_version": 3,
     "solution": false,
     "task": false
    }
   },
   "outputs": [
    {
     "name": "stdout",
     "output_type": "stream",
     "text": [
      "🎉 All tests passed! 🎉\n"
     ]
    }
   ],
   "source": [
    "## == TEST CASES for Puzzle 1b ==\n",
    "# - This read-only cell contains test cases for your previous cells.\n",
    "# - If this cell runs without any error our output, you PASSED all test cases!\n",
    "# - If this cell results in any errors, check you previous cell, make changes, and RE-RUN your code and then this cell.\n",
    "\n",
    "assert(abs(p_my_birthday(1) - 0.0027397) < 0.001), \"The probability doesn't seem right.\"\n",
    "assert(abs(p_my_birthday(2) - 0.0054719) < 0.001), \"The probability doesn't seem right.\"\n",
    "assert(abs(p_my_birthday(3) - 0.0081966) < 0.001), \"The probability doesn't seem right.\"\n",
    "assert(abs(p_my_birthday(100) - 0.23993292) < 0.001), \"The probability doesn't seem right.\"\n",
    "assert(abs(p_my_birthday(1000) - 0.93565) < 0.001), \"The probability doesn't seem right.\"\n",
    "\n",
    "## == SUCCESS MESSAGE ==\n",
    "# You will only see this message (with the emoji showing) if you passed all test cases:\n",
    "tada = \"\\N{PARTY POPPER}\"\n",
    "print(f\"{tada} All tests passed! {tada}\")"
   ]
  },
  {
   "cell_type": "markdown",
   "metadata": {},
   "source": [
    "## Result Plot\n",
    "\n",
    "The following code below uses your `p_my_birthday` function to generate a plot showing the probability of you having the same birthday as someone else increasing as the number of people in the room grows:"
   ]
  },
  {
   "cell_type": "code",
   "execution_count": 25,
   "metadata": {},
   "outputs": [
    {
     "data": {
      "text/plain": [
       "<matplotlib.axes._subplots.AxesSubplot at 0x251be19d710>"
      ]
     },
     "execution_count": 25,
     "metadata": {},
     "output_type": "execute_result"
    },
    {
     "data": {
      "image/png": "[encoded data removed]",
      "text/plain": [
       "<Figure size 432x288 with 1 Axes>"
      ]
     },
     "metadata": {
      "needs_background": "light"
     },
     "output_type": "display_data"
    }
   ],
   "source": [
    "# Create a new empty list, append 2,000 results to it:\n",
    "results = []\n",
    "for i in range(2000):\n",
    "    results.append( {'Other People': i, 'P(at least one person shares my birthday)': p_my_birthday(i) } )\n",
    "    \n",
    "# Create a DataFrame out of that list:\n",
    "df = pd.DataFrame( results )\n",
    "\n",
    "# Show a plot of our DataFrame:\n",
    "plot = df.plot.line(y='P(at least one person shares my birthday)', x='Other People', grid=True)\n",
    "#\n",
    "plot"
   ]
  },
  {
   "cell_type": "markdown",
   "metadata": {},
   "source": [
    "## Puzzle 2: The Classic Birthday Problem\n",
    "\n",
    "The **birthday problem** is a classic problem that asks: *How likely is it for at least two people in a room to share a birthday?*\n",
    "\n",
    "\n",
    "### A One-Person Party (n=1)\n",
    "\n",
    "Let's start with just one person.  The probability that they share a birthday with someone else is... well... 0%. :(\n",
    "\n",
    "$P(shared\\ birthday\\ with\\ 1\\ person) = 0$\n",
    "\n",
    "\n",
    "### A Two-Person Party (n=2)\n",
    "\n",
    "The probability of two people sharing the same birthday is non-zero!  This is the probability of the second person having exactly the same birthday as the first -- 1 out of 365!\n",
    "\n",
    "$P(shared\\ birthday\\ with\\ 2\\ people) = \\frac{1}{365}$\n",
    "\n",
    "\n",
    "### A Three-Person Party (n=3)\n",
    "\n",
    "Now it gets interesting!  In a three person party, what is the probability that there is **at least one** match of birthdays?\n",
    "\n",
    "Use the following cell to find the answer in Python:"
   ]
  },
  {
   "cell_type": "code",
   "execution_count": 19,
   "metadata": {
    "deletable": false,
    "nbgrader": {
     "cell_type": "code",
     "checksum": "e9831e9fa2a6e200fd29753392f1d735",
     "grade": false,
     "grade_id": "cell-9db7fd67d49459bd",
     "locked": false,
     "schema_version": 3,
     "solution": true,
     "task": false
    }
   },
   "outputs": [
    {
     "data": {
      "text/plain": [
       "0.008204165884781345"
      ]
     },
     "execution_count": 19,
     "metadata": {},
     "output_type": "execute_result"
    }
   ],
   "source": [
    "P_three_person_party = 1 - ((365/365) * (364/365) * (363/365))\n",
    "P_three_person_party\n",
    "\n"
   ]
  },
  {
   "cell_type": "code",
   "execution_count": 20,
   "metadata": {
    "deletable": false,
    "editable": false,
    "nbgrader": {
     "cell_type": "code",
     "checksum": "b1f16d596e772a21142ae25965508687",
     "grade": true,
     "grade_id": "cell-3aa5b5a4afef9fbc",
     "locked": true,
     "points": 0,
     "schema_version": 3,
     "solution": false,
     "task": false
    }
   },
   "outputs": [
    {
     "name": "stdout",
     "output_type": "stream",
     "text": [
      "🎉 All tests passed! 🎉\n"
     ]
    }
   ],
   "source": [
    "## == TEST CASES for Puzzle 2 (with n=3) ==\n",
    "# - This read-only cell contains test cases for your previous cell.\n",
    "# - If this cell runs without any error our output, you PASSED all test cases!\n",
    "# - If this cell results in any errors, check you previous cell, make changes, and RE-RUN your code and then this cell.\n",
    "\n",
    "assert(abs(P_three_person_party - 0.0082041) < 0.001), \"The probability doesn't seem right.\"\n",
    "\n",
    "## == SUCCESS MESSAGE ==\n",
    "# You will only see this message (with the emoji showing) if you passed all test cases:\n",
    "tada = \"\\N{PARTY POPPER}\"\n",
    "print(f\"{tada} All tests passed! {tada}\")"
   ]
  },
  {
   "cell_type": "markdown",
   "metadata": {},
   "source": [
    "### A Four-Person Party (n=4)\n",
    "\n",
    "In a four person party, what is the probability that there is **at least one** match of birthdays?\n",
    "\n",
    "Use the following cell to find the answer in Python:"
   ]
  },
  {
   "cell_type": "code",
   "execution_count": 21,
   "metadata": {
    "deletable": false,
    "nbgrader": {
     "cell_type": "code",
     "checksum": "657a311470a372f352c0e12e3d8032f1",
     "grade": false,
     "grade_id": "cell-1a5b32da97b97164",
     "locked": false,
     "schema_version": 3,
     "solution": true,
     "task": false
    }
   },
   "outputs": [
    {
     "data": {
      "text/plain": [
       "0.016355912466550215"
      ]
     },
     "execution_count": 21,
     "metadata": {},
     "output_type": "execute_result"
    }
   ],
   "source": [
    "P_four_person_party = 1 - ((365/365) * (364/365) * (363/365) * (362/365))\n",
    "P_four_person_party\n",
    "\n",
    "\n"
   ]
  },
  {
   "cell_type": "code",
   "execution_count": 22,
   "metadata": {
    "deletable": false,
    "editable": false,
    "nbgrader": {
     "cell_type": "code",
     "checksum": "76758b4976205c7f5326d215541e37ee",
     "grade": true,
     "grade_id": "cell-571231fcdfa9de08",
     "locked": true,
     "points": 1,
     "schema_version": 3,
     "solution": false,
     "task": false
    }
   },
   "outputs": [
    {
     "name": "stdout",
     "output_type": "stream",
     "text": [
      "🎉 All tests passed! 🎉\n"
     ]
    }
   ],
   "source": [
    "## == TEST CASES for Puzzle 2 (with n=4) ==\n",
    "# - This read-only cell contains test cases for your previous cell.\n",
    "# - If this cell runs without any error our output, you PASSED all test cases!\n",
    "# - If this cell results in any errors, check you previous cell, make changes, and RE-RUN your code and then this cell.\n",
    "\n",
    "assert(abs(P_four_person_party - 0.01635) < 0.001), \"The probability doesn't seem right.\"\n",
    "\n",
    "## == SUCCESS MESSAGE ==\n",
    "# You will only see this message (with the emoji showing) if you passed all test cases:\n",
    "tada = \"\\N{PARTY POPPER}\"\n",
    "print(f\"{tada} All tests passed! {tada}\")"
   ]
  },
  {
   "cell_type": "markdown",
   "metadata": {},
   "source": [
    "### An `n`-person Party\n",
    "\n",
    "Create a function `P_shared_birthday` that returns the probability that there is **at least one** match of birthdays?"
   ]
  },
  {
   "cell_type": "code",
   "execution_count": 23,
   "metadata": {
    "deletable": false,
    "nbgrader": {
     "cell_type": "code",
     "checksum": "d601bdb41e81959481146c5479e21f56",
     "grade": false,
     "grade_id": "cell-8826e853f191d14f",
     "locked": false,
     "schema_version": 3,
     "solution": true,
     "task": false
    }
   },
   "outputs": [
    {
     "name": "stdout",
     "output_type": "stream",
     "text": [
      "A room with just you: 0.0\n",
      "A room with two people: 0.002739726027397249\n",
      "A room with three person: 0.008204165884781345\n",
      "A room with four person: 0.016355912466550215\n",
      "A room with 40 other person: 0.891231809817949\n",
      "A room with 80 other person: 0.9999143319493135\n",
      "A room with 400 other person: 1.0\n"
     ]
    }
   ],
   "source": [
    "def P_shared_birthday(n):\n",
    "    x = 1\n",
    "    count = 0\n",
    "    for i in range(n):\n",
    "        x = ((365-count) / 365) * x\n",
    "        count += 1\n",
    "    \n",
    "    \n",
    "    ans = 1 - x\n",
    "    return ans\n",
    "       \n",
    "\n",
    "\n",
    "\n",
    "# Here's a few tests that will \n",
    "print('A room with just you:',  P_shared_birthday(1))\n",
    "print('A room with two people:',  P_shared_birthday(2))\n",
    "print('A room with three person:',  P_shared_birthday(3))\n",
    "print('A room with four person:',  P_shared_birthday(4))\n",
    "print('A room with 40 other person:',  P_shared_birthday(40))\n",
    "print('A room with 80 other person:',  P_shared_birthday(80))\n",
    "print('A room with 400 other person:',  P_shared_birthday(400))"
   ]
  },
  {
   "cell_type": "code",
   "execution_count": 24,
   "metadata": {
    "deletable": false,
    "editable": false,
    "nbgrader": {
     "cell_type": "code",
     "checksum": "0cab5be7855efaca8845a86f2e1693e6",
     "grade": true,
     "grade_id": "cell-5a323ce5fab0c281",
     "locked": true,
     "points": 0,
     "schema_version": 3,
     "solution": false,
     "task": false
    }
   },
   "outputs": [
    {
     "name": "stdout",
     "output_type": "stream",
     "text": [
      "🎉 All tests passed! 🎉\n"
     ]
    }
   ],
   "source": [
    "## == TEST CASES for Puzzle 2 (function) ==\n",
    "# - This read-only cell contains test cases for your previous cell.\n",
    "# - If this cell runs without any error our output, you PASSED all test cases!\n",
    "# - If this cell results in any errors, check you previous cell, make changes, and RE-RUN your code and then this cell.\n",
    "\n",
    "assert(abs(P_shared_birthday(3) - 0.0082041) < 0.001), \"The probability doesn't seem right.\"\n",
    "assert(abs(P_shared_birthday(4) - 0.01635) < 0.001), \"The probability doesn't seem right.\"\n",
    "assert(abs(P_shared_birthday(40) - 0.8912318) < 0.001), \"The probability doesn't seem right.\"\n",
    "assert(abs(P_shared_birthday(80) - 0.999914) < 0.001), \"The probability doesn't seem right.\"\n",
    "\n",
    "## == SUCCESS MESSAGE ==\n",
    "# You will only see this message (with the emoji showing) if you passed all test cases:\n",
    "tada = \"\\N{PARTY POPPER}\"\n",
    "print(f\"{tada} All tests passed! {tada}\")"
   ]
  },
  {
   "cell_type": "markdown",
   "metadata": {},
   "source": [
    "## Result Plot\n",
    "\n",
    "Create a plot showing the growth of `P_shared_birthday` similar to the plot generated in Puzzle \\#1.  *Make sure the range of your graph focuses on the interesting features.*"
   ]
  },
  {
   "cell_type": "code",
   "execution_count": 29,
   "metadata": {
    "deletable": false,
    "nbgrader": {
     "cell_type": "code",
     "checksum": "d016d83f3d92018cd5a40e747c10ff8c",
     "grade": false,
     "grade_id": "cell-c46ee253ad4a8777",
     "locked": false,
     "schema_version": 3,
     "solution": true,
     "task": false
    }
   },
   "outputs": [
    {
     "data": {
      "text/plain": [
       "<matplotlib.axes._subplots.AxesSubplot at 0x251be3f3a20>"
      ]
     },
     "execution_count": 29,
     "metadata": {},
     "output_type": "execute_result"
    },
    {
     "data": {
      "image/png": "[encoded data removed]",
      "text/plain": [
       "<Figure size 432x288 with 1 Axes>"
      ]
     },
     "metadata": {
      "needs_background": "light"
     },
     "output_type": "display_data"
    }
   ],
   "source": [
    "result2 = []\n",
    "\n",
    "\n",
    "for i in range(2000):\n",
    "    result2.append( {'Other People': i, 'P(at least one match of birthdays)': P_shared_birthday(i) } )\n",
    "    \n",
    "# Create a DataFrame out of that list:\n",
    "df2 = pd.DataFrame( result2 )\n",
    "\n",
    "# Show a plot of our DataFrame:\n",
    "plot = df2.plot.line(y='P(at least one match of birthdays)', x='Other People', grid=True)\n",
    "#\n",
    "plot\n"
   ]
  },
  {
   "cell_type": "markdown",
   "metadata": {},
   "source": [
    "## Puzzle 3: Taylor's Birthday Problem\n",
    "\n",
    "Taylor Swift wants **every day to be someone's birthday**!  Given a massive concert of `n` people, what is the probability that **all 365 days have at least one person with a birthday that day**?\n",
    "\n",
    "Since Wade, Karle, and the full course staff <3s Taylor, we wrote a function to do this simulation for Taylor!  You can check out the code below, but all you need to know is that:\n",
    "\n",
    "> The `simulation_for_taylor` function returns one simulation of the number of people needed to satisfy Taylor's wish for there to be someone with a birthday for every day of the year at her concert!\n",
    "\n",
    "...you will need to **use this function** to help us calculate probabilities!"
   ]
  },
  {
   "cell_type": "code",
   "execution_count": 30,
   "metadata": {},
   "outputs": [],
   "source": [
    "# The `simulation_for_taylor` function returns one simulation of the number of people needed\n",
    "# to satisfy Taylor's wish for there to be someone with a birthday for every day of the year\n",
    "# at her concert!\n",
    "#\n",
    "# @return: One simulation of the number of people needed at the concert.\n",
    "#   Examples: 2056, 2520, 2868, 3033, 2022, 1743, ...\n",
    "\n",
    "def simulation_for_taylor():\n",
    "    ct = 0   #< Count the number of people needed\n",
    "    day = 0  #< Count the current unique days found\n",
    "    \n",
    "    # While all 365 unique days have not been seen:\n",
    "    while day < 365:\n",
    "        # Add a day:\n",
    "        ct = ct + 1\n",
    "        \n",
    "        # Check if a random number is a new, unique day.\n",
    "        # - When day == 0, we've seen no unique days so P(unique day) == 1 as randint(0, 364) will always be `>= 0` (100%)\n",
    "        # - When day == 1, P(unique day) == (364/365) and we check if we get a number `>= 1` (any number but 0)\n",
    "        # - When day == 2, P(unique day) == (363/365) and we check if we get a number `>= 2` (anything but 0 or 1)\n",
    "        # - ...\n",
    "        # - When day == 364, P(unique day) == (1/365) so we need get randint(0, 364) to be exactly 364.\n",
    "        if random.randint(0, 364) >= day:\n",
    "            day = day + 1\n",
    "            \n",
    "    # Return the number of people needed\n",
    "    return ct    "
   ]
  },
  {
   "cell_type": "markdown",
   "metadata": {},
   "source": [
    "### Puzzle 3.1: Run the already-complete simulation\n",
    "\n",
    "Run this next cell several times.  See the different number of people at Taylor's concert for everyone to have a birthday:"
   ]
  },
  {
   "cell_type": "code",
   "execution_count": 33,
   "metadata": {
    "deletable": false,
    "nbgrader": {
     "cell_type": "code",
     "checksum": "2258c745a9ba287fa9b45358f120ca3b",
     "grade": false,
     "grade_id": "cell-a60a84fa1d64c87d",
     "locked": false,
     "schema_version": 3,
     "solution": true,
     "task": false
    }
   },
   "outputs": [
    {
     "data": {
      "text/plain": [
       "2619"
      ]
     },
     "execution_count": 33,
     "metadata": {},
     "output_type": "execute_result"
    }
   ],
   "source": [
    "simulation_for_taylor()"
   ]
  },
  {
   "cell_type": "markdown",
   "metadata": {},
   "source": [
    "### Puzzle 3.2: Collection Simulation Results\n",
    "\n",
    "Using `simulation_for_taylor` as the simulation, collect the results of running the simulation at least **1000** times and store the result in `df_taylor`:\n",
    "\n",
    "*(Note: This may take a few seconds or up to a minute to run on a slower laptop.  You may want to just run the simulation 10 times until your code works before changing to to 1,000.)*"
   ]
  },
  {
   "cell_type": "code",
   "execution_count": 37,
   "metadata": {
    "deletable": false,
    "nbgrader": {
     "cell_type": "code",
     "checksum": "07b0000dc943ff6097682451e14ff65a",
     "grade": false,
     "grade_id": "cell-6a44b9f35daf8325",
     "locked": false,
     "schema_version": 3,
     "solution": true,
     "task": false
    }
   },
   "outputs": [
    {
     "data": {
      "text/html": [
       "<div>\n",
       "<style scoped>\n",
       "    .dataframe tbody tr th:only-of-type {\n",
       "        vertical-align: middle;\n",
       "    }\n",
       "\n",
       "    .dataframe tbody tr th {\n",
       "        vertical-align: top;\n",
       "    }\n",
       "\n",
       "    .dataframe thead th {\n",
       "        text-align: right;\n",
       "    }\n",
       "</style>\n",
       "<table border=\"1\" class=\"dataframe\">\n",
       "  <thead>\n",
       "    <tr style=\"text-align: right;\">\n",
       "      <th></th>\n",
       "      <th>Simulation</th>\n",
       "    </tr>\n",
       "  </thead>\n",
       "  <tbody>\n",
       "    <tr>\n",
       "      <th>708</th>\n",
       "      <td>2419</td>\n",
       "    </tr>\n",
       "    <tr>\n",
       "      <th>440</th>\n",
       "      <td>3154</td>\n",
       "    </tr>\n",
       "    <tr>\n",
       "      <th>241</th>\n",
       "      <td>2463</td>\n",
       "    </tr>\n",
       "    <tr>\n",
       "      <th>640</th>\n",
       "      <td>1925</td>\n",
       "    </tr>\n",
       "    <tr>\n",
       "      <th>117</th>\n",
       "      <td>2040</td>\n",
       "    </tr>\n",
       "    <tr>\n",
       "      <th>136</th>\n",
       "      <td>1826</td>\n",
       "    </tr>\n",
       "    <tr>\n",
       "      <th>573</th>\n",
       "      <td>1924</td>\n",
       "    </tr>\n",
       "    <tr>\n",
       "      <th>28</th>\n",
       "      <td>3575</td>\n",
       "    </tr>\n",
       "    <tr>\n",
       "      <th>270</th>\n",
       "      <td>2208</td>\n",
       "    </tr>\n",
       "    <tr>\n",
       "      <th>171</th>\n",
       "      <td>2152</td>\n",
       "    </tr>\n",
       "  </tbody>\n",
       "</table>\n",
       "</div>"
      ],
      "text/plain": [
       "     Simulation\n",
       "708        2419\n",
       "440        3154\n",
       "241        2463\n",
       "640        1925\n",
       "117        2040\n",
       "136        1826\n",
       "573        1924\n",
       "28         3575\n",
       "270        2208\n",
       "171        2152"
      ]
     },
     "execution_count": 37,
     "metadata": {},
     "output_type": "execute_result"
    }
   ],
   "source": [
    "data = []\n",
    "\n",
    "for i in range(1000):\n",
    "    simulation = simulation_for_taylor()\n",
    "    d = {'Simulation':simulation}\n",
    "    data.append(d)\n",
    "\n",
    "df_taylor = pd.DataFrame(data)\n",
    "\n",
    "\n",
    "\n",
    "df_taylor.sample(10)"
   ]
  },
  {
   "cell_type": "markdown",
   "metadata": {},
   "source": [
    "### Puzzle 3.3: Finding the probability we delivered for Taylor\n",
    "\n",
    "The concert is held and we have **exactly 2,000 people packed onto the quad for Taylor Swift!**  Using your simulation results, find an estimate for the probability that Taylor will be happy to know every day of the year is someone’s birthday:"
   ]
  },
  {
   "cell_type": "code",
   "execution_count": 41,
   "metadata": {
    "deletable": false,
    "nbgrader": {
     "cell_type": "code",
     "checksum": "329ea2ab170b9ad3da5569efa263ab4a",
     "grade": false,
     "grade_id": "cell-0b48a78d683ce577",
     "locked": false,
     "schema_version": 3,
     "solution": true,
     "task": false
    }
   },
   "outputs": [
    {
     "data": {
      "text/html": [
       "<div>\n",
       "<style scoped>\n",
       "    .dataframe tbody tr th:only-of-type {\n",
       "        vertical-align: middle;\n",
       "    }\n",
       "\n",
       "    .dataframe tbody tr th {\n",
       "        vertical-align: top;\n",
       "    }\n",
       "\n",
       "    .dataframe thead th {\n",
       "        text-align: right;\n",
       "    }\n",
       "</style>\n",
       "<table border=\"1\" class=\"dataframe\">\n",
       "  <thead>\n",
       "    <tr style=\"text-align: right;\">\n",
       "      <th></th>\n",
       "      <th>Simulation</th>\n",
       "    </tr>\n",
       "  </thead>\n",
       "  <tbody>\n",
       "    <tr>\n",
       "      <th>566</th>\n",
       "      <td>1851</td>\n",
       "    </tr>\n",
       "    <tr>\n",
       "      <th>363</th>\n",
       "      <td>1875</td>\n",
       "    </tr>\n",
       "    <tr>\n",
       "      <th>24</th>\n",
       "      <td>1892</td>\n",
       "    </tr>\n",
       "    <tr>\n",
       "      <th>607</th>\n",
       "      <td>1903</td>\n",
       "    </tr>\n",
       "    <tr>\n",
       "      <th>857</th>\n",
       "      <td>1881</td>\n",
       "    </tr>\n",
       "  </tbody>\n",
       "</table>\n",
       "</div>"
      ],
      "text/plain": [
       "     Simulation\n",
       "566        1851\n",
       "363        1875\n",
       "24         1892\n",
       "607        1903\n",
       "857        1881"
      ]
     },
     "execution_count": 41,
     "metadata": {},
     "output_type": "execute_result"
    }
   ],
   "source": [
    "# First, find the times the simulation was a success:\n",
    "df_success = df_taylor[df_taylor['Simulation'] <= 2000]\n",
    "\n",
    "\n",
    "\n",
    "df_success.sample(5)\n"
   ]
  },
  {
   "cell_type": "code",
   "execution_count": 42,
   "metadata": {
    "deletable": false,
    "nbgrader": {
     "cell_type": "code",
     "checksum": "dbffebb172a7d2d77798a48be32e5097",
     "grade": false,
     "grade_id": "cell-3cd0d620430a89ba",
     "locked": false,
     "schema_version": 3,
     "solution": true,
     "task": false
    }
   },
   "outputs": [
    {
     "data": {
      "text/plain": [
       "0.234"
      ]
     },
     "execution_count": 42,
     "metadata": {},
     "output_type": "execute_result"
    }
   ],
   "source": [
    "P_everyBirthday = len(df_success) / len(df_taylor)\n",
    "P_everyBirthday\n",
    "\n"
   ]
  },
  {
   "cell_type": "markdown",
   "metadata": {},
   "source": [
    "### Puzzle 3.4: Distribution Histogram\n",
    "\n",
    "Create a histogram of your `df_taylor` results, showing the distribution of people needed in our simulation to account for every birthday."
   ]
  },
  {
   "cell_type": "code",
   "execution_count": 43,
   "metadata": {
    "deletable": false,
    "nbgrader": {
     "cell_type": "code",
     "checksum": "07a21715ace93f1db0c24cf8da4f1366",
     "grade": false,
     "grade_id": "cell-62147f75639a94d3",
     "locked": false,
     "schema_version": 3,
     "solution": true,
     "task": false
    }
   },
   "outputs": [
    {
     "data": {
      "text/plain": [
       "<matplotlib.axes._subplots.AxesSubplot at 0x251bea151d0>"
      ]
     },
     "execution_count": 43,
     "metadata": {},
     "output_type": "execute_result"
    },
    {
     "data": {
      "image/png": "[encoded data removed]",
      "text/plain": [
       "<Figure size 432x288 with 1 Axes>"
      ]
     },
     "metadata": {
      "needs_background": "light"
     },
     "output_type": "display_data"
    }
   ],
   "source": [
    "# Create a histogram:\n",
    "df_taylor.plot.hist()\n",
    "\n"
   ]
  },
  {
   "cell_type": "code",
   "execution_count": 44,
   "metadata": {
    "deletable": false,
    "editable": false,
    "nbgrader": {
     "cell_type": "code",
     "checksum": "4193bd081fb8baf2113f6eb3788a7c4d",
     "grade": true,
     "grade_id": "cell-1bae19913f8df080",
     "locked": true,
     "points": 0,
     "schema_version": 3,
     "solution": false,
     "task": false
    }
   },
   "outputs": [
    {
     "name": "stdout",
     "output_type": "stream",
     "text": [
      "🎉 All tests passed! 🎉\n",
      "\n",
      "Great! You figured it out. Now go start inviting people!\n"
     ]
    }
   ],
   "source": [
    "## == TEST CASES for Puzzle 3 ==\n",
    "# - This read-only cell contains test cases for your previous cell.\n",
    "# - If this cell runs without any error our output, you PASSED all test cases!\n",
    "# - If this cell results in any errors, check you previous cell, make changes, and RE-RUN your code and then this cell.\n",
    "\n",
    "assert( len(df_taylor) >= 1000 ), \"Ensure you have done at least 1,000 simulations.\"\n",
    "assert( len(df_success) > 0 ), \"Ensure your success includes all simulations with 2,000 or fewer people.\"\n",
    "assert( len(df_success) < len(df_taylor) ), \"Ensure your success includes all simulations with 2,000 or fewer people.\"\n",
    "assert( P_everyBirthday > 0.1 and P_everyBirthday < 1 ), \"Ensure `P_everyBirthday` is a probability.\"\n",
    "\n",
    "## == SUCCESS MESSAGE ==\n",
    "# You will only see this message (with the emoji showing) if you passed all test cases:\n",
    "tada = \"\\N{PARTY POPPER}\"\n",
    "print(f\"{tada} All tests passed! {tada}\")\n",
    "print()\n",
    "print(\"Great! You figured it out. Now go start inviting people!\")"
   ]
  },
  {
   "cell_type": "markdown",
   "metadata": {},
   "source": [
    "## Submit Your Work!\n",
    "\n",
    "Make sure to **Save and Checkpoint** your notebook, exit Jupyter, and submit your work! :)"
   ]
  }
 ],
 "metadata": {
  "kernelspec": {
   "display_name": "Python 3",
   "language": "python",
   "name": "python3"
  },
  "language_info": {
   "codemirror_mode": {
    "name": "ipython",
    "version": 3
   },
   "file_extension": ".py",
   "mimetype": "text/x-python",
   "name": "python",
   "nbconvert_exporter": "python",
   "pygments_lexer": "ipython3",
   "version": "3.7.3"
  }
 },
 "nbformat": 4,
 "nbformat_minor": 2
}
