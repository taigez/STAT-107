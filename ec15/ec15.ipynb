{
 "cells": [
  {
   "cell_type": "markdown",
   "metadata": {},
   "source": [
    "# EC Notebook for Lecture 15: Probability\n",
    "\n",
    "This extra credit Python notebook will let you practice the material you saw in lecture.  Completing all parts of this notebook will earn +1 extra credit point to your grade in STAT 107! :)\n",
    "\n",
    "This notebook is worth +1 if turned in before 11:30 am on **Wednesday, Oct. 2** *(30 minutes before the next STAT 107 lecture)*.  You can feel free to complete it anytime for extra practice."
   ]
  },
  {
   "cell_type": "markdown",
   "metadata": {},
   "source": [
    "## 2 Control Flow in Python\n",
    "Remember the coin-tossing we did in the last EC Notebook? If not, that's ok. What you need to do is as easy as tossing a coin! But instead of tossing the coin 10 times, today we want to do it 100 times and even more! Because we already get a secret weapon -- the Loop.\n",
    "\n",
    "Firstly, remember to import random.\n",
    "As usual, let's say Head is represented by 1 and Tail is represented by 0. We will toss the coin several times and calculate how many times Head appeared.\n",
    "\n",
    "### Question 1: The same as last time\n",
    "Toss the coin 10 times and calculate the probability Head appeared. (Of course you can copy the answer from the last notebook, or try a new way.)"
   ]
  },
  {
   "cell_type": "code",
   "execution_count": 3,
   "metadata": {
    "deletable": false,
    "nbgrader": {
     "cell_type": "code",
     "checksum": "1b1157381624a1ddbbecabb54819399b",
     "grade": false,
     "grade_id": "cell-99d959c1fa5c1922",
     "locked": false,
     "schema_version": 3,
     "solution": true,
     "task": false
    }
   },
   "outputs": [],
   "source": [
    "import random\n",
    "toss1 = random.randint(0,1)\n",
    "toss2 = random.randint(0,1)\n",
    "toss3 = random.randint(0,1)\n",
    "toss4 = random.randint(0,1)\n",
    "toss5 = random.randint(0,1)\n",
    "toss6 = random.randint(0,1)\n",
    "toss7 = random.randint(0,1)\n",
    "toss8 = random.randint(0,1)\n",
    "toss9 = random.randint(0,1)\n",
    "toss10 = random.randint(0,1)\n",
    "\n",
    "\n",
    "\n",
    "# Some basic calculations based on your tosses:\n",
    "heads_ct = toss1 + toss2 + toss3 + toss4 + toss5 + toss6+ toss7 + toss8 + toss9 + toss10\n",
    "tails_ct = 10 - heads_ct\n",
    "probability_head = heads_ct / 10\n"
   ]
  },
  {
   "cell_type": "code",
   "execution_count": 4,
   "metadata": {
    "deletable": false,
    "editable": false,
    "nbgrader": {
     "cell_type": "code",
     "checksum": "9121f241d969cbd8def5578cdfe2f51f",
     "grade": true,
     "grade_id": "cell-6d95af9e6dbf7763",
     "locked": true,
     "points": 1,
     "schema_version": 3,
     "solution": false,
     "task": false
    }
   },
   "outputs": [],
   "source": [
    "## == TEST CASES for Puzzle 1 ==\n",
    "# - This read-only cell contains test cases for your previous cell.\n",
    "# - If this cell runs without any error our output, you PASSED all test cases!\n",
    "# - If this cell results in any errors, check you previous cell, make changes, and RE-RUN your code and then this cell.\n",
    "\n",
    "assert(0 <=probability_head <=1), \"The probability is always between 0 and 1, isn't it?\""
   ]
  },
  {
   "cell_type": "markdown",
   "metadata": {},
   "source": [
    "### Question 2: Toss more times!\n",
    "Toss the coin **100** times and calculate the probability Head appeared. "
   ]
  },
  {
   "cell_type": "code",
   "execution_count": 6,
   "metadata": {
    "deletable": false,
    "nbgrader": {
     "cell_type": "code",
     "checksum": "c5ce2ee34855991b8e34988982faf350",
     "grade": false,
     "grade_id": "cell-0f2b9437c5b3e29a",
     "locked": false,
     "schema_version": 3,
     "solution": true,
     "task": false
    }
   },
   "outputs": [
    {
     "data": {
      "text/plain": [
       "0.51"
      ]
     },
     "execution_count": 6,
     "metadata": {},
     "output_type": "execute_result"
    }
   ],
   "source": [
    "# How about store the current count of head in a new variable?\n",
    "head_count = 0\n",
    "for i in range(100):\n",
    "    toss = random.randint(0,1)\n",
    "    head_count += toss \n",
    "\n",
    "probability_head_100 = head_count / 100\n",
    "probability_head_100\n",
    "    \n",
    "\n",
    "\n"
   ]
  },
  {
   "cell_type": "code",
   "execution_count": 7,
   "metadata": {
    "deletable": false,
    "editable": false,
    "nbgrader": {
     "cell_type": "code",
     "checksum": "39d03208cd9390e1b9f84ed490ae7fc2",
     "grade": true,
     "grade_id": "cell-6f4ebbb95f35fe62",
     "locked": true,
     "points": 1,
     "schema_version": 3,
     "solution": false,
     "task": false
    }
   },
   "outputs": [],
   "source": [
    "## == TEST CASES for Puzzle 2 ==\n",
    "# - This read-only cell contains test cases for your previous cell.\n",
    "# - If this cell runs without any error our output, you PASSED all test cases!\n",
    "# - If this cell results in any errors, check you previous cell, make changes, and RE-RUN your code and then this cell.\n",
    "\n",
    "assert(0 <=probability_head_100 <=1), \"The probability is always between 0 and 1, isn't it?\""
   ]
  },
  {
   "cell_type": "markdown",
   "metadata": {},
   "source": [
    "### Question 2: Toss more coins!\n",
    "Toss **two** coins **100** times and calculate the probability **TWO Heads** appeared at the same time. "
   ]
  },
  {
   "cell_type": "code",
   "execution_count": 14,
   "metadata": {
    "deletable": false,
    "nbgrader": {
     "cell_type": "code",
     "checksum": "c5a8fa7a6db1d9c81afa2d854cbcfb0d",
     "grade": false,
     "grade_id": "cell-ea88dcf40cc90ada",
     "locked": false,
     "schema_version": 3,
     "solution": true,
     "task": false
    }
   },
   "outputs": [
    {
     "name": "stdout",
     "output_type": "stream",
     "text": [
      "29\n"
     ]
    },
    {
     "data": {
      "text/plain": [
       "0.29"
      ]
     },
     "execution_count": 14,
     "metadata": {},
     "output_type": "execute_result"
    }
   ],
   "source": [
    "two_head_count = 0\n",
    "for i in range(100):\n",
    "    toss1 = random.randint(0,1)\n",
    "    toss2 = random.randint(0,1)\n",
    "    # Hint 1: if both coins are head, toss1 + toss2 == 2\n",
    "    # Hint 2: we can convert a real number to an integer using `int()`\n",
    "    # For example: `a = int(5.6)`, then we get an ingeger `a` equal to 5.\n",
    "    # more reference: https://www.tutorialspoint.com/python/python_numbers.htm\n",
    "    # Plus, if you know the `if` python syntax, feel free to use it.\n",
    "    count = toss1 + toss2\n",
    "    \n",
    "    if count == 2:\n",
    "        two_head_count += 1\n",
    "print(two_head_count)\n",
    "probability_two_head = two_head_count / 100\n",
    "probability_two_head\n",
    "    \n",
    "\n",
    "\n"
   ]
  },
  {
   "cell_type": "code",
   "execution_count": 15,
   "metadata": {
    "deletable": false,
    "editable": false,
    "nbgrader": {
     "cell_type": "code",
     "checksum": "fd98c8b89668d803a87eea62a63e416b",
     "grade": true,
     "grade_id": "cell-357bac434e050bca",
     "locked": true,
     "points": 1,
     "schema_version": 3,
     "solution": false,
     "task": false
    }
   },
   "outputs": [],
   "source": [
    "## == TEST CASES for Puzzle 2 ==\n",
    "# - This read-only cell contains test cases for your previous cell.\n",
    "# - If this cell runs without any error our output, you PASSED all test cases!\n",
    "# - If this cell results in any errors, check you previous cell, make changes, and RE-RUN your code and then this cell.\n",
    "\n",
    "assert(0 <=probability_two_head <=0.5), \"I don't think the probability is correct...\""
   ]
  },
  {
   "cell_type": "markdown",
   "metadata": {},
   "source": [
    "## Submit Your Work!\n",
    "\n",
    "Make sure to **Save and Checkpoint** your notebook, exit Jupyter, and submit your work! :)"
   ]
  },
  {
   "cell_type": "code",
   "execution_count": null,
   "metadata": {},
   "outputs": [],
   "source": []
  }
 ],
 "metadata": {
  "kernelspec": {
   "display_name": "Python 3",
   "language": "python",
   "name": "python3"
  },
  "language_info": {
   "codemirror_mode": {
    "name": "ipython",
    "version": 3
   },
   "file_extension": ".py",
   "mimetype": "text/x-python",
   "name": "python",
   "nbconvert_exporter": "python",
   "pygments_lexer": "ipython3",
   "version": "3.7.3"
  }
 },
 "nbformat": 4,
 "nbformat_minor": 2
}
