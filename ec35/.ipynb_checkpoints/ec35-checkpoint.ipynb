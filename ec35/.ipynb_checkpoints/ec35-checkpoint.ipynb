{
 "cells": [
  {
   "cell_type": "markdown",
   "metadata": {
    "deletable": false,
    "editable": false,
    "nbgrader": {
     "cell_type": "markdown",
     "checksum": "99028764505bc71e6832abf2a91bea10",
     "grade": false,
     "grade_id": "cell-66fffbf030ca3033",
     "locked": true,
     "schema_version": 3,
     "solution": false,
     "task": false
    }
   },
   "source": [
    "## EC Notebook for Lecture 35: Hypothesis Testing & Z Tests in Python\n",
    "\n",
    "This extra credit Python notebook will let you practice the material you saw in lecture.  Completing all parts of this notebook will earn +1 extra credit point to your grade in STAT 107! :)\n",
    "\n",
    "This notebook is worth +1 if turned in before 11:30 am on **Friday, Nov. 22** *(30 minutes before the next STAT 107 lecture)*.  You can feel free to complete it anytime for extra practice."
   ]
  },
  {
   "cell_type": "markdown",
   "metadata": {
    "deletable": false,
    "editable": false,
    "nbgrader": {
     "cell_type": "markdown",
     "checksum": "54659de83f379e2139fdc010fc699c7b",
     "grade": false,
     "grade_id": "cell-1660f253bf8fee74",
     "locked": true,
     "schema_version": 3,
     "solution": false,
     "task": false
    }
   },
   "source": [
    "## Hypothesis Testing\n",
    "\n",
    "In today's lecture, we go over the one sample hypothesis testing and study the two sample test. We know how to find the p-value in one sample hypothesis testing and Z-score in two sample hypothesis testing.\n",
    "\n",
    "Now, we will still use the `beer` dataset to calculate the p-value or Z-score for hypothesis test. \n",
    "\n",
    "In the `beer` dataset, we have the following continous variables: `PercentAlcohol`, `Calories` \n",
    "`Carbohydrates`. "
   ]
  },
  {
   "cell_type": "code",
   "execution_count": 2,
   "metadata": {
    "deletable": false,
    "editable": false,
    "nbgrader": {
     "cell_type": "code",
     "checksum": "42e036833509a777224303b0262ce955",
     "grade": false,
     "grade_id": "cell-53fa2212f93f3e8f",
     "locked": true,
     "schema_version": 3,
     "solution": false,
     "task": false
    }
   },
   "outputs": [],
   "source": [
    "import pandas as pd\n",
    "df = pd.read_csv('beer-dataset.csv')"
   ]
  },
  {
   "cell_type": "markdown",
   "metadata": {
    "deletable": false,
    "editable": false,
    "nbgrader": {
     "cell_type": "markdown",
     "checksum": "a8766e6c503fac1a4161ad30438eefa3",
     "grade": false,
     "grade_id": "cell-e926d3f980899d7c",
     "locked": true,
     "schema_version": 3,
     "solution": false,
     "task": false
    }
   },
   "source": [
    "## Puzzle 1 \n",
    "\n",
    "Mike is a investigor focusing on the beer market, based on his investigation, he has the true information about the true average amount of `Calories` over all beers is $150$ `Calories` ($\\mu = 150$). However, based on the information in the `beer` dataset, the `Calories` could be larger or smaller than $150$. Therefore, we are interested in if there is significantly different of `Calories` between Mike's investigation and `beer` dataset. "
   ]
  },
  {
   "cell_type": "markdown",
   "metadata": {
    "deletable": false,
    "editable": false,
    "nbgrader": {
     "cell_type": "markdown",
     "checksum": "b8bfb47c9233a31fbd06513f68df0e58",
     "grade": false,
     "grade_id": "cell-3a641dd2d538e8d8",
     "locked": true,
     "schema_version": 3,
     "solution": false,
     "task": false
    }
   },
   "source": [
    "## Puzzle 1.1\n",
    "Try to calculate the **p-value** by using the definiton of Z-score and P-value. Hint: This is a two-tailed alternative hypothesis, i.e. $\\mu_1 \\neq \\mu_2$"
   ]
  },
  {
   "cell_type": "code",
   "execution_count": 3,
   "metadata": {
    "deletable": false,
    "nbgrader": {
     "cell_type": "code",
     "checksum": "a8b4b32dbd2ec57621e517d14a3fea4c",
     "grade": false,
     "grade_id": "cell-aa6c8c81621207f5",
     "locked": false,
     "schema_version": 3,
     "solution": true,
     "task": false
    }
   },
   "outputs": [
    {
     "data": {
      "text/plain": [
       "0.00537443931276439"
      ]
     },
     "execution_count": 3,
     "metadata": {},
     "output_type": "execute_result"
    }
   ],
   "source": [
    "import pandas as pd\n",
    "from scipy.stats import norm\n",
    "df = pd.read_csv('beer-dataset.csv')\n",
    "\n",
    "mean = df['Calories'].mean()\n",
    "se = df['Calories'].std() / (len(df)**0.5)\n",
    "z_score = (mean - 150) / se\n",
    "z_score = round(z_score,14)\n",
    "p_value1 = norm.cdf(z_score)*2\n",
    "round(p_value1,17)"
   ]
  },
  {
   "cell_type": "markdown",
   "metadata": {
    "deletable": false,
    "editable": false,
    "nbgrader": {
     "cell_type": "markdown",
     "checksum": "3ca47598f39fccd3d4f626f77b4a9c57",
     "grade": false,
     "grade_id": "cell-051cdac8d6d375b6",
     "locked": true,
     "schema_version": 3,
     "solution": false,
     "task": false
    }
   },
   "source": [
    "## Puzzle 1.2\n",
    "Try to use the Python library **ztest** to calculate the **p-value**. Hint: This is a two-tailed alternative hypothesis, i.e. $\\mu_1 \\neq \\mu_2$."
   ]
  },
  {
   "cell_type": "code",
   "execution_count": 4,
   "metadata": {
    "deletable": false,
    "nbgrader": {
     "cell_type": "code",
     "checksum": "209346b9722e46bb4843ad54c188f5b4",
     "grade": false,
     "grade_id": "cell-114fd8384a4132b8",
     "locked": false,
     "schema_version": 3,
     "solution": true,
     "task": false
    }
   },
   "outputs": [],
   "source": [
    "from statsmodels.stats.weightstats import ztest\n",
    "p_value2 = ztest(df['Calories'],value = 150)[1]\n",
    "\n"
   ]
  },
  {
   "cell_type": "code",
   "execution_count": 5,
   "metadata": {
    "deletable": false,
    "editable": false,
    "nbgrader": {
     "cell_type": "code",
     "checksum": "0be1c2cc36bbecdb21748a211031f9ee",
     "grade": true,
     "grade_id": "cell-a46cec17f40d47f5",
     "locked": true,
     "points": 1,
     "schema_version": 3,
     "solution": false,
     "task": false
    }
   },
   "outputs": [
    {
     "name": "stdout",
     "output_type": "stream",
     "text": [
      "🎉 All tests passed! 🎉\n",
      "\n"
     ]
    }
   ],
   "source": [
    "## == TEST CASES for Part Puzzle1 ==\n",
    "# - This read-only cell contains test cases for your previous cell.\n",
    "# - If this cell runs without any error our output, you PASSED all test cases!\n",
    "# - If this cell results in any errors, check you previous cell, make changes, and RE-RUN your code and then this cell.\n",
    "\n",
    "assert(-2.78372 <= round(z_score,5) <= -2.78365), \"z-score is not correct\"\n",
    "assert(0.00537443931276436 <= round(p_value1,17) <= 0.00537443931276440), \"p_value1 is not correct\"\n",
    "assert(0.00537443931276443 <= round(p_value2,17) <=  0.00537443931276447), \"p_value2 is not correct.\"\n",
    "\n",
    "## == SUCCESS MESSAGE ==\n",
    "# You will only see this message (with the emoji showing) if you passed all test cases:\n",
    "tada = \"\\N{PARTY POPPER}\"\n",
    "print(f\"{tada} All tests passed! {tada}\")\n",
    "print()\n"
   ]
  },
  {
   "cell_type": "markdown",
   "metadata": {
    "deletable": false,
    "editable": false,
    "nbgrader": {
     "cell_type": "markdown",
     "checksum": "590818a7aee89c35920bc6e545acaa73",
     "grade": false,
     "grade_id": "cell-9af762d328d92154",
     "locked": true,
     "schema_version": 3,
     "solution": false,
     "task": false
    }
   },
   "source": [
    "## Puzzle 2\n",
    "\n",
    "Right now, we have answered the question that whether there is significant difference of average of `Calories` between Mike's investigation and information from the `beer` dataset.\n",
    "\n",
    "Now, Mike is also curious about is there any significant difference of average of `Calories` between the first **42** beers and last **43** beers, we define them as `df1_Calories` and `df2_Calories` in the following:"
   ]
  },
  {
   "cell_type": "code",
   "execution_count": 6,
   "metadata": {
    "deletable": false,
    "editable": false,
    "nbgrader": {
     "cell_type": "code",
     "checksum": "0f9d120741f5161ae911cd1eb576f28c",
     "grade": false,
     "grade_id": "cell-b1727bd3081bd716",
     "locked": true,
     "schema_version": 3,
     "solution": false,
     "task": false
    }
   },
   "outputs": [],
   "source": [
    "df1_Calories = df[\"Calories\"][0:42]\n",
    "df2_Calories = df[\"Calories\"][42:85]"
   ]
  },
  {
   "cell_type": "markdown",
   "metadata": {
    "deletable": false,
    "editable": false,
    "nbgrader": {
     "cell_type": "markdown",
     "checksum": "a29739ad64d21412005740656edd3833",
     "grade": false,
     "grade_id": "cell-673455ba725c83f0",
     "locked": true,
     "schema_version": 3,
     "solution": false,
     "task": false
    }
   },
   "source": [
    "## Puzzle 2.1\n",
    "\n",
    "Try to calculate the **Z-score** by using the definiton of Z-score. Hint: This is a two-sample hypothesis test with null hypothesis $\\bar X_1 \\neq \\bar X_2$."
   ]
  },
  {
   "cell_type": "code",
   "execution_count": 9,
   "metadata": {
    "deletable": false,
    "nbgrader": {
     "cell_type": "code",
     "checksum": "0d1a5cbeef580401b6d6834b6640de39",
     "grade": false,
     "grade_id": "cell-ed5b33e8e161aa37",
     "locked": false,
     "schema_version": 3,
     "solution": true,
     "task": false
    }
   },
   "outputs": [
    {
     "data": {
      "text/plain": [
       "1.025155364042557"
      ]
     },
     "execution_count": 9,
     "metadata": {},
     "output_type": "execute_result"
    }
   ],
   "source": [
    "x1 = df1_Calories.mean()\n",
    "x2 = df2_Calories.mean()\n",
    "se1 = df1_Calories.std() / (len(df1_Calories)**0.5)\n",
    "se2 = df2_Calories.std() / (len(df2_Calories)**0.5)\n",
    "\n",
    "\n",
    "twosample_Z = (abs(x1 - x2) - 0) / (se1**2 + se2**2)**0.5\n",
    "\n",
    "twosample_Z"
   ]
  },
  {
   "cell_type": "code",
   "execution_count": 10,
   "metadata": {
    "deletable": false,
    "editable": false,
    "nbgrader": {
     "cell_type": "code",
     "checksum": "e7ead082a10ee7d66a57016e1a880366",
     "grade": true,
     "grade_id": "cell-c2ae9a30fd101418",
     "locked": true,
     "points": 1,
     "schema_version": 3,
     "solution": false,
     "task": false
    }
   },
   "outputs": [
    {
     "name": "stdout",
     "output_type": "stream",
     "text": [
      "🎉 All tests passed! 🎉\n",
      "\n"
     ]
    }
   ],
   "source": [
    "## == TEST CASES for Part Puzzle2 ==\n",
    "# - This read-only cell contains test cases for your previous cell.\n",
    "# - If this cell runs without any error our output, you PASSED all test cases!\n",
    "# - If this cell results in any errors, check you previous cell, make changes, and RE-RUN your code and then this cell.\n",
    "\n",
    "assert( abs(round(twosample_Z,5)) == 1.02516), \"twosample z-score is not correct\"\n",
    "\n",
    "## == SUCCESS MESSAGE ==\n",
    "# You will only see this message (with the emoji showing) if you passed all test cases:\n",
    "tada = \"\\N{PARTY POPPER}\"\n",
    "print(f\"{tada} All tests passed! {tada}\")\n",
    "print()"
   ]
  },
  {
   "cell_type": "markdown",
   "metadata": {
    "deletable": false,
    "editable": false,
    "nbgrader": {
     "cell_type": "markdown",
     "checksum": "3fbc4c4e029ed40e8f8dade8e295610a",
     "grade": false,
     "grade_id": "cell-deaba20984f45aff",
     "locked": true,
     "schema_version": 3,
     "solution": false,
     "task": false
    }
   },
   "source": [
    "## 3. Submit Your Work\n",
    "\n",
    "In this notebook:\n",
    "\n",
    "1. Click **File** -> **Save and Checkpoint** (to save your work)\n",
    "2. Click **File** -> **Close and Halt** (to exit this notebook)\n",
    "\n",
    "Follow the instructions on the STAT 107 website to submit your work."
   ]
  }
 ],
 "metadata": {
  "kernelspec": {
   "display_name": "Python 3",
   "language": "python",
   "name": "python3"
  },
  "language_info": {
   "codemirror_mode": {
    "name": "ipython",
    "version": 3
   },
   "file_extension": ".py",
   "mimetype": "text/x-python",
   "name": "python",
   "nbconvert_exporter": "python",
   "pygments_lexer": "ipython3",
   "version": "3.7.3"
  }
 },
 "nbformat": 4,
 "nbformat_minor": 2
}
