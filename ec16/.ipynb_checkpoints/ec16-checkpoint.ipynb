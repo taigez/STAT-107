{
 "cells": [
  {
   "cell_type": "markdown",
   "metadata": {
    "deletable": false,
    "editable": false,
    "nbgrader": {
     "cell_type": "markdown",
     "checksum": "000b321b2c9860f71df48c5f9f1af190",
     "grade": false,
     "grade_id": "cell-67e7afc4b4ff4e96",
     "locked": true,
     "schema_version": 3,
     "solution": false,
     "task": false
    }
   },
   "source": [
    "# EC Notebook for Lecture 16: Simulation in Python\n",
    "\n",
    "This extra credit Python notebook will let you practice the material you saw in lecture.  Completing all parts of this notebook will earn +1 extra credit point to your grade in STAT 107! :)\n",
    "\n",
    "This notebook is worth +1 if turned in before 11:30 am on **Monday, Oct. 7** *(30 minutes before the next STAT 107 lecture)*.  You can feel free to complete it anytime for extra practice."
   ]
  },
  {
   "cell_type": "markdown",
   "metadata": {
    "deletable": false,
    "editable": false,
    "nbgrader": {
     "cell_type": "markdown",
     "checksum": "0c7e0b47999e2ee75cabc23de821fa0f",
     "grade": false,
     "grade_id": "cell-959f443304692271",
     "locked": true,
     "schema_version": 3,
     "solution": false,
     "task": false
    }
   },
   "source": [
    "## Accumulating Simulation Data \n",
    "\n",
    "In lecture, you saw a six-step rule for accumulating simulation data.  Let's practice one:\n",
    "\n",
    "\n",
    "### Part 1: Accumulating the data\n",
    "\n",
    "Tommy, Jack, Michael and Ben are all Illini Football players.  The number of yards they rush each game can be simulated by a random number from 20 to 50 yards.\n",
    "\n",
    "Write a simulation of football games and store 10,000 observations in a DataFrame called `df`"
   ]
  },
  {
   "cell_type": "code",
   "execution_count": 1,
   "metadata": {
    "deletable": false,
    "nbgrader": {
     "cell_type": "code",
     "checksum": "2cdebc4f6fc2c60d42400bf9787059e9",
     "grade": false,
     "grade_id": "cell-3182d2cfb9079fe2",
     "locked": false,
     "schema_version": 3,
     "solution": true,
     "task": false
    }
   },
   "outputs": [
    {
     "data": {
      "text/html": [
       "<div>\n",
       "<style scoped>\n",
       "    .dataframe tbody tr th:only-of-type {\n",
       "        vertical-align: middle;\n",
       "    }\n",
       "\n",
       "    .dataframe tbody tr th {\n",
       "        vertical-align: top;\n",
       "    }\n",
       "\n",
       "    .dataframe thead th {\n",
       "        text-align: right;\n",
       "    }\n",
       "</style>\n",
       "<table border=\"1\" class=\"dataframe\">\n",
       "  <thead>\n",
       "    <tr style=\"text-align: right;\">\n",
       "      <th></th>\n",
       "      <th>yards</th>\n",
       "    </tr>\n",
       "  </thead>\n",
       "  <tbody>\n",
       "    <tr>\n",
       "      <th>7829</th>\n",
       "      <td>49</td>\n",
       "    </tr>\n",
       "    <tr>\n",
       "      <th>2363</th>\n",
       "      <td>26</td>\n",
       "    </tr>\n",
       "    <tr>\n",
       "      <th>593</th>\n",
       "      <td>41</td>\n",
       "    </tr>\n",
       "    <tr>\n",
       "      <th>631</th>\n",
       "      <td>30</td>\n",
       "    </tr>\n",
       "    <tr>\n",
       "      <th>7937</th>\n",
       "      <td>47</td>\n",
       "    </tr>\n",
       "  </tbody>\n",
       "</table>\n",
       "</div>"
      ],
      "text/plain": [
       "      yards\n",
       "7829     49\n",
       "2363     26\n",
       "593      41\n",
       "631      30\n",
       "7937     47"
      ]
     },
     "execution_count": 1,
     "metadata": {},
     "output_type": "execute_result"
    }
   ],
   "source": [
    "import pandas as pd \n",
    "import random \n",
    "data = []\n",
    "# Simulation of 10,000 football games:\n",
    "for i in range(10000):\n",
    "    yards = random.randint(20,50)\n",
    "    d = {'yards' : yards}\n",
    "    data.append(d)\n",
    "\n",
    "\n",
    "\n",
    "\n",
    "\n",
    "# Save the simulation data into a DataFrame:\n",
    "df = pd.DataFrame(data)\n",
    "\n",
    "\n",
    "# Print out a few random rows:\n",
    "df.sample(5)"
   ]
  },
  {
   "cell_type": "markdown",
   "metadata": {},
   "source": [
    "### Part 2: Estimate the probability of rushing 140 yards\n",
    "\n",
    "Estimate the probability that, in a given game, Tommy, Jack, Michael, and Ben rush a total of **at least 140 yards**.  Store your probability estimate in `P_rush140`:"
   ]
  },
  {
   "cell_type": "code",
   "execution_count": 12,
   "metadata": {
    "deletable": false,
    "nbgrader": {
     "cell_type": "code",
     "checksum": "cfb1fd14a73be4cd394761ad97878df1",
     "grade": false,
     "grade_id": "cell-9b6af2e58eb5bdd7",
     "locked": false,
     "schema_version": 3,
     "solution": true,
     "task": false
    }
   },
   "outputs": [
    {
     "data": {
      "text/plain": [
       "0.5045"
      ]
     },
     "execution_count": 12,
     "metadata": {},
     "output_type": "execute_result"
    }
   ],
   "source": [
    "data2 = []\n",
    "\n",
    "for x in range (10000):\n",
    "    total = random.randint(80,200)\n",
    "    d2 = {'Total':total}\n",
    "    data2.append(d2)\n",
    "\n",
    "df2 = pd.DataFrame(data2)\n",
    "\n",
    "\n",
    "P_rush140 = len(df2[df2['Total'] >= 140]) / len(df2)\n",
    "P_rush140\n",
    "\n"
   ]
  },
  {
   "cell_type": "code",
   "execution_count": 13,
   "metadata": {
    "deletable": false,
    "editable": false,
    "nbgrader": {
     "cell_type": "code",
     "checksum": "7234b3f5fefd002d2f7dcc04a342b69c",
     "grade": true,
     "grade_id": "cell-621e2757b30ebf38",
     "locked": true,
     "points": 1,
     "schema_version": 3,
     "solution": false,
     "task": false
    }
   },
   "outputs": [
    {
     "name": "stdout",
     "output_type": "stream",
     "text": [
      "🎉 All tests passed! 🎉\n",
      "\n"
     ]
    },
    {
     "ename": "NameError",
     "evalue": "name 'P_rush100' is not defined",
     "output_type": "error",
     "traceback": [
      "\u001b[1;31m---------------------------------------------------------------------------\u001b[0m",
      "\u001b[1;31mNameError\u001b[0m                                 Traceback (most recent call last)",
      "\u001b[1;32m<ipython-input-13-9865a80152f5>\u001b[0m in \u001b[0;36m<module>\u001b[1;34m\u001b[0m\n\u001b[0;32m     13\u001b[0m \u001b[0mprint\u001b[0m\u001b[1;33m(\u001b[0m\u001b[1;34mf\"{tada} All tests passed! {tada}\"\u001b[0m\u001b[1;33m)\u001b[0m\u001b[1;33m\u001b[0m\u001b[1;33m\u001b[0m\u001b[0m\n\u001b[0;32m     14\u001b[0m \u001b[0mprint\u001b[0m\u001b[1;33m(\u001b[0m\u001b[1;33m)\u001b[0m\u001b[1;33m\u001b[0m\u001b[1;33m\u001b[0m\u001b[0m\n\u001b[1;32m---> 15\u001b[1;33m \u001b[0mprint\u001b[0m\u001b[1;33m(\u001b[0m\u001b[1;34mf\"You found: P(140 yards or more) = {round(100 * P_rush100, 2)}%\"\u001b[0m\u001b[1;33m)\u001b[0m\u001b[1;33m\u001b[0m\u001b[1;33m\u001b[0m\u001b[0m\n\u001b[0m",
      "\u001b[1;31mNameError\u001b[0m: name 'P_rush100' is not defined"
     ]
    }
   ],
   "source": [
    "## == TEST CASES for Part 1 and Part 2 ==\n",
    "# - This read-only cell contains test cases for your previous cell.\n",
    "# - If this cell runs without any error our output, you PASSED all test cases!\n",
    "# - If this cell results in any errors, check you previous cell, make changes, and RE-RUN your code and then this cell.\n",
    "\n",
    "assert(len(df) == 10000), \"Make sure your df has exactly 10,000 observations\"\n",
    "assert(P_rush140 > 0 and P_rush140 < 1), \"Make your P_rush140 is a probability\"\n",
    "assert(abs(P_rush140 - 0.5) < 0.1), \"Make your P_rush140 estimates the probability of rushing at least 140 yards\"\n",
    "\n",
    "## == SUCCESS MESSAGE ==\n",
    "# You will only see this message (with the emoji showing) if you passed all test cases:\n",
    "tada = \"\\N{PARTY POPPER}\"\n",
    "print(f\"{tada} All tests passed! {tada}\")\n",
    "print()\n",
    "print(f\"You found: P(140 yards or more) = {round(100 * P_rush100, 2)}%\")"
   ]
  },
  {
   "cell_type": "markdown",
   "metadata": {},
   "source": [
    "### Part 3: Estimate the probability of one or more player rushing more than 45 yards\n",
    "\n",
    "Estimate the probability that, in a given game, Tommy, Jack, Michael, **or** Ben rush a total of **more than 45 yards in a single game**.  Store your probability estimate in `P_45plus`:"
   ]
  },
  {
   "cell_type": "code",
   "execution_count": 14,
   "metadata": {
    "deletable": false,
    "nbgrader": {
     "cell_type": "code",
     "checksum": "b07b24803d426f33ef6a9c1f0d524a44",
     "grade": false,
     "grade_id": "cell-f515099e60a97e4f",
     "locked": false,
     "schema_version": 3,
     "solution": true,
     "task": false
    }
   },
   "outputs": [
    {
     "data": {
      "text/plain": [
       "0.5831"
      ]
     },
     "execution_count": 14,
     "metadata": {},
     "output_type": "execute_result"
    }
   ],
   "source": [
    "data3 = []\n",
    "\n",
    "for i in range(10000):\n",
    "    yard1 = random.randint(20,50)\n",
    "    yard2 = random.randint(20,50)\n",
    "    yard3 = random.randint(20,50)\n",
    "    yard4 = random.randint(20,50)\n",
    "    d3 = {'Tommy':yard1,'Jack':yard2,'Michael':yard3,'Ben':yard4}\n",
    "    data3.append(d3)\n",
    "    \n",
    "df3 = pd.DataFrame(data3)\n",
    "\n",
    "\n",
    "P_45plus = len(df3[ (df3['Tommy'] >= 45) | (df3['Jack'] >= 45) | (df3['Michael'] >= 45) | (df3['Ben'] >= 45) ]) / len(df3)\n",
    "P_45plus\n",
    "\n"
   ]
  },
  {
   "cell_type": "code",
   "execution_count": 15,
   "metadata": {
    "deletable": false,
    "editable": false,
    "nbgrader": {
     "cell_type": "code",
     "checksum": "07db45d30211d1913d3b18605a92e556",
     "grade": true,
     "grade_id": "cell-0294c9244f8fe105",
     "locked": true,
     "points": 1,
     "schema_version": 3,
     "solution": false,
     "task": false
    }
   },
   "outputs": [
    {
     "name": "stdout",
     "output_type": "stream",
     "text": [
      "🎉 All tests passed! 🎉\n",
      "\n",
      "You found: P(at least one player rushing 45 yards) = 58.31%\n",
      "        CHALLENGE: Try to compute this value by hand, it's a bit ticky but a lot of fun! :)\n"
     ]
    }
   ],
   "source": [
    "## == TEST CASES for Part 3 ==\n",
    "# - This read-only cell contains test cases for your previous cell.\n",
    "# - If this cell runs without any error our output, you PASSED all test cases!\n",
    "# - If this cell results in any errors, check you previous cell, make changes, and RE-RUN your code and then this cell.\n",
    "\n",
    "assert(P_45plus > 0 and P_45plus < 1), \"Make your P_45plus is a probability\"\n",
    "assert(abs(P_45plus - 0.4948) < 0.1), \"Make your P_45plus estimates the probability of rushing at least one player rushing 45 yards\"\n",
    "\n",
    "## == SUCCESS MESSAGE ==\n",
    "# You will only see this message (with the emoji showing) if you passed all test cases:\n",
    "tada = \"\\N{PARTY POPPER}\"\n",
    "print(f\"{tada} All tests passed! {tada}\")\n",
    "print()\n",
    "print(f\"You found: P(at least one player rushing 45 yards) = {round(100 * P_45plus, 2)}%\")\n",
    "print(f\"        CHALLENGE: Try to compute this value by hand, it's a bit ticky but a lot of fun! :)\")"
   ]
  },
  {
   "cell_type": "markdown",
   "metadata": {
    "deletable": false,
    "editable": false,
    "nbgrader": {
     "cell_type": "markdown",
     "checksum": "dd1a3333757c0bd462c05c1e2c339771",
     "grade": false,
     "grade_id": "cell-4605813ec4a8f081",
     "locked": true,
     "schema_version": 3,
     "solution": false,
     "task": false
    }
   },
   "source": [
    "## Submit Your Work!\n",
    "\n",
    "Make sure to **Save and Checkpoint** your notebook, exit Jupyter, and submit your work! :)"
   ]
  }
 ],
 "metadata": {
  "kernelspec": {
   "display_name": "Python 3",
   "language": "python",
   "name": "python3"
  },
  "language_info": {
   "codemirror_mode": {
    "name": "ipython",
    "version": 3
   },
   "file_extension": ".py",
   "mimetype": "text/x-python",
   "name": "python",
   "nbconvert_exporter": "python",
   "pygments_lexer": "ipython3",
   "version": "3.7.3"
  }
 },
 "nbformat": 4,
 "nbformat_minor": 2
}
