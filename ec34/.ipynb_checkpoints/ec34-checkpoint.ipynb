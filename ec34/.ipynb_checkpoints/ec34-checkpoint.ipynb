{
 "cells": [
  {
   "cell_type": "markdown",
   "metadata": {
    "deletable": false,
    "editable": false,
    "nbgrader": {
     "cell_type": "markdown",
     "checksum": "18a03110164a467c98e59fa8c877dd9f",
     "grade": false,
     "grade_id": "cell-67e7afc4b4ff4e96",
     "locked": true,
     "schema_version": 3,
     "solution": false,
     "task": false
    }
   },
   "source": [
    "## EC Notebook for Lecture 34: Hypothesis Testing\n",
    "\n",
    "This extra credit Python notebook will let you practice the material you saw in lecture.  Completing all parts of this notebook will earn +1 extra credit point to your grade in STAT 107! :)\n",
    "\n",
    "This notebook is worth +1 if turned in before 11:30 am on **Wednesday, Nov. 20** *(30 minutes before the next STAT 107 lecture)*.  You can feel free to complete it anytime for extra practice."
   ]
  },
  {
   "cell_type": "markdown",
   "metadata": {},
   "source": [
    "### The GPA Dataset\n",
    "\n",
    "In the previous labs and ECs, we have calculated the average GPA for all the courses as below."
   ]
  },
  {
   "cell_type": "code",
   "execution_count": 1,
   "metadata": {},
   "outputs": [
    {
     "data": {
      "text/html": [
       "<div>\n",
       "<style scoped>\n",
       "    .dataframe tbody tr th:only-of-type {\n",
       "        vertical-align: middle;\n",
       "    }\n",
       "\n",
       "    .dataframe tbody tr th {\n",
       "        vertical-align: top;\n",
       "    }\n",
       "\n",
       "    .dataframe thead th {\n",
       "        text-align: right;\n",
       "    }\n",
       "</style>\n",
       "<table border=\"1\" class=\"dataframe\">\n",
       "  <thead>\n",
       "    <tr style=\"text-align: right;\">\n",
       "      <th></th>\n",
       "      <th>Year</th>\n",
       "      <th>Term</th>\n",
       "      <th>YearTerm</th>\n",
       "      <th>Subject</th>\n",
       "      <th>Number</th>\n",
       "      <th>Course Title</th>\n",
       "      <th>A+</th>\n",
       "      <th>A</th>\n",
       "      <th>A-</th>\n",
       "      <th>B+</th>\n",
       "      <th>...</th>\n",
       "      <th>C</th>\n",
       "      <th>C-</th>\n",
       "      <th>D+</th>\n",
       "      <th>D</th>\n",
       "      <th>D-</th>\n",
       "      <th>F</th>\n",
       "      <th>W</th>\n",
       "      <th>Primary Instructor</th>\n",
       "      <th>size</th>\n",
       "      <th>GPA</th>\n",
       "    </tr>\n",
       "  </thead>\n",
       "  <tbody>\n",
       "    <tr>\n",
       "      <th>8728</th>\n",
       "      <td>2017</td>\n",
       "      <td>Spring</td>\n",
       "      <td>2017-sp</td>\n",
       "      <td>EOL</td>\n",
       "      <td>585</td>\n",
       "      <td>College Teaching</td>\n",
       "      <td>0</td>\n",
       "      <td>23</td>\n",
       "      <td>0</td>\n",
       "      <td>0</td>\n",
       "      <td>...</td>\n",
       "      <td>0</td>\n",
       "      <td>0</td>\n",
       "      <td>0</td>\n",
       "      <td>0</td>\n",
       "      <td>0</td>\n",
       "      <td>0</td>\n",
       "      <td>0</td>\n",
       "      <td>Lesht, Faye L</td>\n",
       "      <td>25</td>\n",
       "      <td>3.920000</td>\n",
       "    </tr>\n",
       "    <tr>\n",
       "      <th>27113</th>\n",
       "      <td>2013</td>\n",
       "      <td>Fall</td>\n",
       "      <td>2013-fa</td>\n",
       "      <td>MATH</td>\n",
       "      <td>285</td>\n",
       "      <td>Intro Differential Equations</td>\n",
       "      <td>4</td>\n",
       "      <td>28</td>\n",
       "      <td>0</td>\n",
       "      <td>10</td>\n",
       "      <td>...</td>\n",
       "      <td>5</td>\n",
       "      <td>1</td>\n",
       "      <td>0</td>\n",
       "      <td>2</td>\n",
       "      <td>2</td>\n",
       "      <td>4</td>\n",
       "      <td>1</td>\n",
       "      <td>Manfroi, Aldo J</td>\n",
       "      <td>74</td>\n",
       "      <td>3.049595</td>\n",
       "    </tr>\n",
       "    <tr>\n",
       "      <th>7878</th>\n",
       "      <td>2017</td>\n",
       "      <td>Spring</td>\n",
       "      <td>2017-sp</td>\n",
       "      <td>ARTD</td>\n",
       "      <td>326</td>\n",
       "      <td>Sustainability &amp; Manufacturing</td>\n",
       "      <td>5</td>\n",
       "      <td>14</td>\n",
       "      <td>17</td>\n",
       "      <td>7</td>\n",
       "      <td>...</td>\n",
       "      <td>0</td>\n",
       "      <td>0</td>\n",
       "      <td>1</td>\n",
       "      <td>0</td>\n",
       "      <td>0</td>\n",
       "      <td>1</td>\n",
       "      <td>0</td>\n",
       "      <td>Thomas, Joyce K</td>\n",
       "      <td>54</td>\n",
       "      <td>3.482222</td>\n",
       "    </tr>\n",
       "    <tr>\n",
       "      <th>43636</th>\n",
       "      <td>2010</td>\n",
       "      <td>Fall</td>\n",
       "      <td>2010-fa</td>\n",
       "      <td>SCAN</td>\n",
       "      <td>252</td>\n",
       "      <td>Viking Sagas in Translation</td>\n",
       "      <td>0</td>\n",
       "      <td>5</td>\n",
       "      <td>5</td>\n",
       "      <td>3</td>\n",
       "      <td>...</td>\n",
       "      <td>1</td>\n",
       "      <td>0</td>\n",
       "      <td>0</td>\n",
       "      <td>1</td>\n",
       "      <td>0</td>\n",
       "      <td>3</td>\n",
       "      <td>1</td>\n",
       "      <td>Malekin, Bjorn</td>\n",
       "      <td>27</td>\n",
       "      <td>2.839630</td>\n",
       "    </tr>\n",
       "    <tr>\n",
       "      <th>7851</th>\n",
       "      <td>2017</td>\n",
       "      <td>Spring</td>\n",
       "      <td>2017-sp</td>\n",
       "      <td>ANTH</td>\n",
       "      <td>393</td>\n",
       "      <td>The World of Jewish Sepharad</td>\n",
       "      <td>2</td>\n",
       "      <td>4</td>\n",
       "      <td>0</td>\n",
       "      <td>7</td>\n",
       "      <td>...</td>\n",
       "      <td>1</td>\n",
       "      <td>1</td>\n",
       "      <td>0</td>\n",
       "      <td>2</td>\n",
       "      <td>0</td>\n",
       "      <td>0</td>\n",
       "      <td>0</td>\n",
       "      <td>Saul, Mahir</td>\n",
       "      <td>22</td>\n",
       "      <td>3.044545</td>\n",
       "    </tr>\n",
       "  </tbody>\n",
       "</table>\n",
       "<p>5 rows × 23 columns</p>\n",
       "</div>"
      ],
      "text/plain": [
       "       Year    Term YearTerm Subject  Number                    Course Title  \\\n",
       "8728   2017  Spring  2017-sp     EOL     585                College Teaching   \n",
       "27113  2013    Fall  2013-fa    MATH     285    Intro Differential Equations   \n",
       "7878   2017  Spring  2017-sp    ARTD     326  Sustainability & Manufacturing   \n",
       "43636  2010    Fall  2010-fa    SCAN     252     Viking Sagas in Translation   \n",
       "7851   2017  Spring  2017-sp    ANTH     393    The World of Jewish Sepharad   \n",
       "\n",
       "       A+   A  A-  B+  ...  C  C-  D+  D  D-  F  W  Primary Instructor  size  \\\n",
       "8728    0  23   0   0  ...  0   0   0  0   0  0  0       Lesht, Faye L    25   \n",
       "27113   4  28   0  10  ...  5   1   0  2   2  4  1     Manfroi, Aldo J    74   \n",
       "7878    5  14  17   7  ...  0   0   1  0   0  1  0     Thomas, Joyce K    54   \n",
       "43636   0   5   5   3  ...  1   0   0  1   0  3  1      Malekin, Bjorn    27   \n",
       "7851    2   4   0   7  ...  1   1   0  2   0  0  0         Saul, Mahir    22   \n",
       "\n",
       "            GPA  \n",
       "8728   3.920000  \n",
       "27113  3.049595  \n",
       "7878   3.482222  \n",
       "43636  2.839630  \n",
       "7851   3.044545  \n",
       "\n",
       "[5 rows x 23 columns]"
      ]
     },
     "execution_count": 1,
     "metadata": {},
     "output_type": "execute_result"
    }
   ],
   "source": [
    "import pandas as pd\n",
    "df = pd.read_csv(\"gpa.csv\")\n",
    "df[\"size\"] = 0\n",
    "df[\"GPA\"] = 0\n",
    "\n",
    "grades = [\"A+\", \"A\", \"A-\", \"B+\", \"B\", \"B-\", \"C+\", \"C\", \"C-\", \"D+\", \"D\", \"D-\", \"F\"]\n",
    "points = [4, 4, 3.67, 3.33, 3, 2.67, 2.33, 2, 1.67, 1.33, 1, 0.67, 0]\n",
    "for i in range(len(grades)):\n",
    "    df[\"size\"] += df[grades[i]]\n",
    "    df[\"GPA\"] += df[grades[i]] * points[i]\n",
    "df[\"GPA\"] /= df[\"size\"]\n",
    "df.sample(5)"
   ]
  },
  {
   "cell_type": "markdown",
   "metadata": {
    "deletable": false,
    "editable": false,
    "nbgrader": {
     "cell_type": "markdown",
     "checksum": "65121f2c9055dd77fbbff83d0ab319fb",
     "grade": false,
     "grade_id": "cell-959f443304692271",
     "locked": true,
     "schema_version": 3,
     "solution": false,
     "task": false
    }
   },
   "source": [
    "## 1. The One-Sample Z Test\n",
    "\n",
    "Suppose someone claims that the average GPA of all the courses in UIUC is 3.33, and you want to find out whether this number is trustworthy. However, you don't have permission to access the whole dataset except for a random sample of 100 courses. How can you test the given claim?\n",
    "\n",
    "### z-test for means\n",
    "Randomly sample 100 courses from the given DataFrame, calculate the p-value of this sample. "
   ]
  },
  {
   "cell_type": "code",
   "execution_count": 2,
   "metadata": {
    "deletable": false,
    "nbgrader": {
     "cell_type": "code",
     "checksum": "69161e3ca731309a60ed864c37706668",
     "grade": false,
     "grade_id": "cell-3182d2cfb9079fe2",
     "locked": false,
     "schema_version": 3,
     "solution": true,
     "task": false
    }
   },
   "outputs": [
    {
     "data": {
      "text/plain": [
       "0.6536538214391943"
      ]
     },
     "execution_count": 2,
     "metadata": {},
     "output_type": "execute_result"
    }
   ],
   "source": [
    "from scipy.stats import norm\n",
    "df_sample = df.sample(n=100)\n",
    "s_mean = df_sample['GPA'].mean()\n",
    "s_std = df_sample['GPA'].std()\n",
    "se = s_std / 10\n",
    "z = (3.33 - s_mean) / se\n",
    "\n",
    "p_value = norm.cdf(z)\n",
    "\n",
    "\n",
    "p_value"
   ]
  },
  {
   "cell_type": "markdown",
   "metadata": {},
   "source": [
    "### z-test for proportions\n",
    "\n",
    "Someone also claims that 26% of courses in the DataFrame have over 50 students. To test this claim, you are going to \n",
    "1. create a function to randomly sample 100 classes and return the number of courses whose size is larger than 50.\n",
    "2. Run the sampling function for 100 times and store the results in a new DataFrame `df_res`.\n",
    "3. Find the min, max and average of the number."
   ]
  },
  {
   "cell_type": "code",
   "execution_count": 9,
   "metadata": {
    "deletable": false,
    "nbgrader": {
     "cell_type": "code",
     "checksum": "51ae14bfb0a63d4e334e70f9a9c8d33d",
     "grade": false,
     "grade_id": "cell-060c81a4477630d2",
     "locked": false,
     "schema_version": 3,
     "solution": true,
     "task": false
    }
   },
   "outputs": [
    {
     "name": "stdout",
     "output_type": "stream",
     "text": [
      "16 38 26\n"
     ]
    }
   ],
   "source": [
    "def sample_class():\n",
    "    \n",
    "    df1 = df.sample(n=100)\n",
    "    df2 = df1[df1['size'] > 50 ]\n",
    "\n",
    "    return len(df2)\n",
    "\n",
    "data = []\n",
    "for i in range(100):\n",
    "    num = sample_class()\n",
    "    d = {'number':num}\n",
    "    data.append(d)\n",
    "    \n",
    "df_res = pd.DataFrame(data)\n",
    "\n",
    "\n",
    "mi = df_res.nsmallest(1,'number')\n",
    "ma = df_res.nlargest(1,'number')\n",
    "res_min = mi['number']\n",
    "res_max = ma['number']\n",
    "res_avg = df_res['number'].mean()\n",
    "\n",
    "\n",
    "print(int(res_min), int(res_max), int(res_avg))"
   ]
  },
  {
   "cell_type": "code",
   "execution_count": 10,
   "metadata": {
    "deletable": false,
    "editable": false,
    "nbgrader": {
     "cell_type": "code",
     "checksum": "ec07dd13d8914623b5b65e74509248b3",
     "grade": true,
     "grade_id": "cell-621e2757b30ebf38",
     "locked": true,
     "points": 1,
     "schema_version": 3,
     "solution": false,
     "task": false
    }
   },
   "outputs": [
    {
     "name": "stdout",
     "output_type": "stream",
     "text": [
      "🎉 All tests passed! 🎉\n",
      "\n"
     ]
    }
   ],
   "source": [
    "## == TEST CASES for Part 1,2,3 ==\n",
    "# - This read-only cell contains test cases for your previous cell.\n",
    "# - If this cell runs without any error our output, you PASSED all test cases!\n",
    "# - If this cell results in any errors, check you previous cell, make changes, and RE-RUN your code and then this cell.\n",
    "\n",
    "assert(len(df_sample) == 100), \"Make sure you sample 100 classes.\"\n",
    "assert(p_value > 0.01), \"Make sure you calculate the right p value.\"\n",
    "assert(sample_class() < 50), \"Make sure you create the right function.\"\n",
    "assert(len(df_res) == 100), \"Make sure you create the right dataframe df_res.\"\n",
    "assert(int(res_min) < 20 and int(res_max) > 30 and abs(int(res_avg)-26)<2), \"Make sure you create the right dataframe df_class.\"\n",
    "\n",
    "\n",
    "## == SUCCESS MESSAGE ==\n",
    "# You will only see this message (with the emoji showing) if you passed all test cases:\n",
    "tada = \"\\N{PARTY POPPER}\"\n",
    "print(f\"{tada} All tests passed! {tada}\")\n",
    "print()\n"
   ]
  },
  {
   "cell_type": "code",
   "execution_count": null,
   "metadata": {},
   "outputs": [],
   "source": []
  },
  {
   "cell_type": "code",
   "execution_count": null,
   "metadata": {},
   "outputs": [],
   "source": []
  }
 ],
 "metadata": {
  "kernelspec": {
   "display_name": "Python 3",
   "language": "python",
   "name": "python3"
  },
  "language_info": {
   "codemirror_mode": {
    "name": "ipython",
    "version": 3
   },
   "file_extension": ".py",
   "mimetype": "text/x-python",
   "name": "python",
   "nbconvert_exporter": "python",
   "pygments_lexer": "ipython3",
   "version": "3.7.3"
  }
 },
 "nbformat": 4,
 "nbformat_minor": 2
}
