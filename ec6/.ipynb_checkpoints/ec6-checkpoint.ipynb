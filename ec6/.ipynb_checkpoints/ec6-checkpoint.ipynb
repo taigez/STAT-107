{
 "cells": [
  {
   "cell_type": "markdown",
   "metadata": {},
   "source": [
    "# EC Notebook for Lecture 6: Working with `len()`\n",
    "\n",
    "This extra credit Python notebook will let you practice the material you saw in lecture.  Completing all parts of this notebook will earn +1 extra credit point to your grade in STAT 107! :)\n",
    "\n",
    "This notebook is worth +1 if turned in before 11:30am on **Wednesday, Sept. 11** *(30 minutes before the next STAT 107 lecture)*.  You can feel free to complete it anytime for extra practice."
   ]
  },
  {
   "cell_type": "markdown",
   "metadata": {},
   "source": [
    "## 1. Loading pandas and importing data\n",
    "\n",
    "For this notebook, we will use the \"Course Catalog\" dataset that is our dataset of the week.\n",
    "\n",
    "Here's the link: https://docs.google.com/spreadsheets/d/1ZnpZpipyui_zIIBblmalRYiyEG1glUKinqJtQxVL04o/edit#gid=0\n",
    "\n",
    "Use the following cell to load the pandas library and read the DataSet as a DataFrame:"
   ]
  },
  {
   "cell_type": "code",
   "execution_count": 2,
   "metadata": {
    "deletable": false,
    "nbgrader": {
     "cell_type": "code",
     "checksum": "62e263ada90968c37ee9eb4e09febab3",
     "grade": false,
     "grade_id": "cell-0c0abea61271817c",
     "locked": false,
     "schema_version": 3,
     "solution": true,
     "task": false
    }
   },
   "outputs": [
    {
     "data": {
      "text/html": [
       "<div>\n",
       "<style scoped>\n",
       "    .dataframe tbody tr th:only-of-type {\n",
       "        vertical-align: middle;\n",
       "    }\n",
       "\n",
       "    .dataframe tbody tr th {\n",
       "        vertical-align: top;\n",
       "    }\n",
       "\n",
       "    .dataframe thead th {\n",
       "        text-align: right;\n",
       "    }\n",
       "</style>\n",
       "<table border=\"1\" class=\"dataframe\">\n",
       "  <thead>\n",
       "    <tr style=\"text-align: right;\">\n",
       "      <th></th>\n",
       "      <th>Year</th>\n",
       "      <th>Term</th>\n",
       "      <th>YearTerm</th>\n",
       "      <th>Subject</th>\n",
       "      <th>Number</th>\n",
       "      <th>Name</th>\n",
       "      <th>Description</th>\n",
       "      <th>Credit Hours</th>\n",
       "      <th>Section Info</th>\n",
       "      <th>Degree Attributes</th>\n",
       "    </tr>\n",
       "  </thead>\n",
       "  <tbody>\n",
       "    <tr>\n",
       "      <td>0</td>\n",
       "      <td>2019</td>\n",
       "      <td>Fall</td>\n",
       "      <td>2019-fa</td>\n",
       "      <td>AAS</td>\n",
       "      <td>100</td>\n",
       "      <td>Intro Asian American Studies</td>\n",
       "      <td>Interdisciplinary introduction to the basic co...</td>\n",
       "      <td>3 hours.</td>\n",
       "      <td>NaN</td>\n",
       "      <td>Social &amp; Beh Sci - Soc Sci, and Cultural Studi...</td>\n",
       "    </tr>\n",
       "    <tr>\n",
       "      <td>1</td>\n",
       "      <td>2019</td>\n",
       "      <td>Fall</td>\n",
       "      <td>2019-fa</td>\n",
       "      <td>AAS</td>\n",
       "      <td>105</td>\n",
       "      <td>Introduction to Arab American Studies</td>\n",
       "      <td>Interdisciplinary introduction to the basic co...</td>\n",
       "      <td>3 hours.</td>\n",
       "      <td>NaN</td>\n",
       "      <td>Cultural Studies - US Minority course.</td>\n",
       "    </tr>\n",
       "    <tr>\n",
       "      <td>2</td>\n",
       "      <td>2019</td>\n",
       "      <td>Fall</td>\n",
       "      <td>2019-fa</td>\n",
       "      <td>AAS</td>\n",
       "      <td>120</td>\n",
       "      <td>Intro to Asian Am Pop Culture</td>\n",
       "      <td>Introductory understanding of the way U.S. pop...</td>\n",
       "      <td>3 hours.</td>\n",
       "      <td>NaN</td>\n",
       "      <td>Cultural Studies - US Minority course.</td>\n",
       "    </tr>\n",
       "    <tr>\n",
       "      <td>3</td>\n",
       "      <td>2019</td>\n",
       "      <td>Fall</td>\n",
       "      <td>2019-fa</td>\n",
       "      <td>AAS</td>\n",
       "      <td>199</td>\n",
       "      <td>Undergraduate Open Seminar</td>\n",
       "      <td>May be repeated to a maximum of 6 hours.</td>\n",
       "      <td>1 TO 5 hours.</td>\n",
       "      <td>NaN</td>\n",
       "      <td>NaN</td>\n",
       "    </tr>\n",
       "    <tr>\n",
       "      <td>4</td>\n",
       "      <td>2019</td>\n",
       "      <td>Fall</td>\n",
       "      <td>2019-fa</td>\n",
       "      <td>AAS</td>\n",
       "      <td>200</td>\n",
       "      <td>U.S. Race and Empire</td>\n",
       "      <td>Invites students to examine histories and narr...</td>\n",
       "      <td>3 hours.</td>\n",
       "      <td>Same as LLS 200.</td>\n",
       "      <td>Humanities - Hist &amp; Phil, and Cultural Studies...</td>\n",
       "    </tr>\n",
       "    <tr>\n",
       "      <td>...</td>\n",
       "      <td>...</td>\n",
       "      <td>...</td>\n",
       "      <td>...</td>\n",
       "      <td>...</td>\n",
       "      <td>...</td>\n",
       "      <td>...</td>\n",
       "      <td>...</td>\n",
       "      <td>...</td>\n",
       "      <td>...</td>\n",
       "      <td>...</td>\n",
       "    </tr>\n",
       "    <tr>\n",
       "      <td>8584</td>\n",
       "      <td>2019</td>\n",
       "      <td>Fall</td>\n",
       "      <td>2019-fa</td>\n",
       "      <td>ZULU</td>\n",
       "      <td>202</td>\n",
       "      <td>Elementary Zulu II</td>\n",
       "      <td>Continuation of ZULU 201 with introduction of ...</td>\n",
       "      <td>5 hours.</td>\n",
       "      <td>Same as AFST 252. Participation in the languag...</td>\n",
       "      <td>NaN</td>\n",
       "    </tr>\n",
       "    <tr>\n",
       "      <td>8585</td>\n",
       "      <td>2019</td>\n",
       "      <td>Fall</td>\n",
       "      <td>2019-fa</td>\n",
       "      <td>ZULU</td>\n",
       "      <td>403</td>\n",
       "      <td>Intermediate Zulu I</td>\n",
       "      <td>Survey of more advanced grammar; emphasis on i...</td>\n",
       "      <td>4 hours.</td>\n",
       "      <td>NaN</td>\n",
       "      <td>NaN</td>\n",
       "    </tr>\n",
       "    <tr>\n",
       "      <td>8586</td>\n",
       "      <td>2019</td>\n",
       "      <td>Fall</td>\n",
       "      <td>2019-fa</td>\n",
       "      <td>ZULU</td>\n",
       "      <td>404</td>\n",
       "      <td>Intermediate Zulu II</td>\n",
       "      <td>Continuation of ZULU 403; emphasis on increasi...</td>\n",
       "      <td>4 hours.</td>\n",
       "      <td>NaN</td>\n",
       "      <td>NaN</td>\n",
       "    </tr>\n",
       "    <tr>\n",
       "      <td>8587</td>\n",
       "      <td>2019</td>\n",
       "      <td>Fall</td>\n",
       "      <td>2019-fa</td>\n",
       "      <td>ZULU</td>\n",
       "      <td>405</td>\n",
       "      <td>Advanced Zulu I</td>\n",
       "      <td>Third year Zulu with emphasis on conversationa...</td>\n",
       "      <td>3 hours.</td>\n",
       "      <td>NaN</td>\n",
       "      <td>NaN</td>\n",
       "    </tr>\n",
       "    <tr>\n",
       "      <td>8588</td>\n",
       "      <td>2019</td>\n",
       "      <td>Fall</td>\n",
       "      <td>2019-fa</td>\n",
       "      <td>ZULU</td>\n",
       "      <td>406</td>\n",
       "      <td>Advanced Zulu II</td>\n",
       "      <td>Continuation of Zulu 405 with increased emphas...</td>\n",
       "      <td>3 hours.</td>\n",
       "      <td>NaN</td>\n",
       "      <td>NaN</td>\n",
       "    </tr>\n",
       "  </tbody>\n",
       "</table>\n",
       "<p>8589 rows × 10 columns</p>\n",
       "</div>"
      ],
      "text/plain": [
       "      Year  Term YearTerm Subject  Number  \\\n",
       "0     2019  Fall  2019-fa     AAS     100   \n",
       "1     2019  Fall  2019-fa     AAS     105   \n",
       "2     2019  Fall  2019-fa     AAS     120   \n",
       "3     2019  Fall  2019-fa     AAS     199   \n",
       "4     2019  Fall  2019-fa     AAS     200   \n",
       "...    ...   ...      ...     ...     ...   \n",
       "8584  2019  Fall  2019-fa    ZULU     202   \n",
       "8585  2019  Fall  2019-fa    ZULU     403   \n",
       "8586  2019  Fall  2019-fa    ZULU     404   \n",
       "8587  2019  Fall  2019-fa    ZULU     405   \n",
       "8588  2019  Fall  2019-fa    ZULU     406   \n",
       "\n",
       "                                       Name  \\\n",
       "0              Intro Asian American Studies   \n",
       "1     Introduction to Arab American Studies   \n",
       "2             Intro to Asian Am Pop Culture   \n",
       "3                Undergraduate Open Seminar   \n",
       "4                      U.S. Race and Empire   \n",
       "...                                     ...   \n",
       "8584                     Elementary Zulu II   \n",
       "8585                    Intermediate Zulu I   \n",
       "8586                   Intermediate Zulu II   \n",
       "8587                        Advanced Zulu I   \n",
       "8588                       Advanced Zulu II   \n",
       "\n",
       "                                            Description   Credit Hours  \\\n",
       "0     Interdisciplinary introduction to the basic co...       3 hours.   \n",
       "1     Interdisciplinary introduction to the basic co...       3 hours.   \n",
       "2     Introductory understanding of the way U.S. pop...       3 hours.   \n",
       "3              May be repeated to a maximum of 6 hours.  1 TO 5 hours.   \n",
       "4     Invites students to examine histories and narr...       3 hours.   \n",
       "...                                                 ...            ...   \n",
       "8584  Continuation of ZULU 201 with introduction of ...       5 hours.   \n",
       "8585  Survey of more advanced grammar; emphasis on i...       4 hours.   \n",
       "8586  Continuation of ZULU 403; emphasis on increasi...       4 hours.   \n",
       "8587  Third year Zulu with emphasis on conversationa...       3 hours.   \n",
       "8588  Continuation of Zulu 405 with increased emphas...       3 hours.   \n",
       "\n",
       "                                           Section Info  \\\n",
       "0                                                   NaN   \n",
       "1                                                   NaN   \n",
       "2                                                   NaN   \n",
       "3                                                   NaN   \n",
       "4                                      Same as LLS 200.   \n",
       "...                                                 ...   \n",
       "8584  Same as AFST 252. Participation in the languag...   \n",
       "8585                                                NaN   \n",
       "8586                                                NaN   \n",
       "8587                                                NaN   \n",
       "8588                                                NaN   \n",
       "\n",
       "                                      Degree Attributes  \n",
       "0     Social & Beh Sci - Soc Sci, and Cultural Studi...  \n",
       "1                Cultural Studies - US Minority course.  \n",
       "2                Cultural Studies - US Minority course.  \n",
       "3                                                   NaN  \n",
       "4     Humanities - Hist & Phil, and Cultural Studies...  \n",
       "...                                                 ...  \n",
       "8584                                                NaN  \n",
       "8585                                                NaN  \n",
       "8586                                                NaN  \n",
       "8587                                                NaN  \n",
       "8588                                                NaN  \n",
       "\n",
       "[8589 rows x 10 columns]"
      ]
     },
     "execution_count": 2,
     "metadata": {},
     "output_type": "execute_result"
    }
   ],
   "source": [
    "import pandas as pd \n",
    "df = pd.read_csv(\"Illinois Course Catalog - Sheet1.csv\")\n",
    "df"
   ]
  },
  {
   "cell_type": "markdown",
   "metadata": {},
   "source": [
    "## 2. Courses in STAT, CS, and IS\n",
    "\n",
    "This course, Data Science Discovery, is cross-listed as **STAT 107**, **CS 107**, and **IS 107** as this is a truly cross-disciplinary course.\n",
    "\n",
    "Using the \"Course Catalog\" dataset, find the number of courses is the subjects **STAT**, **CS**, and **IS** and store the value in the cells `STAT_courses_ct`, `CS_courses_ct`, and `IS_courses_ct`,\n",
    "\n",
    "- *Make sure that these values are **numbers**, not DataFrames!*"
   ]
  },
  {
   "cell_type": "code",
   "execution_count": 3,
   "metadata": {
    "deletable": false,
    "nbgrader": {
     "cell_type": "code",
     "checksum": "444f8cf7f650afa5b0af2c52668e1be6",
     "grade": false,
     "grade_id": "cell-18acb525a86ffa3e",
     "locked": false,
     "schema_version": 3,
     "solution": true,
     "task": false
    }
   },
   "outputs": [
    {
     "name": "stdout",
     "output_type": "stream",
     "text": [
      "There are a total of 57 unique STAT courses in the course catalog.\n"
     ]
    }
   ],
   "source": [
    "\n",
    "\n",
    "STAT_courses_ct = len(df[ df[\"Subject\"] == \"STAT\"])\n",
    "print(f\"There are a total of {STAT_courses_ct} unique STAT courses in the course catalog.\")\n",
    "\n"
   ]
  },
  {
   "cell_type": "code",
   "execution_count": 4,
   "metadata": {
    "deletable": false,
    "nbgrader": {
     "cell_type": "code",
     "checksum": "45e52d42d216d7305463d04de28104c4",
     "grade": false,
     "grade_id": "cell-304c0e604514f773",
     "locked": false,
     "schema_version": 3,
     "solution": true,
     "task": false
    }
   },
   "outputs": [
    {
     "name": "stdout",
     "output_type": "stream",
     "text": [
      "There are a total of 118 unique CS courses in the course catalog.\n"
     ]
    }
   ],
   "source": [
    "\n",
    "\n",
    "CS_courses_ct = len(df[ df[\"Subject\"] == \"CS\"])\n",
    "print(f\"There are a total of {CS_courses_ct} unique CS courses in the course catalog.\")\n",
    "\n"
   ]
  },
  {
   "cell_type": "code",
   "execution_count": 5,
   "metadata": {
    "deletable": false,
    "nbgrader": {
     "cell_type": "code",
     "checksum": "7ad05680d0f5704509b8215e3e08c22a",
     "grade": false,
     "grade_id": "cell-80924a83e9d8942e",
     "locked": false,
     "schema_version": 3,
     "solution": true,
     "task": false
    }
   },
   "outputs": [
    {
     "name": "stdout",
     "output_type": "stream",
     "text": [
      "There are a total of 92 unique IS courses in the course catalog.\n"
     ]
    }
   ],
   "source": [
    "\n",
    "\n",
    "IS_courses_ct = len(df[ df[\"Subject\"] == \"IS\"])\n",
    "print(f\"There are a total of {IS_courses_ct} unique IS courses in the course catalog.\")\n",
    "\n"
   ]
  },
  {
   "cell_type": "code",
   "execution_count": 6,
   "metadata": {
    "deletable": false,
    "editable": false,
    "nbgrader": {
     "cell_type": "code",
     "checksum": "72f7dabdff0a72c2351c94a9defb4570",
     "grade": true,
     "grade_id": "cell-8f911f7a0d33fd01",
     "locked": true,
     "points": 0,
     "schema_version": 3,
     "solution": false,
     "task": false
    }
   },
   "outputs": [],
   "source": [
    "## == TEST CASES for Puzzle 2 ==\n",
    "# - This read-only cell contains test cases for your previous cell.\n",
    "# - If this cell runs without any error our output, you PASSED all test cases!\n",
    "# - If this cell results in any errors, check you previous cell, make changes, and RE-RUN your code and then this cell.\n",
    "\n",
    "assert( STAT_courses_ct == 57 ), \"The number of STAT courses appears to be incorrect.\"\n",
    "assert( CS_courses_ct == 118 ), \"The number of STAT courses appears to be incorrect.\"\n",
    "assert( IS_courses_ct == 92 ), \"The number of STAT courses appears to be incorrect.\""
   ]
  },
  {
   "cell_type": "markdown",
   "metadata": {},
   "source": [
    "## Submit Your Work!\n",
    "\n",
    "Make sure to **Save and Checkpoint** your notebook, exit Jupyter, and submit your work! :)"
   ]
  }
 ],
 "metadata": {
  "kernelspec": {
   "display_name": "Python 3",
   "language": "python",
   "name": "python3"
  },
  "language_info": {
   "codemirror_mode": {
    "name": "ipython",
    "version": 3
   },
   "file_extension": ".py",
   "mimetype": "text/x-python",
   "name": "python",
   "nbconvert_exporter": "python",
   "pygments_lexer": "ipython3",
   "version": "3.7.3"
  }
 },
 "nbformat": 4,
 "nbformat_minor": 2
}
