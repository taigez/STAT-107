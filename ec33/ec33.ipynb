{
 "cells": [
  {
   "cell_type": "markdown",
   "metadata": {
    "deletable": false,
    "editable": false,
    "nbgrader": {
     "cell_type": "markdown",
     "checksum": "40c23ec169d150028b255bb91cf52733",
     "grade": false,
     "grade_id": "cell-72efff802126b2f8",
     "locked": true,
     "schema_version": 3,
     "solution": false,
     "task": false
    }
   },
   "source": [
    "## EC Notebook for Lecture 33: While Loops + K Means Clustering\n",
    "\n",
    "This extra credit Python notebook will let you practice the material you saw in lecture.  Completing all parts of this notebook will earn +1 extra credit point to your grade in STAT 107! :)\n",
    "\n",
    "This notebook is worth +1 if turned in before 11:30 am on **Friday, Nov. 15** *(30 minutes before the next STAT 107 lecture)*.  You can feel free to complete it anytime for extra practice."
   ]
  },
  {
   "cell_type": "markdown",
   "metadata": {
    "deletable": false,
    "editable": false,
    "nbgrader": {
     "cell_type": "markdown",
     "checksum": "cd86670901dc0531233895771c378433",
     "grade": false,
     "grade_id": "cell-7b141af9e127f561",
     "locked": true,
     "schema_version": 3,
     "solution": false,
     "task": false
    }
   },
   "source": [
    "## While Loop\n",
    "\n",
    "In Wednesday's lecture, we learned how to create and use a **While Loop**. With the **While Loop**, we can execute a set of statements as long as a condition is true.\n",
    "\n",
    "Now, you'll be able to do a few practice puzzles to get familiar with using the **While Loop**."
   ]
  },
  {
   "cell_type": "markdown",
   "metadata": {
    "deletable": false,
    "editable": false,
    "nbgrader": {
     "cell_type": "markdown",
     "checksum": "16df1f6bd0c14900a615f06993aac93a",
     "grade": false,
     "grade_id": "cell-38326156393c337a",
     "locked": true,
     "schema_version": 3,
     "solution": false,
     "task": false
    }
   },
   "source": [
    "## Puzzle 1\n",
    "\n",
    "Suppose Mike has 300 dollars and two fair six-sided dice. Mike rolls the two dice and calculates the sum of the two numbers appearing. For example: if the first die lands on 1 and the second die lands on 2, the sum would be 3.  \n",
    "\n",
    "If the sum is larger than 9, then he will **win** 1 dollar, otherwise, he will **lose** 1 dollar. If Mike starts with 300 dollars, calculate how many times he would have to play to only have 20 dollars remaining. "
   ]
  },
  {
   "cell_type": "code",
   "execution_count": 2,
   "metadata": {
    "deletable": false,
    "nbgrader": {
     "cell_type": "code",
     "checksum": "2a33552cdc5b36dd914883b2e186e2ec",
     "grade": false,
     "grade_id": "cell-68f7fc16e910bc77",
     "locked": false,
     "schema_version": 3,
     "solution": true,
     "task": false
    }
   },
   "outputs": [
    {
     "name": "stdout",
     "output_type": "stream",
     "text": [
      "392\n"
     ]
    }
   ],
   "source": [
    "import random\n",
    "d = 300\n",
    "times = 0\n",
    "while d>20:\n",
    "    roll1 = random.randint(1,6)\n",
    "    roll2 = random.randint(1,6)\n",
    "    t = roll1 + roll2\n",
    "    if t > 9:\n",
    "        d += 1\n",
    "    else:\n",
    "        d -= 1\n",
    "    times += 1\n",
    "\n",
    "\n",
    "\n",
    "print(times)\n",
    "\n",
    "\n"
   ]
  },
  {
   "cell_type": "code",
   "execution_count": 3,
   "metadata": {
    "deletable": false,
    "editable": false,
    "nbgrader": {
     "cell_type": "code",
     "checksum": "320e2bed9f11c87ca423acd470561c5c",
     "grade": true,
     "grade_id": "cell-1f7e4ba428d6dc0b",
     "locked": true,
     "points": 1,
     "schema_version": 3,
     "solution": false,
     "task": false
    }
   },
   "outputs": [
    {
     "name": "stdout",
     "output_type": "stream",
     "text": [
      "🎉 All tests passed! 🎉\n",
      "\n"
     ]
    }
   ],
   "source": [
    "## == TEST CASES for Puzzle1 ==\n",
    "# - This read-only cell contains test cases for your previous cell.\n",
    "# - If this cell runs without any error our output, you PASSED all test cases!\n",
    "# - If this cell results in any errors, check you previous cell, make changes, and RE-RUN your code and then this cell.\n",
    "\n",
    "assert( 340 <= times <= 460), \"The times of gameplayed is not correct.\"\n",
    "\n",
    "## == SUCCESS MESSAGE ==\n",
    "# You will only see this message (with the emoji showing) if you passed all test cases:\n",
    "tada = \"\\N{PARTY POPPER}\"\n",
    "print(f\"{tada} All tests passed! {tada}\")\n",
    "print()"
   ]
  },
  {
   "cell_type": "markdown",
   "metadata": {
    "deletable": false,
    "editable": false,
    "nbgrader": {
     "cell_type": "markdown",
     "checksum": "73027ef0902b0ee51e009efa4e7cc717",
     "grade": false,
     "grade_id": "cell-5c2e48f1d172a195",
     "locked": true,
     "schema_version": 3,
     "solution": false,
     "task": false
    }
   },
   "source": [
    "## K-Means Clustering\n",
    "\n",
    "In lecture, we learned a new unsupervised learing technique called **k-means** clustering. \n",
    "\n",
    "The term **\"k-means\"** was first used by James MacQueen in 1967, though the idea goes back to Hugo Steinhaus in 1956. The standard algorithm was first proposed by Stuart Lloyd of Bell Labs in 1957 as a technique for pulse-code modulation. \n",
    "\n",
    "**k-means** clustering aims to partition $n$ observations into $k$ clusters in which each observation belongs to the cluster with the nearest mean. The **k-means** algorithm starts with a first group of randomly selected centroids, which are used as the beginning points for every cluster, and then performs iterative (repetitive) calculations to optimize the positions of the centroids. Similar to the example we did by hand in class!\n",
    "\n",
    "Let's get some practice with **k-means** clustering by looking at the classic `beer` dataset we saw in class! "
   ]
  },
  {
   "cell_type": "markdown",
   "metadata": {
    "deletable": false,
    "editable": false,
    "nbgrader": {
     "cell_type": "markdown",
     "checksum": "0c47a76f255f01421c840083c7423039",
     "grade": false,
     "grade_id": "cell-c5343a07c0e78294",
     "locked": true,
     "schema_version": 3,
     "solution": false,
     "task": false
    }
   },
   "source": [
    "## Puzzle 2 \n",
    "\n",
    "In the `beer` dataset, we have the following variables: `PercentAlcohol`, `Calories` and `Carbohydrates`.  These are three characteristics for different type of beers. In the following puzzle, we will practice **k-means** clustering with this dataset.\n",
    "\n",
    "Use `PercentAlcohol` and `Calories` as the two characteristics to create four clusters using **k-means** clustering.  Next, write Python code to determine how many beers are in **cluster 0**. You will want to create a new variable in the dataframe that says which cluster each beer is in.  Lastly, create a scatter plot using `PercentAlcohol` as your X variable and `Calories` as your Y variable. Make each `cluster` type a different **color** in the scatterplot. "
   ]
  },
  {
   "cell_type": "code",
   "execution_count": null,
   "metadata": {
    "deletable": false,
    "nbgrader": {
     "cell_type": "code",
     "checksum": "54fbe0eef5ccfb1f12107b9758fc8dad",
     "grade": false,
     "grade_id": "cell-b7b9a3f22c08ff32",
     "locked": false,
     "schema_version": 3,
     "solution": true,
     "task": false
    }
   },
   "outputs": [],
   "source": [
    "import pandas as pd \n",
    "df = pd.read_csv('beer.csv')\n",
    "\n",
    "length_cluster0 = ...\n",
    "\n"
   ]
  },
  {
   "cell_type": "code",
   "execution_count": null,
   "metadata": {
    "deletable": false,
    "nbgrader": {
     "cell_type": "code",
     "checksum": "7d26c0c78a79920438f10abcceea072b",
     "grade": false,
     "grade_id": "cell-3b641b2893ddcf73",
     "locked": false,
     "schema_version": 3,
     "solution": true,
     "task": false
    }
   },
   "outputs": [],
   "source": [
    "import matplotlib.pyplot as plt\n",
    "\n",
    "plot = ...\n",
    "\n"
   ]
  },
  {
   "cell_type": "code",
   "execution_count": null,
   "metadata": {
    "deletable": false,
    "editable": false,
    "nbgrader": {
     "cell_type": "code",
     "checksum": "99a4374fb2da79c9d6149f128d879947",
     "grade": true,
     "grade_id": "cell-f6065be652ab534b",
     "locked": true,
     "points": 0,
     "schema_version": 3,
     "solution": false,
     "task": false
    }
   },
   "outputs": [],
   "source": [
    "## == TEST CASES for Puzzle2 ==\n",
    "# - This read-only cell contains test cases for your previous cell.\n",
    "# - If this cell runs without any error our output, you PASSED all test cases!\n",
    "# - If this cell results in any errors, check you previous cell, make changes, and RE-RUN your code and then this cell.\n",
    "\n",
    "assert( 20 <= length_cluster0 <= 38), \"The times of gameplayed is not correct.\"\n",
    "\n",
    "## == SUCCESS MESSAGE ==\n",
    "# You will only see this message (with the emoji showing) if you passed all test cases:\n",
    "tada = \"\\N{PARTY POPPER}\"\n",
    "print(f\"{tada} All tests passed! {tada}\")\n",
    "print()"
   ]
  },
  {
   "cell_type": "markdown",
   "metadata": {
    "deletable": false,
    "editable": false,
    "nbgrader": {
     "cell_type": "markdown",
     "checksum": "1a76d93d58c600212f3d524150846877",
     "grade": false,
     "grade_id": "cell-156e32bacd4f91e7",
     "locked": true,
     "schema_version": 3,
     "solution": false,
     "task": false
    }
   },
   "source": [
    "## 3. Submit Your Work\n",
    "\n",
    "In this notebook:\n",
    "\n",
    "1. Click **File** -> **Save and Checkpoint** (to save your work)\n",
    "2. Click **File** -> **Close and Halt** (to exit this notebook)\n",
    "\n",
    "Follow the instructions on the STAT 107 website to submit your work."
   ]
  }
 ],
 "metadata": {
  "kernelspec": {
   "display_name": "Python 3",
   "language": "python",
   "name": "python3"
  },
  "language_info": {
   "codemirror_mode": {
    "name": "ipython",
    "version": 3
   },
   "file_extension": ".py",
   "mimetype": "text/x-python",
   "name": "python",
   "nbconvert_exporter": "python",
   "pygments_lexer": "ipython3",
   "version": "3.7.3"
  }
 },
 "nbformat": 4,
 "nbformat_minor": 2
}
