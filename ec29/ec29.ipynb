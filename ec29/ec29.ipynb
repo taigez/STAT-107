{
 "cells": [
  {
   "cell_type": "markdown",
   "metadata": {
    "deletable": false,
    "editable": false,
    "nbgrader": {
     "cell_type": "markdown",
     "checksum": "80f9bf17a74d7544930bd0b5e067606a",
     "grade": false,
     "grade_id": "cell-67e7afc4b4ff4e96",
     "locked": true,
     "schema_version": 3,
     "solution": false,
     "task": false
    }
   },
   "source": [
    "## EC Notebook for Lecture 29:  Scatterplots and Correlation\n",
    "\n",
    "This extra credit Python notebook will let you practice the material you saw in lecture.  Completing all parts of this notebook will earn +1 extra credit point to your grade in STAT 107! :)\n",
    "\n",
    "This notebook is worth +1 if turned in before 11:30 am on **Wednesday, Nov. 06** *(30 minutes before the next STAT 107 lecture)*.  You can feel free to complete it anytime for extra practice."
   ]
  },
  {
   "cell_type": "markdown",
   "metadata": {
    "deletable": false,
    "editable": false,
    "nbgrader": {
     "cell_type": "markdown",
     "checksum": "e3bba08dfbb9a88ff43c044dab6778f8",
     "grade": false,
     "grade_id": "cell-959f443304692271",
     "locked": true,
     "schema_version": 3,
     "solution": false,
     "task": false
    }
   },
   "source": [
    "### Importing pandas and reading data\n",
    "For this extra credit notebook, we will use the Diamonds dataset to do some exercise. At first, you need to import the library pandas and reading the dataset.\n",
    "\n",
    "###  1. Scatter Plots\n",
    "After loading the data, create scatter plots with the columns `carat` and `price`."
   ]
  },
  {
   "cell_type": "code",
   "execution_count": 45,
   "metadata": {
    "deletable": false,
    "nbgrader": {
     "cell_type": "code",
     "checksum": "0f46a8e15e3ff32e395c634f503011f9",
     "grade": false,
     "grade_id": "cell-3182d2cfb9079fe2",
     "locked": false,
     "schema_version": 3,
     "solution": true,
     "task": false
    }
   },
   "outputs": [
    {
     "name": "stdout",
     "output_type": "stream",
     "text": [
      "       carat      cut color clarity  depth  table  price     x     y     z\n",
      "41216   0.40  Premium     D    VVS2   62.0   61.0   1206  4.72  4.70  2.92\n",
      "29854   0.30  Premium     D     VS2   60.6   59.0    710  4.28  4.36  2.62\n",
      "51656   0.30    Ideal     G     VS2   62.3   58.0    545  4.26  4.28  2.66\n",
      "24516   2.02     Good     J     SI1   63.5   60.0  12798  7.93  7.98  5.05\n",
      "37482   0.35    Ideal     E     VS2   61.7   55.0    984  4.57  4.54  2.81\n"
     ]
    },
    {
     "data": {
      "text/plain": [
       "<matplotlib.axes._subplots.AxesSubplot at 0x2dad8081b38>"
      ]
     },
     "execution_count": 45,
     "metadata": {},
     "output_type": "execute_result"
    },
    {
     "data": {
      "image/png": "[encoded data removed]",
      "text/plain": [
       "<Figure size 432x288 with 1 Axes>"
      ]
     },
     "metadata": {
      "needs_background": "light"
     },
     "output_type": "display_data"
    }
   ],
   "source": [
    "#import pandas\n",
    "import pandas as pd\n",
    "df = pd.read_csv('Diamonds.csv')\n",
    "\n",
    "\n",
    "print(df.sample(5))\n",
    "df.plot.scatter(x='carat',y='price')"
   ]
  },
  {
   "cell_type": "markdown",
   "metadata": {},
   "source": [
    "### 2. Correlation Coefficient\n",
    "\n",
    "Create a new DataFrame called `cc_table` to display the correlation coefficient for every numeric column in `df`. Find tree variables which have most closest linear association with `price` (i.e. three highest absolute correlation coefficient including itself)."
   ]
  },
  {
   "cell_type": "code",
   "execution_count": 46,
   "metadata": {
    "deletable": false,
    "nbgrader": {
     "cell_type": "code",
     "checksum": "8d2948aa2fd1f3529877f9200ae23473",
     "grade": false,
     "grade_id": "cell-060c81a4477630d2",
     "locked": false,
     "schema_version": 3,
     "solution": true,
     "task": false
    }
   },
   "outputs": [
    {
     "name": "stdout",
     "output_type": "stream",
     "text": [
      "          carat     depth     table     price         x         y         z\n",
      "carat  1.000000  0.028224  0.181618  0.921591  0.975094  0.951722  0.953387\n",
      "depth  0.028224  1.000000 -0.295779 -0.010647 -0.025289 -0.029341  0.094924\n",
      "table  0.181618 -0.295779  1.000000  0.127134  0.195344  0.183760  0.150929\n",
      "price  0.921591 -0.010647  0.127134  1.000000  0.884435  0.865421  0.861249\n",
      "x      0.975094 -0.025289  0.195344  0.884435  1.000000  0.974701  0.970772\n",
      "y      0.951722 -0.029341  0.183760  0.865421  0.974701  1.000000  0.952006\n",
      "z      0.953387  0.094924  0.150929  0.861249  0.970772  0.952006  1.000000\n",
      "          price     carat         x\n",
      "price  1.000000  0.921591  0.884435\n",
      "carat  0.921591  1.000000  0.975094\n",
      "x      0.884435  0.975094  1.000000\n"
     ]
    }
   ],
   "source": [
    "cc_table = df.corr()\n",
    "df2 = df[['price','carat','x']]\n",
    "cc = df2.corr()\n",
    "three_most_linear = cc[['price','carat','x']]\n",
    "\n",
    "\n",
    "print(cc_table)\n",
    "print(three_most_linear)\n"
   ]
  },
  {
   "cell_type": "markdown",
   "metadata": {
    "deletable": false,
    "editable": false,
    "nbgrader": {
     "cell_type": "markdown",
     "checksum": "f6f1a6b91adf9a2c9b3e258b61ae688d",
     "grade": false,
     "grade_id": "cell-47b6be3b89d4c4bd",
     "locked": true,
     "schema_version": 3,
     "solution": false,
     "task": false
    }
   },
   "source": [
    "### 3. Calculate the Correlation Coefficient\n",
    "Now let's calculate the correlation coefficient between `carat` and `price` by ourselves according to the following steps:\n",
    "\n",
    "1. Calculate the mean and sd for `carat` and `price` accordingly.\n",
    "2. Add three new columns, the z-value of carat `z_carat`, the z-value of price `z_price` and the product of them `z_product`.\n",
    "3. Calculate the correlation coefficient `r`.\n"
   ]
  },
  {
   "cell_type": "code",
   "execution_count": 47,
   "metadata": {
    "deletable": false,
    "nbgrader": {
     "cell_type": "code",
     "checksum": "9f2718684ae4125a7f3031701ad0d911",
     "grade": false,
     "grade_id": "cell-8b0f0ef67575550d",
     "locked": false,
     "schema_version": 3,
     "solution": true,
     "task": false
    }
   },
   "outputs": [
    {
     "name": "stdout",
     "output_type": "stream",
     "text": [
      "0.921591301193568\n"
     ]
    },
    {
     "data": {
      "text/html": [
       "<div>\n",
       "<style scoped>\n",
       "    .dataframe tbody tr th:only-of-type {\n",
       "        vertical-align: middle;\n",
       "    }\n",
       "\n",
       "    .dataframe tbody tr th {\n",
       "        vertical-align: top;\n",
       "    }\n",
       "\n",
       "    .dataframe thead th {\n",
       "        text-align: right;\n",
       "    }\n",
       "</style>\n",
       "<table border=\"1\" class=\"dataframe\">\n",
       "  <thead>\n",
       "    <tr style=\"text-align: right;\">\n",
       "      <th></th>\n",
       "      <th>carat</th>\n",
       "      <th>cut</th>\n",
       "      <th>color</th>\n",
       "      <th>clarity</th>\n",
       "      <th>depth</th>\n",
       "      <th>table</th>\n",
       "      <th>price</th>\n",
       "      <th>x</th>\n",
       "      <th>y</th>\n",
       "      <th>z</th>\n",
       "      <th>z_carat</th>\n",
       "      <th>z_price</th>\n",
       "      <th>z_product</th>\n",
       "    </tr>\n",
       "  </thead>\n",
       "  <tbody>\n",
       "    <tr>\n",
       "      <th>44343</th>\n",
       "      <td>0.56</td>\n",
       "      <td>Very Good</td>\n",
       "      <td>G</td>\n",
       "      <td>VS2</td>\n",
       "      <td>62.5</td>\n",
       "      <td>57.0</td>\n",
       "      <td>1580</td>\n",
       "      <td>5.25</td>\n",
       "      <td>5.28</td>\n",
       "      <td>3.29</td>\n",
       "      <td>-0.501971</td>\n",
       "      <td>-0.589757</td>\n",
       "      <td>0.296041</td>\n",
       "    </tr>\n",
       "    <tr>\n",
       "      <th>27424</th>\n",
       "      <td>2.26</td>\n",
       "      <td>Very Good</td>\n",
       "      <td>D</td>\n",
       "      <td>SI2</td>\n",
       "      <td>61.6</td>\n",
       "      <td>61.0</td>\n",
       "      <td>18028</td>\n",
       "      <td>8.47</td>\n",
       "      <td>8.38</td>\n",
       "      <td>5.19</td>\n",
       "      <td>3.084442</td>\n",
       "      <td>3.533128</td>\n",
       "      <td>10.897728</td>\n",
       "    </tr>\n",
       "    <tr>\n",
       "      <th>21045</th>\n",
       "      <td>0.31</td>\n",
       "      <td>Ideal</td>\n",
       "      <td>H</td>\n",
       "      <td>VVS2</td>\n",
       "      <td>61.8</td>\n",
       "      <td>56.0</td>\n",
       "      <td>625</td>\n",
       "      <td>4.34</td>\n",
       "      <td>4.36</td>\n",
       "      <td>2.69</td>\n",
       "      <td>-1.029384</td>\n",
       "      <td>-0.829139</td>\n",
       "      <td>0.853503</td>\n",
       "    </tr>\n",
       "    <tr>\n",
       "      <th>12043</th>\n",
       "      <td>0.34</td>\n",
       "      <td>Ideal</td>\n",
       "      <td>G</td>\n",
       "      <td>VS2</td>\n",
       "      <td>62.1</td>\n",
       "      <td>55.0</td>\n",
       "      <td>596</td>\n",
       "      <td>4.46</td>\n",
       "      <td>4.49</td>\n",
       "      <td>2.78</td>\n",
       "      <td>-0.966095</td>\n",
       "      <td>-0.836408</td>\n",
       "      <td>0.808049</td>\n",
       "    </tr>\n",
       "    <tr>\n",
       "      <th>34365</th>\n",
       "      <td>0.41</td>\n",
       "      <td>Ideal</td>\n",
       "      <td>E</td>\n",
       "      <td>VS1</td>\n",
       "      <td>62.3</td>\n",
       "      <td>53.0</td>\n",
       "      <td>863</td>\n",
       "      <td>4.74</td>\n",
       "      <td>4.76</td>\n",
       "      <td>2.96</td>\n",
       "      <td>-0.818419</td>\n",
       "      <td>-0.769481</td>\n",
       "      <td>0.629758</td>\n",
       "    </tr>\n",
       "  </tbody>\n",
       "</table>\n",
       "</div>"
      ],
      "text/plain": [
       "       carat        cut color clarity  depth  table  price     x     y     z  \\\n",
       "44343   0.56  Very Good     G     VS2   62.5   57.0   1580  5.25  5.28  3.29   \n",
       "27424   2.26  Very Good     D     SI2   61.6   61.0  18028  8.47  8.38  5.19   \n",
       "21045   0.31      Ideal     H    VVS2   61.8   56.0    625  4.34  4.36  2.69   \n",
       "12043   0.34      Ideal     G     VS2   62.1   55.0    596  4.46  4.49  2.78   \n",
       "34365   0.41      Ideal     E     VS1   62.3   53.0    863  4.74  4.76  2.96   \n",
       "\n",
       "        z_carat   z_price  z_product  \n",
       "44343 -0.501971 -0.589757   0.296041  \n",
       "27424  3.084442  3.533128  10.897728  \n",
       "21045 -1.029384 -0.829139   0.853503  \n",
       "12043 -0.966095 -0.836408   0.808049  \n",
       "34365 -0.818419 -0.769481   0.629758  "
      ]
     },
     "execution_count": 47,
     "metadata": {},
     "output_type": "execute_result"
    }
   ],
   "source": [
    "mean_carat = df['carat'].mean()\n",
    "sd_carat = df['carat'].std()\n",
    "mean_price = df['price'].mean()\n",
    "sd_price = df['price'].std()\n",
    "df['z_carat'] = (df['carat'] - mean_carat) / sd_carat\n",
    "df['z_price'] = (df['price'] - mean_price) / sd_price\n",
    "df['z_product'] = df['z_carat'] * df['z_price']\n",
    "r = df['z_product'].sum() / (len(df['z_product']) - 1)\n",
    "\n",
    "\n",
    "print(r)\n",
    "df.sample(5)"
   ]
  },
  {
   "cell_type": "code",
   "execution_count": 48,
   "metadata": {
    "deletable": false,
    "editable": false,
    "nbgrader": {
     "cell_type": "code",
     "checksum": "abf73d453587475230b80eb418bfcbc5",
     "grade": true,
     "grade_id": "cell-621e2757b30ebf38",
     "locked": true,
     "points": 1,
     "schema_version": 3,
     "solution": false,
     "task": false
    }
   },
   "outputs": [
    {
     "ename": "ValueError",
     "evalue": "The truth value of a Series is ambiguous. Use a.empty, a.bool(), a.item(), a.any() or a.all().",
     "output_type": "error",
     "traceback": [
      "\u001b[1;31m--------------------------------------------------------------------------\u001b[0m",
      "\u001b[1;31mValueError\u001b[0m                               Traceback (most recent call last)",
      "\u001b[1;32m<ipython-input-48-9cb37a92e6e0>\u001b[0m in \u001b[0;36m<module>\u001b[1;34m\u001b[0m\n\u001b[0;32m      6\u001b[0m \u001b[1;32massert\u001b[0m\u001b[1;33m(\u001b[0m\u001b[0mlen\u001b[0m\u001b[1;33m(\u001b[0m\u001b[0mcc_table\u001b[0m\u001b[1;33m)\u001b[0m \u001b[1;33m==\u001b[0m \u001b[1;36m7\u001b[0m\u001b[1;33m)\u001b[0m\u001b[1;33m,\u001b[0m \u001b[1;34m\"Make sure you create the correct table.\"\u001b[0m\u001b[1;33m\u001b[0m\u001b[1;33m\u001b[0m\u001b[0m\n\u001b[0;32m      7\u001b[0m \u001b[1;32massert\u001b[0m\u001b[1;33m(\u001b[0m\u001b[0mlen\u001b[0m\u001b[1;33m(\u001b[0m\u001b[0mthree_most_linear\u001b[0m\u001b[1;33m)\u001b[0m \u001b[1;33m==\u001b[0m \u001b[1;36m3\u001b[0m\u001b[1;33m)\u001b[0m\u001b[1;33m,\u001b[0m \u001b[1;34m\"Make sure you select the top 3 linear variable with price.\"\u001b[0m\u001b[1;33m\u001b[0m\u001b[1;33m\u001b[0m\u001b[0m\n\u001b[1;32m----> 8\u001b[1;33m \u001b[1;32massert\u001b[0m\u001b[1;33m(\u001b[0m\u001b[0mabs\u001b[0m\u001b[1;33m(\u001b[0m\u001b[0mthree_most_linear\u001b[0m\u001b[1;33m[\u001b[0m\u001b[1;34m'price'\u001b[0m\u001b[1;33m]\u001b[0m\u001b[1;33m-\u001b[0m\u001b[1;36m1.0\u001b[0m\u001b[1;33m)\u001b[0m \u001b[1;33m<\u001b[0m \u001b[1;36m0.001\u001b[0m \u001b[1;32mand\u001b[0m \u001b[0mabs\u001b[0m\u001b[1;33m(\u001b[0m\u001b[0mthree_most_linear\u001b[0m\u001b[1;33m[\u001b[0m\u001b[1;34m'carat'\u001b[0m\u001b[1;33m]\u001b[0m\u001b[1;33m-\u001b[0m\u001b[1;36m0.921591\u001b[0m\u001b[1;33m)\u001b[0m \u001b[1;33m<\u001b[0m \u001b[1;36m0.001\u001b[0m \u001b[1;32mand\u001b[0m \u001b[0mabs\u001b[0m\u001b[1;33m(\u001b[0m\u001b[0mthree_most_linear\u001b[0m\u001b[1;33m[\u001b[0m\u001b[1;34m'x'\u001b[0m\u001b[1;33m]\u001b[0m\u001b[1;33m-\u001b[0m\u001b[1;36m0.884435\u001b[0m\u001b[1;33m)\u001b[0m \u001b[1;33m<\u001b[0m \u001b[1;36m0.001\u001b[0m\u001b[1;33m)\u001b[0m\u001b[1;33m,\u001b[0m \u001b[1;34m\"Make sure you select the top 3 linear variable with price.\"\u001b[0m\u001b[1;33m\u001b[0m\u001b[1;33m\u001b[0m\u001b[0m\n\u001b[0m\u001b[0;32m      9\u001b[0m \u001b[1;32massert\u001b[0m\u001b[1;33m(\u001b[0m\u001b[0mabs\u001b[0m\u001b[1;33m(\u001b[0m\u001b[0mmean_carat\u001b[0m\u001b[1;33m-\u001b[0m\u001b[1;36m0.7979\u001b[0m\u001b[1;33m)\u001b[0m\u001b[1;33m<\u001b[0m\u001b[1;36m0.001\u001b[0m \u001b[1;32mand\u001b[0m \u001b[0mabs\u001b[0m\u001b[1;33m(\u001b[0m\u001b[0msd_carat\u001b[0m\u001b[1;33m-\u001b[0m\u001b[1;36m0.47401\u001b[0m\u001b[1;33m)\u001b[0m \u001b[1;33m<\u001b[0m \u001b[1;36m0.001\u001b[0m \u001b[1;32mand\u001b[0m \u001b[0mabs\u001b[0m\u001b[1;33m(\u001b[0m\u001b[0mmean_price\u001b[0m\u001b[1;33m-\u001b[0m\u001b[1;36m3932.79972\u001b[0m\u001b[1;33m)\u001b[0m \u001b[1;33m<\u001b[0m \u001b[1;36m0.001\u001b[0m \u001b[1;32mand\u001b[0m \u001b[0mabs\u001b[0m\u001b[1;33m(\u001b[0m\u001b[0msd_price\u001b[0m\u001b[1;33m-\u001b[0m\u001b[1;36m3989.439738\u001b[0m\u001b[1;33m)\u001b[0m \u001b[1;33m<\u001b[0m \u001b[1;36m0.001\u001b[0m\u001b[1;33m)\u001b[0m\u001b[1;33m,\u001b[0m \u001b[1;34m\"Make sure you calculate the mean and sd correct.\"\u001b[0m\u001b[1;33m\u001b[0m\u001b[1;33m\u001b[0m\u001b[0m\n\u001b[0;32m     10\u001b[0m \u001b[1;32massert\u001b[0m\u001b[1;33m(\u001b[0m\u001b[0mabs\u001b[0m\u001b[1;33m(\u001b[0m\u001b[0mdf\u001b[0m\u001b[1;33m[\u001b[0m\u001b[1;34m'z_carat'\u001b[0m\u001b[1;33m]\u001b[0m\u001b[1;33m*\u001b[0m\u001b[0msd_carat\u001b[0m\u001b[1;33m+\u001b[0m\u001b[0mmean_carat\u001b[0m\u001b[1;33m-\u001b[0m\u001b[0mdf\u001b[0m\u001b[1;33m[\u001b[0m\u001b[1;34m'carat'\u001b[0m\u001b[1;33m]\u001b[0m\u001b[1;33m)\u001b[0m\u001b[1;33m.\u001b[0m\u001b[0msum\u001b[0m\u001b[1;33m(\u001b[0m\u001b[1;33m)\u001b[0m \u001b[1;33m<\u001b[0m \u001b[1;36m0.001\u001b[0m \u001b[1;32mand\u001b[0m \u001b[0mabs\u001b[0m\u001b[1;33m(\u001b[0m\u001b[0mdf\u001b[0m\u001b[1;33m[\u001b[0m\u001b[1;34m'z_price'\u001b[0m\u001b[1;33m]\u001b[0m\u001b[1;33m*\u001b[0m\u001b[0msd_price\u001b[0m\u001b[1;33m+\u001b[0m\u001b[0mmean_price\u001b[0m\u001b[1;33m-\u001b[0m\u001b[0mdf\u001b[0m\u001b[1;33m[\u001b[0m\u001b[1;34m'price'\u001b[0m\u001b[1;33m]\u001b[0m\u001b[1;33m)\u001b[0m\u001b[1;33m.\u001b[0m\u001b[0msum\u001b[0m\u001b[1;33m(\u001b[0m\u001b[1;33m)\u001b[0m\u001b[1;33m<\u001b[0m \u001b[1;36m0.001\u001b[0m\u001b[1;33m)\u001b[0m\u001b[1;33m,\u001b[0m \u001b[1;34m\"Make sure you calculate the z values correct.\"\u001b[0m\u001b[1;33m\u001b[0m\u001b[1;33m\u001b[0m\u001b[0m\n",
      "\u001b[1;32m~\\Anaconda3\\lib\\site-packages\\pandas\\core\\generic.py\u001b[0m in \u001b[0;36m__nonzero__\u001b[1;34m(self)\u001b[0m\n\u001b[0;32m   1476\u001b[0m         raise ValueError(\"The truth value of a {0} is ambiguous. \"\n\u001b[0;32m   1477\u001b[0m                          \u001b[1;34m\"Use a.empty, a.bool(), a.item(), a.any() or a.all().\"\u001b[0m\u001b[1;33m\u001b[0m\u001b[1;33m\u001b[0m\u001b[0m\n\u001b[1;32m-> 1478\u001b[1;33m                          .format(self.__class__.__name__))\n\u001b[0m\u001b[0;32m   1479\u001b[0m \u001b[1;33m\u001b[0m\u001b[0m\n\u001b[0;32m   1480\u001b[0m     \u001b[0m__bool__\u001b[0m \u001b[1;33m=\u001b[0m \u001b[0m__nonzero__\u001b[0m\u001b[1;33m\u001b[0m\u001b[1;33m\u001b[0m\u001b[0m\n",
      "\u001b[1;31mValueError\u001b[0m: The truth value of a Series is ambiguous. Use a.empty, a.bool(), a.item(), a.any() or a.all()."
     ]
    }
   ],
   "source": [
    "## == TEST CASES for Part 1,2,3 ==\n",
    "# - This read-only cell contains test cases for your previous cell.\n",
    "# - If this cell runs without any error our output, you PASSED all test cases!\n",
    "# - If this cell results in any errors, check you previous cell, make changes, and RE-RUN your code and then this cell.\n",
    "\n",
    "assert(len(cc_table) == 7), \"Make sure you create the correct table.\"\n",
    "assert(len(three_most_linear) == 3), \"Make sure you select the top 3 linear variable with price.\"\n",
    "assert(abs(three_most_linear['price']-1.0) < 0.001 and abs(three_most_linear['carat']-0.921591) < 0.001 and abs(three_most_linear['x']-0.884435) < 0.001), \"Make sure you select the top 3 linear variable with price.\"\n",
    "assert(abs(mean_carat-0.7979)<0.001 and abs(sd_carat-0.47401) < 0.001 and abs(mean_price-3932.79972) < 0.001 and abs(sd_price-3989.439738) < 0.001), \"Make sure you calculate the mean and sd correct.\"\n",
    "assert(abs(df['z_carat']*sd_carat+mean_carat-df['carat']).sum() < 0.001 and abs(df['z_price']*sd_price+mean_price-df['price']).sum()< 0.001), \"Make sure you calculate the z values correct.\"\n",
    "assert(abs(r-cc_table['price']['carat']) < 0.001), \"Make sure you calculate the correct r value.\"\n",
    "## == SUCCESS MESSAGE ==\n",
    "# You will only see this message (with the emoji showing) if you passed all test cases:\n",
    "tada = \"\\N{PARTY POPPER}\"\n",
    "print(f\"{tada} All tests passed! {tada}\")\n",
    "print()\n"
   ]
  },
  {
   "cell_type": "code",
   "execution_count": 50,
   "metadata": {},
   "outputs": [
    {
     "data": {
      "text/plain": [
       "price    0.000000\n",
       "carat    0.078409\n",
       "x        0.115565\n",
       "Name: price, dtype: float64"
      ]
     },
     "execution_count": 50,
     "metadata": {},
     "output_type": "execute_result"
    }
   ],
   "source": [
    "abs(three_most_linear['price']-1.0)"
   ]
  },
  {
   "cell_type": "code",
   "execution_count": null,
   "metadata": {},
   "outputs": [],
   "source": []
  }
 ],
 "metadata": {
  "kernelspec": {
   "display_name": "Python 3",
   "language": "python",
   "name": "python3"
  },
  "language_info": {
   "codemirror_mode": {
    "name": "ipython",
    "version": 3
   },
   "file_extension": ".py",
   "mimetype": "text/x-python",
   "name": "python",
   "nbconvert_exporter": "python",
   "pygments_lexer": "ipython3",
   "version": "3.7.3"
  }
 },
 "nbformat": 4,
 "nbformat_minor": 2
}
