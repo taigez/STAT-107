{
 "cells": [
  {
   "cell_type": "markdown",
   "metadata": {},
   "source": [
    "# lab_simulation : Into the Matrix\n",
    "\n",
    "As you learned in lecture, **simulation** is an extremely powerful tool to estimate the probability of an event occurring by simulating many observations an event and determining the successful observations.\n",
    "\n",
    "This lab will have you build increasingly interesting simulations and find the results."
   ]
  },
  {
   "cell_type": "markdown",
   "metadata": {},
   "source": [
    "## Simulation 1: Pre-Quiz Dice Rolls\n",
    "\n",
    "The pre-quiz question that was asked by Karle and Wade in lecture was as follows:\n",
    "\n",
    "> You roll two different fair six-sided dice at the same time.  One die is colored blue, one is colored red.  What is the probability that the blue die lands on 4 or the red die lands on 2?\n",
    "\n",
    "Simulate the above problem 1,000 times and storing your observations of the value of the red die and blue die into `df1`."
   ]
  },
  {
   "cell_type": "code",
   "execution_count": 1,
   "metadata": {
    "deletable": false,
    "nbgrader": {
     "cell_type": "code",
     "checksum": "0f67361097c54a7210771b3373117c1d",
     "grade": false,
     "grade_id": "cell-de10356f8a7798ce",
     "locked": false,
     "schema_version": 3,
     "solution": true,
     "task": false
    }
   },
   "outputs": [],
   "source": [
    "# Step 0: Import any libraries you need:\n",
    "import pandas as pd \n",
    "import random \n",
    "\n",
    "\n"
   ]
  },
  {
   "cell_type": "code",
   "execution_count": 8,
   "metadata": {
    "deletable": false,
    "nbgrader": {
     "cell_type": "code",
     "checksum": "13f2de1f32547f9e2739488f760471d5",
     "grade": false,
     "grade_id": "cell-c93866d5164aa8aa",
     "locked": false,
     "schema_version": 3,
     "solution": true,
     "task": false
    }
   },
   "outputs": [
    {
     "data": {
      "text/html": [
       "<div>\n",
       "<style scoped>\n",
       "    .dataframe tbody tr th:only-of-type {\n",
       "        vertical-align: middle;\n",
       "    }\n",
       "\n",
       "    .dataframe tbody tr th {\n",
       "        vertical-align: top;\n",
       "    }\n",
       "\n",
       "    .dataframe thead th {\n",
       "        text-align: right;\n",
       "    }\n",
       "</style>\n",
       "<table border=\"1\" class=\"dataframe\">\n",
       "  <thead>\n",
       "    <tr style=\"text-align: right;\">\n",
       "      <th></th>\n",
       "      <th>Blue</th>\n",
       "      <th>Red</th>\n",
       "    </tr>\n",
       "  </thead>\n",
       "  <tbody>\n",
       "    <tr>\n",
       "      <th>176</th>\n",
       "      <td>2</td>\n",
       "      <td>6</td>\n",
       "    </tr>\n",
       "    <tr>\n",
       "      <th>960</th>\n",
       "      <td>6</td>\n",
       "      <td>4</td>\n",
       "    </tr>\n",
       "    <tr>\n",
       "      <th>345</th>\n",
       "      <td>6</td>\n",
       "      <td>4</td>\n",
       "    </tr>\n",
       "    <tr>\n",
       "      <th>743</th>\n",
       "      <td>1</td>\n",
       "      <td>6</td>\n",
       "    </tr>\n",
       "    <tr>\n",
       "      <th>585</th>\n",
       "      <td>4</td>\n",
       "      <td>2</td>\n",
       "    </tr>\n",
       "  </tbody>\n",
       "</table>\n",
       "</div>"
      ],
      "text/plain": [
       "     Blue  Red\n",
       "176     2    6\n",
       "960     6    4\n",
       "345     6    4\n",
       "743     1    6\n",
       "585     4    2"
      ]
     },
     "execution_count": 8,
     "metadata": {},
     "output_type": "execute_result"
    }
   ],
   "source": [
    "# Step 1: Always start with an empty list to store our simulation data:\n",
    "data = []\n",
    "\n",
    "# Step 2: Write the simulation inside of a for-loop\n",
    "for i in range(1000):\n",
    "    red = random.randint(1,6)\n",
    "    blue = random.randint(1,6)\n",
    "    \n",
    "    d = {\"Red\" : red, 'Blue' : blue}\n",
    "    data.append(d)\n",
    "# Step 3: Store the simulation data into a DataFrame\n",
    "df1 = pd.DataFrame(data)\n",
    "\n",
    "\n",
    "\n",
    "# ...and show a few random rows:\n",
    "df1.sample(5)"
   ]
  },
  {
   "cell_type": "markdown",
   "metadata": {},
   "source": [
    "### Puzzle 1.1: Probability Calculations\n",
    "\n",
    "Find our estimation of the probability that the blue die lands on 4 or the red die lands on 2?\n",
    "\n",
    "- To do this, create a `df1_success` DataFrame with only the rows that were successful.\n",
    "- Use `df1` and `df1_success` to find the probability of success using your simulation and store that value in `P_puzzle1` below."
   ]
  },
  {
   "cell_type": "code",
   "execution_count": 9,
   "metadata": {
    "deletable": false,
    "nbgrader": {
     "cell_type": "code",
     "checksum": "148883809830c12ee5361aabfd1e5965",
     "grade": false,
     "grade_id": "cell-574832866d787b88",
     "locked": false,
     "schema_version": 3,
     "solution": true,
     "task": false
    }
   },
   "outputs": [
    {
     "data": {
      "text/html": [
       "<div>\n",
       "<style scoped>\n",
       "    .dataframe tbody tr th:only-of-type {\n",
       "        vertical-align: middle;\n",
       "    }\n",
       "\n",
       "    .dataframe tbody tr th {\n",
       "        vertical-align: top;\n",
       "    }\n",
       "\n",
       "    .dataframe thead th {\n",
       "        text-align: right;\n",
       "    }\n",
       "</style>\n",
       "<table border=\"1\" class=\"dataframe\">\n",
       "  <thead>\n",
       "    <tr style=\"text-align: right;\">\n",
       "      <th></th>\n",
       "      <th>Blue</th>\n",
       "      <th>Red</th>\n",
       "    </tr>\n",
       "  </thead>\n",
       "  <tbody>\n",
       "    <tr>\n",
       "      <th>501</th>\n",
       "      <td>2</td>\n",
       "      <td>2</td>\n",
       "    </tr>\n",
       "    <tr>\n",
       "      <th>242</th>\n",
       "      <td>4</td>\n",
       "      <td>4</td>\n",
       "    </tr>\n",
       "    <tr>\n",
       "      <th>207</th>\n",
       "      <td>2</td>\n",
       "      <td>2</td>\n",
       "    </tr>\n",
       "    <tr>\n",
       "      <th>133</th>\n",
       "      <td>1</td>\n",
       "      <td>2</td>\n",
       "    </tr>\n",
       "    <tr>\n",
       "      <th>291</th>\n",
       "      <td>4</td>\n",
       "      <td>3</td>\n",
       "    </tr>\n",
       "  </tbody>\n",
       "</table>\n",
       "</div>"
      ],
      "text/plain": [
       "     Blue  Red\n",
       "501     2    2\n",
       "242     4    4\n",
       "207     2    2\n",
       "133     1    2\n",
       "291     4    3"
      ]
     },
     "execution_count": 9,
     "metadata": {},
     "output_type": "execute_result"
    }
   ],
   "source": [
    "# Create a DataFrame that contains only the subset of observations that were successful:\n",
    "df1_success = df1[(df1['Blue'] == 4) | (df1['Red'] == 2)]\n",
    "\n",
    "\n",
    "\n",
    "# ...and show a few random rows:\n",
    "df1_success.sample(5)"
   ]
  },
  {
   "cell_type": "code",
   "execution_count": 10,
   "metadata": {
    "deletable": false,
    "nbgrader": {
     "cell_type": "code",
     "checksum": "729fc9879d83a111dccf56faf69bf511",
     "grade": false,
     "grade_id": "cell-5144eadebe059446",
     "locked": false,
     "schema_version": 3,
     "solution": true,
     "task": false
    }
   },
   "outputs": [
    {
     "data": {
      "text/plain": [
       "0.318"
      ]
     },
     "execution_count": 10,
     "metadata": {},
     "output_type": "execute_result"
    }
   ],
   "source": [
    "# Find the value of P_puzzle1, the probability of success:\n",
    "P_puzzle1 = len(df1_success) / len(df1)\n",
    "P_puzzle1\n",
    "\n"
   ]
  },
  {
   "cell_type": "markdown",
   "metadata": {},
   "source": [
    "### Puzzle 1.2: Finding the Exact Answer\n",
    "\n",
    "This simulation simulated a pretty easy example that you can find an exact answer to!  Using the probability learned from lecture, calculate `P_puzzle1_exact`, the **exact** probability of the blue die landing on a 4 **or** the red die landing on a 2."
   ]
  },
  {
   "cell_type": "code",
   "execution_count": 6,
   "metadata": {
    "deletable": false,
    "nbgrader": {
     "cell_type": "code",
     "checksum": "96855c989056b85489821ec3bd0b5549",
     "grade": false,
     "grade_id": "cell-a28ce929e8600774",
     "locked": false,
     "schema_version": 3,
     "solution": true,
     "task": false
    }
   },
   "outputs": [
    {
     "data": {
      "text/plain": [
       "0.3055555555555555"
      ]
     },
     "execution_count": 6,
     "metadata": {},
     "output_type": "execute_result"
    }
   ],
   "source": [
    "P_puzzle1_exact = 1/6 + 1/6 - ((1/6)*(1/6))\n",
    "P_puzzle1_exact\n",
    "\n"
   ]
  },
  {
   "cell_type": "markdown",
   "metadata": {},
   "source": [
    "### Puzzle 1.3: Finding the Error\n",
    "\n",
    "The **error** in a simulation is the difference between the exact value and value found from the simulation.  Subtract the estimated value (`P_puzzle1`) from the exact value (`P_puzzle1_exact`) to find the total error and store it in `puzzle1_error`."
   ]
  },
  {
   "cell_type": "code",
   "execution_count": 11,
   "metadata": {
    "deletable": false,
    "nbgrader": {
     "cell_type": "code",
     "checksum": "5161c109f7e932ddbe30d7beb300f849",
     "grade": false,
     "grade_id": "cell-34b43bb91da6a5d5",
     "locked": false,
     "schema_version": 3,
     "solution": true,
     "task": false
    }
   },
   "outputs": [
    {
     "data": {
      "text/plain": [
       "-0.01244444444444448"
      ]
     },
     "execution_count": 11,
     "metadata": {},
     "output_type": "execute_result"
    }
   ],
   "source": [
    "puzzle1_error = P_puzzle1_exact - P_puzzle1\n",
    "puzzle1_error\n",
    "\n"
   ]
  },
  {
   "cell_type": "code",
   "execution_count": 12,
   "metadata": {
    "deletable": false,
    "editable": false,
    "nbgrader": {
     "cell_type": "code",
     "checksum": "ad1f8ea656e180c3bc31832b8306e585",
     "grade": true,
     "grade_id": "cell-2572755404d50c65",
     "locked": true,
     "points": 1,
     "schema_version": 3,
     "solution": false,
     "task": false
    }
   },
   "outputs": [
    {
     "name": "stdout",
     "output_type": "stream",
     "text": [
      "🎉 All tests passed! 🎉\n",
      "\n",
      "Simulated Probability: P(blue == 4 | red == 2) = 31.8%\n",
      "    Exact Probability:                         = 30.56%\n"
     ]
    }
   ],
   "source": [
    "## == TEST CASES for Simulation 1 ==\n",
    "# - This read-only cell contains test cases for your previous cell.\n",
    "# - If this cell runs without any error our output, you PASSED all test cases!\n",
    "# - If this cell results in any errors, check you previous cell, make changes, and RE-RUN your code and then this cell.\n",
    "\n",
    "assert(len(df1) == 1000), \"Make sure your df1 has exactly 1,000 observations\"\n",
    "assert(len(df1_success) < 1000), \"Make sure your df1_success only has successes\"\n",
    "assert(P_puzzle1 > 0 and P_puzzle1 < 1), \"Make sure your P_puzzle1 is a probability of success\"\n",
    "assert(round(P_puzzle1_exact, 3) == 0.306), \"Make sure your P_puzzle1_exact contains the exact probability of success\"\n",
    "assert(puzzle1_error < 1), \"Make sure to calculate the error by subtraction\"\n",
    "\n",
    "## == SUCCESS MESSAGE ==\n",
    "# You will only see this message (with the emoji showing) if you passed all test cases:\n",
    "tada = \"\\N{PARTY POPPER}\"\n",
    "print(f\"{tada} All tests passed! {tada}\")\n",
    "print()\n",
    "print(f\"Simulated Probability: P(blue == 4 | red == 2) = {round(100 * P_puzzle1, 2)}%\")\n",
    "print(f\"    Exact Probability:                         = {round(100 * P_puzzle1_exact, 2)}%\")"
   ]
  },
  {
   "cell_type": "markdown",
   "metadata": {},
   "source": [
    "## Simulation 2: Rolling Three Die\n",
    "\n",
    "Let's add another die into the mix.  Suppose we roll three dice: a **white**, a **red**, and a **blue** die.\n",
    "\n",
    "Write a 1,000-run simulation of that event and store the observations in `df2`:"
   ]
  },
  {
   "cell_type": "code",
   "execution_count": 15,
   "metadata": {
    "deletable": false,
    "nbgrader": {
     "cell_type": "code",
     "checksum": "6cb4c60ef04ad189ded83d0d42e67b1f",
     "grade": false,
     "grade_id": "cell-c42efbf1ba47dcab",
     "locked": false,
     "schema_version": 3,
     "solution": true,
     "task": false
    }
   },
   "outputs": [
    {
     "data": {
      "text/html": [
       "<div>\n",
       "<style scoped>\n",
       "    .dataframe tbody tr th:only-of-type {\n",
       "        vertical-align: middle;\n",
       "    }\n",
       "\n",
       "    .dataframe tbody tr th {\n",
       "        vertical-align: top;\n",
       "    }\n",
       "\n",
       "    .dataframe thead th {\n",
       "        text-align: right;\n",
       "    }\n",
       "</style>\n",
       "<table border=\"1\" class=\"dataframe\">\n",
       "  <thead>\n",
       "    <tr style=\"text-align: right;\">\n",
       "      <th></th>\n",
       "      <th>Blue</th>\n",
       "      <th>Red</th>\n",
       "      <th>Total</th>\n",
       "      <th>White</th>\n",
       "    </tr>\n",
       "  </thead>\n",
       "  <tbody>\n",
       "    <tr>\n",
       "      <th>67</th>\n",
       "      <td>5</td>\n",
       "      <td>6</td>\n",
       "      <td>15</td>\n",
       "      <td>4</td>\n",
       "    </tr>\n",
       "    <tr>\n",
       "      <th>454</th>\n",
       "      <td>6</td>\n",
       "      <td>1</td>\n",
       "      <td>9</td>\n",
       "      <td>2</td>\n",
       "    </tr>\n",
       "    <tr>\n",
       "      <th>964</th>\n",
       "      <td>6</td>\n",
       "      <td>4</td>\n",
       "      <td>11</td>\n",
       "      <td>1</td>\n",
       "    </tr>\n",
       "    <tr>\n",
       "      <th>705</th>\n",
       "      <td>6</td>\n",
       "      <td>2</td>\n",
       "      <td>14</td>\n",
       "      <td>6</td>\n",
       "    </tr>\n",
       "    <tr>\n",
       "      <th>745</th>\n",
       "      <td>6</td>\n",
       "      <td>2</td>\n",
       "      <td>13</td>\n",
       "      <td>5</td>\n",
       "    </tr>\n",
       "  </tbody>\n",
       "</table>\n",
       "</div>"
      ],
      "text/plain": [
       "     Blue  Red  Total  White\n",
       "67      5    6     15      4\n",
       "454     6    1      9      2\n",
       "964     6    4     11      1\n",
       "705     6    2     14      6\n",
       "745     6    2     13      5"
      ]
     },
     "execution_count": 15,
     "metadata": {},
     "output_type": "execute_result"
    }
   ],
   "source": [
    "# Step 1: Always start with an empty list to store our simulation data:\n",
    "data2 = []\n",
    "\n",
    "# Step 2: Write the simulation inside of a for-loop\n",
    "for i in range(1000):\n",
    "    red = random.randint(1,6)\n",
    "    blue = random.randint(1,6)\n",
    "    white = random.randint(1,6)\n",
    "    total = red + white + blue\n",
    "    \n",
    "    d2 = {'White': white, \"Red\" : red, 'Blue' : blue, 'Total' : total}\n",
    "    data2.append(d2)\n",
    "    \n",
    "# Step 3: Store the simulation data into a DataFrame\n",
    "df2 = pd.DataFrame(data2)\n",
    "\n",
    "\n",
    "\n",
    "# ...and show a few random rows:\n",
    "df2.sample(5)"
   ]
  },
  {
   "cell_type": "markdown",
   "metadata": {},
   "source": [
    "### Puzzle 2.1: Probability Calculations\n",
    "\n",
    "Find our estimation of the probability that the **sum of all three die** is equal to exactly 9.\n",
    "\n",
    "- To do this, create a `df2_success` DataFrame with only the rows that were successful.\n",
    "- Store our estimation of the probability of success in `P_puzzle2` below."
   ]
  },
  {
   "cell_type": "code",
   "execution_count": 16,
   "metadata": {
    "deletable": false,
    "nbgrader": {
     "cell_type": "code",
     "checksum": "b216342596e589f5f9a850ffcfe81b13",
     "grade": false,
     "grade_id": "cell-648b4ad7ce37646c",
     "locked": false,
     "schema_version": 3,
     "solution": true,
     "task": false
    }
   },
   "outputs": [
    {
     "data": {
      "text/html": [
       "<div>\n",
       "<style scoped>\n",
       "    .dataframe tbody tr th:only-of-type {\n",
       "        vertical-align: middle;\n",
       "    }\n",
       "\n",
       "    .dataframe tbody tr th {\n",
       "        vertical-align: top;\n",
       "    }\n",
       "\n",
       "    .dataframe thead th {\n",
       "        text-align: right;\n",
       "    }\n",
       "</style>\n",
       "<table border=\"1\" class=\"dataframe\">\n",
       "  <thead>\n",
       "    <tr style=\"text-align: right;\">\n",
       "      <th></th>\n",
       "      <th>Blue</th>\n",
       "      <th>Red</th>\n",
       "      <th>Total</th>\n",
       "      <th>White</th>\n",
       "    </tr>\n",
       "  </thead>\n",
       "  <tbody>\n",
       "    <tr>\n",
       "      <th>10</th>\n",
       "      <td>3</td>\n",
       "      <td>1</td>\n",
       "      <td>9</td>\n",
       "      <td>5</td>\n",
       "    </tr>\n",
       "    <tr>\n",
       "      <th>425</th>\n",
       "      <td>5</td>\n",
       "      <td>3</td>\n",
       "      <td>9</td>\n",
       "      <td>1</td>\n",
       "    </tr>\n",
       "    <tr>\n",
       "      <th>137</th>\n",
       "      <td>1</td>\n",
       "      <td>3</td>\n",
       "      <td>9</td>\n",
       "      <td>5</td>\n",
       "    </tr>\n",
       "    <tr>\n",
       "      <th>382</th>\n",
       "      <td>1</td>\n",
       "      <td>4</td>\n",
       "      <td>9</td>\n",
       "      <td>4</td>\n",
       "    </tr>\n",
       "    <tr>\n",
       "      <th>182</th>\n",
       "      <td>4</td>\n",
       "      <td>3</td>\n",
       "      <td>9</td>\n",
       "      <td>2</td>\n",
       "    </tr>\n",
       "  </tbody>\n",
       "</table>\n",
       "</div>"
      ],
      "text/plain": [
       "     Blue  Red  Total  White\n",
       "10      3    1      9      5\n",
       "425     5    3      9      1\n",
       "137     1    3      9      5\n",
       "382     1    4      9      4\n",
       "182     4    3      9      2"
      ]
     },
     "execution_count": 16,
     "metadata": {},
     "output_type": "execute_result"
    }
   ],
   "source": [
    "# Create a DataFrame that contains only the subset of observations that were successful:\n",
    "df2_success = df2[df2['Total'] == 9]\n",
    "\n",
    "\n",
    "\n",
    "# ...and show a few random rows:\n",
    "df2_success.sample(5)"
   ]
  },
  {
   "cell_type": "code",
   "execution_count": 17,
   "metadata": {
    "deletable": false,
    "nbgrader": {
     "cell_type": "code",
     "checksum": "be85e8bdf1428fec4afbc899e4e14e8a",
     "grade": false,
     "grade_id": "cell-b16fd8d9c98834ef",
     "locked": false,
     "schema_version": 3,
     "solution": true,
     "task": false
    }
   },
   "outputs": [
    {
     "data": {
      "text/plain": [
       "0.106"
      ]
     },
     "execution_count": 17,
     "metadata": {},
     "output_type": "execute_result"
    }
   ],
   "source": [
    "# Find the value of P_puzzle2, the probability of success:\n",
    "P_puzzle2 = len(df2_success) / len(df2)\n",
    "P_puzzle2\n",
    "\n"
   ]
  },
  {
   "cell_type": "code",
   "execution_count": 18,
   "metadata": {
    "deletable": false,
    "editable": false,
    "nbgrader": {
     "cell_type": "code",
     "checksum": "cf6743f2d73c0d2bd3a24795326db9a9",
     "grade": true,
     "grade_id": "cell-571231fcdfa9de08",
     "locked": true,
     "points": 1,
     "schema_version": 3,
     "solution": false,
     "task": false
    }
   },
   "outputs": [
    {
     "name": "stdout",
     "output_type": "stream",
     "text": [
      "🎉 All tests passed! 🎉\n"
     ]
    }
   ],
   "source": [
    "## == TEST CASES for Simulation 2 ==\n",
    "# - This read-only cell contains test cases for your previous cell.\n",
    "# - If this cell runs without any error our output, you PASSED all test cases!\n",
    "# - If this cell results in any errors, check you previous cell, make changes, and RE-RUN your code and then this cell.\n",
    "\n",
    "assert(len(df2) == 1000), \"Make sure your df2 has exactly 1,000 observations\"\n",
    "assert(len(df2_success) < 1000), \"Make sure your df2_success only has successes\"\n",
    "assert(P_puzzle2 > 0 and P_puzzle2 < 1), \"Make sure your P_puzzle2 is a probability of success\"\n",
    "\n",
    "## == SUCCESS MESSAGE ==\n",
    "# You will only see this message (with the emoji showing) if you passed all test cases:\n",
    "tada = \"\\N{PARTY POPPER}\"\n",
    "print(f\"{tada} All tests passed! {tada}\")"
   ]
  },
  {
   "cell_type": "markdown",
   "metadata": {},
   "source": [
    "## Simulation 3: Fliping Four Coins\n",
    "\n",
    "Supoose we flip **four coins**, one coin at a time, one after another.  Each coin has two sides, \"Heads\" and \"Tails\".\n",
    "\n",
    "Write a simulation of that event and store the observations in `df3` and run the simulation **50,000** times:"
   ]
  },
  {
   "cell_type": "code",
   "execution_count": 19,
   "metadata": {
    "deletable": false,
    "nbgrader": {
     "cell_type": "code",
     "checksum": "a44943a48c0fe9c0a04b6125cb797ee8",
     "grade": false,
     "grade_id": "cell-da32a7ecb4863a7f",
     "locked": false,
     "schema_version": 3,
     "solution": true,
     "task": false
    }
   },
   "outputs": [
    {
     "data": {
      "text/html": [
       "<div>\n",
       "<style scoped>\n",
       "    .dataframe tbody tr th:only-of-type {\n",
       "        vertical-align: middle;\n",
       "    }\n",
       "\n",
       "    .dataframe tbody tr th {\n",
       "        vertical-align: top;\n",
       "    }\n",
       "\n",
       "    .dataframe thead th {\n",
       "        text-align: right;\n",
       "    }\n",
       "</style>\n",
       "<table border=\"1\" class=\"dataframe\">\n",
       "  <thead>\n",
       "    <tr style=\"text-align: right;\">\n",
       "      <th></th>\n",
       "      <th>Toss1</th>\n",
       "      <th>Toss2</th>\n",
       "      <th>Toss3</th>\n",
       "      <th>Toss4</th>\n",
       "    </tr>\n",
       "  </thead>\n",
       "  <tbody>\n",
       "    <tr>\n",
       "      <th>21242</th>\n",
       "      <td>0</td>\n",
       "      <td>1</td>\n",
       "      <td>0</td>\n",
       "      <td>0</td>\n",
       "    </tr>\n",
       "    <tr>\n",
       "      <th>14578</th>\n",
       "      <td>1</td>\n",
       "      <td>0</td>\n",
       "      <td>0</td>\n",
       "      <td>0</td>\n",
       "    </tr>\n",
       "    <tr>\n",
       "      <th>27604</th>\n",
       "      <td>1</td>\n",
       "      <td>1</td>\n",
       "      <td>1</td>\n",
       "      <td>0</td>\n",
       "    </tr>\n",
       "    <tr>\n",
       "      <th>17107</th>\n",
       "      <td>1</td>\n",
       "      <td>1</td>\n",
       "      <td>1</td>\n",
       "      <td>0</td>\n",
       "    </tr>\n",
       "    <tr>\n",
       "      <th>5272</th>\n",
       "      <td>1</td>\n",
       "      <td>0</td>\n",
       "      <td>1</td>\n",
       "      <td>0</td>\n",
       "    </tr>\n",
       "  </tbody>\n",
       "</table>\n",
       "</div>"
      ],
      "text/plain": [
       "       Toss1  Toss2  Toss3  Toss4\n",
       "21242      0      1      0      0\n",
       "14578      1      0      0      0\n",
       "27604      1      1      1      0\n",
       "17107      1      1      1      0\n",
       "5272       1      0      1      0"
      ]
     },
     "execution_count": 19,
     "metadata": {},
     "output_type": "execute_result"
    }
   ],
   "source": [
    "# Refer to the previous simulations if needed, but write the code yourself (don't just copy/paste and edit it)L\n",
    "\n",
    "data3 = []\n",
    "\n",
    "for i in range(50000):\n",
    "    # Head = 1, Tail = 0\n",
    "    \n",
    "    toss1 = random.randint(0,1)\n",
    "    toss2 = random.randint(0,1)\n",
    "    toss3 = random.randint(0,1)\n",
    "    toss4 = random.randint(0,1)\n",
    "    d3 = {'Toss1': toss1, 'Toss2': toss2, 'Toss3': toss3, 'Toss4': toss4}\n",
    "    data3.append(d3)\n",
    "\n",
    "\n",
    "\n",
    "df3 = pd.DataFrame(data3)\n",
    "\n",
    "\n",
    "\n",
    "# ...and show a few random rows:\n",
    "df3.sample(5)"
   ]
  },
  {
   "cell_type": "markdown",
   "metadata": {},
   "source": [
    "### Puzzle 3.1: Probability Calculations\n",
    "\n",
    "Find our estimation of the probability that your first two coin flips were both heads and your last two coin flips were both tails?\n",
    "\n",
    "- To do this, create a `df3_success` DataFrame with only the rows that were successful.\n",
    "- Store our estimation of the probability of success in `P_puzzle3` below."
   ]
  },
  {
   "cell_type": "code",
   "execution_count": 23,
   "metadata": {
    "deletable": false,
    "nbgrader": {
     "cell_type": "code",
     "checksum": "558db8fffb4cba89d79468ea904d9442",
     "grade": false,
     "grade_id": "cell-762f8885cf1175bc",
     "locked": false,
     "schema_version": 3,
     "solution": true,
     "task": false
    }
   },
   "outputs": [
    {
     "data": {
      "text/html": [
       "<div>\n",
       "<style scoped>\n",
       "    .dataframe tbody tr th:only-of-type {\n",
       "        vertical-align: middle;\n",
       "    }\n",
       "\n",
       "    .dataframe tbody tr th {\n",
       "        vertical-align: top;\n",
       "    }\n",
       "\n",
       "    .dataframe thead th {\n",
       "        text-align: right;\n",
       "    }\n",
       "</style>\n",
       "<table border=\"1\" class=\"dataframe\">\n",
       "  <thead>\n",
       "    <tr style=\"text-align: right;\">\n",
       "      <th></th>\n",
       "      <th>Toss1</th>\n",
       "      <th>Toss2</th>\n",
       "      <th>Toss3</th>\n",
       "      <th>Toss4</th>\n",
       "    </tr>\n",
       "  </thead>\n",
       "  <tbody>\n",
       "    <tr>\n",
       "      <th>30199</th>\n",
       "      <td>1</td>\n",
       "      <td>1</td>\n",
       "      <td>0</td>\n",
       "      <td>0</td>\n",
       "    </tr>\n",
       "    <tr>\n",
       "      <th>35489</th>\n",
       "      <td>1</td>\n",
       "      <td>1</td>\n",
       "      <td>0</td>\n",
       "      <td>0</td>\n",
       "    </tr>\n",
       "    <tr>\n",
       "      <th>19897</th>\n",
       "      <td>1</td>\n",
       "      <td>1</td>\n",
       "      <td>0</td>\n",
       "      <td>0</td>\n",
       "    </tr>\n",
       "    <tr>\n",
       "      <th>8446</th>\n",
       "      <td>1</td>\n",
       "      <td>1</td>\n",
       "      <td>0</td>\n",
       "      <td>0</td>\n",
       "    </tr>\n",
       "    <tr>\n",
       "      <th>41095</th>\n",
       "      <td>1</td>\n",
       "      <td>1</td>\n",
       "      <td>0</td>\n",
       "      <td>0</td>\n",
       "    </tr>\n",
       "  </tbody>\n",
       "</table>\n",
       "</div>"
      ],
      "text/plain": [
       "       Toss1  Toss2  Toss3  Toss4\n",
       "30199      1      1      0      0\n",
       "35489      1      1      0      0\n",
       "19897      1      1      0      0\n",
       "8446       1      1      0      0\n",
       "41095      1      1      0      0"
      ]
     },
     "execution_count": 23,
     "metadata": {},
     "output_type": "execute_result"
    }
   ],
   "source": [
    "# Create a DataFrame that contains only the subset of observations that were successful:\n",
    "df3_success = df3[ (df3['Toss1'] == 1) & (df3['Toss2'] == 1) & (df3['Toss3'] == 0) & (df3['Toss4'] == 0) ]\n",
    "\n",
    "\n",
    "\n",
    "# ...and show a few random rows:\n",
    "df3_success.sample(5)"
   ]
  },
  {
   "cell_type": "code",
   "execution_count": 24,
   "metadata": {
    "deletable": false,
    "nbgrader": {
     "cell_type": "code",
     "checksum": "95ef7861928caf99848f18c8ae5ba1e6",
     "grade": false,
     "grade_id": "cell-500cf95087dcb6db",
     "locked": false,
     "schema_version": 3,
     "solution": true,
     "task": false
    }
   },
   "outputs": [
    {
     "data": {
      "text/plain": [
       "0.06204"
      ]
     },
     "execution_count": 24,
     "metadata": {},
     "output_type": "execute_result"
    }
   ],
   "source": [
    "# Find the value of P_puzzle3, the probability of success:\n",
    "P_puzzle3 = len(df3_success) / len(df3)\n",
    "P_puzzle3\n",
    "\n"
   ]
  },
  {
   "cell_type": "code",
   "execution_count": 25,
   "metadata": {
    "deletable": false,
    "editable": false,
    "nbgrader": {
     "cell_type": "code",
     "checksum": "c8f74bfe830f93f7ee75abad9bef5f64",
     "grade": true,
     "grade_id": "cell-ee8226d0066bb603",
     "locked": true,
     "points": 1,
     "schema_version": 3,
     "solution": false,
     "task": false
    }
   },
   "outputs": [
    {
     "name": "stdout",
     "output_type": "stream",
     "text": [
      "🎉 All tests passed! 🎉\n"
     ]
    }
   ],
   "source": [
    "## == TEST CASES for Simulation 3 ==\n",
    "# - This read-only cell contains test cases for your previous cell.\n",
    "# - If this cell runs without any error our output, you PASSED all test cases!\n",
    "# - If this cell results in any errors, check you previous cell, make changes, and RE-RUN your code and then this cell.\n",
    "\n",
    "assert(len(df3) == 50000), \"Make sure your df3 has exactly 50,000 observations\"\n",
    "assert(len(df3_success) < 10000), \"Make sure your df3_success only has successes\"\n",
    "assert(P_puzzle3 > 0.03 and P_puzzle3 < 0.125), \"Make sure your P_puzzle3 is a probability of success\"\n",
    "\n",
    "## == SUCCESS MESSAGE ==\n",
    "# You will only see this message (with the emoji showing) if you passed all test cases:\n",
    "tada = \"\\N{PARTY POPPER}\"\n",
    "print(f\"{tada} All tests passed! {tada}\")"
   ]
  },
  {
   "cell_type": "markdown",
   "metadata": {},
   "source": [
    "## Simulation 4: A short exam\n",
    "\n",
    "Suppose you take a short exam with **four quesitons**:\n",
    "\n",
    "- Two multiple choice questions with five possible responses, AND\n",
    "- Two true/false questions\n",
    "\n",
    "Write a simulation of that randomly guess on each question and store the observations in `df4`.  Run the simulation **107,000** times:"
   ]
  },
  {
   "cell_type": "code",
   "execution_count": 26,
   "metadata": {
    "deletable": false,
    "nbgrader": {
     "cell_type": "code",
     "checksum": "dbc8570199e262042bd7e25d5bca1a49",
     "grade": false,
     "grade_id": "cell-18a97c31851aa17c",
     "locked": false,
     "schema_version": 3,
     "solution": true,
     "task": false
    }
   },
   "outputs": [
    {
     "data": {
      "text/html": [
       "<div>\n",
       "<style scoped>\n",
       "    .dataframe tbody tr th:only-of-type {\n",
       "        vertical-align: middle;\n",
       "    }\n",
       "\n",
       "    .dataframe tbody tr th {\n",
       "        vertical-align: top;\n",
       "    }\n",
       "\n",
       "    .dataframe thead th {\n",
       "        text-align: right;\n",
       "    }\n",
       "</style>\n",
       "<table border=\"1\" class=\"dataframe\">\n",
       "  <thead>\n",
       "    <tr style=\"text-align: right;\">\n",
       "      <th></th>\n",
       "      <th>MCQ 1</th>\n",
       "      <th>MCQ 2</th>\n",
       "      <th>ToF 1</th>\n",
       "      <th>ToF 2</th>\n",
       "    </tr>\n",
       "  </thead>\n",
       "  <tbody>\n",
       "    <tr>\n",
       "      <th>55525</th>\n",
       "      <td>3</td>\n",
       "      <td>2</td>\n",
       "      <td>1</td>\n",
       "      <td>1</td>\n",
       "    </tr>\n",
       "    <tr>\n",
       "      <th>30379</th>\n",
       "      <td>2</td>\n",
       "      <td>5</td>\n",
       "      <td>0</td>\n",
       "      <td>1</td>\n",
       "    </tr>\n",
       "    <tr>\n",
       "      <th>72711</th>\n",
       "      <td>2</td>\n",
       "      <td>5</td>\n",
       "      <td>1</td>\n",
       "      <td>1</td>\n",
       "    </tr>\n",
       "    <tr>\n",
       "      <th>62091</th>\n",
       "      <td>3</td>\n",
       "      <td>4</td>\n",
       "      <td>1</td>\n",
       "      <td>1</td>\n",
       "    </tr>\n",
       "    <tr>\n",
       "      <th>53962</th>\n",
       "      <td>4</td>\n",
       "      <td>4</td>\n",
       "      <td>0</td>\n",
       "      <td>1</td>\n",
       "    </tr>\n",
       "  </tbody>\n",
       "</table>\n",
       "</div>"
      ],
      "text/plain": [
       "       MCQ 1  MCQ 2  ToF 1  ToF 2\n",
       "55525      3      2      1      1\n",
       "30379      2      5      0      1\n",
       "72711      2      5      1      1\n",
       "62091      3      4      1      1\n",
       "53962      4      4      0      1"
      ]
     },
     "execution_count": 26,
     "metadata": {},
     "output_type": "execute_result"
    }
   ],
   "source": [
    "data4 = []\n",
    "\n",
    "for i in range(107000):\n",
    "    mcq1 = random.randint(1,5)\n",
    "    mcq2 = random.randint(1,5)\n",
    "    \n",
    "    # true = 1, false = 0\n",
    "    tof1 = random.randint(0,1)\n",
    "    tof2 = random.randint(0,1)\n",
    "    \n",
    "    d4 = {'MCQ 1' : mcq1, 'MCQ 2' : mcq2, 'ToF 1' : tof1, 'ToF 2' : tof2}\n",
    "    data4.append(d4)\n",
    "\n",
    "\n",
    "\n",
    "\n",
    "\n",
    "df4 = pd.DataFrame(data4)\n",
    "\n",
    "\n",
    "\n",
    "# ...and show a few random rows:\n",
    "df4.sample(5)"
   ]
  },
  {
   "cell_type": "markdown",
   "metadata": {},
   "source": [
    "### Puzzle 4.1: Probability Calculations\n",
    "\n",
    "Suppose you have a solution for the exam (the solution itself can be anything, you just need to make sure each question only has one correct answer).  Find an estimation of the probability that a student, who randomly guesses on each question, **earned a 100%** on the exam.\n",
    "\n",
    "- To do this, create a `df4_success` DataFrame with only the rows that were successful.\n",
    "- Store our estimation of the probability of success in `P_puzzle4` below."
   ]
  },
  {
   "cell_type": "code",
   "execution_count": 27,
   "metadata": {
    "deletable": false,
    "nbgrader": {
     "cell_type": "code",
     "checksum": "4d6d19246f741848a5771bad425a71cc",
     "grade": false,
     "grade_id": "cell-347ce0ac71f7bc03",
     "locked": false,
     "schema_version": 3,
     "solution": true,
     "task": false
    }
   },
   "outputs": [
    {
     "data": {
      "text/html": [
       "<div>\n",
       "<style scoped>\n",
       "    .dataframe tbody tr th:only-of-type {\n",
       "        vertical-align: middle;\n",
       "    }\n",
       "\n",
       "    .dataframe tbody tr th {\n",
       "        vertical-align: top;\n",
       "    }\n",
       "\n",
       "    .dataframe thead th {\n",
       "        text-align: right;\n",
       "    }\n",
       "</style>\n",
       "<table border=\"1\" class=\"dataframe\">\n",
       "  <thead>\n",
       "    <tr style=\"text-align: right;\">\n",
       "      <th></th>\n",
       "      <th>MCQ 1</th>\n",
       "      <th>MCQ 2</th>\n",
       "      <th>ToF 1</th>\n",
       "      <th>ToF 2</th>\n",
       "    </tr>\n",
       "  </thead>\n",
       "  <tbody>\n",
       "    <tr>\n",
       "      <th>54651</th>\n",
       "      <td>1</td>\n",
       "      <td>2</td>\n",
       "      <td>0</td>\n",
       "      <td>1</td>\n",
       "    </tr>\n",
       "    <tr>\n",
       "      <th>27922</th>\n",
       "      <td>1</td>\n",
       "      <td>2</td>\n",
       "      <td>0</td>\n",
       "      <td>1</td>\n",
       "    </tr>\n",
       "    <tr>\n",
       "      <th>106245</th>\n",
       "      <td>1</td>\n",
       "      <td>2</td>\n",
       "      <td>0</td>\n",
       "      <td>1</td>\n",
       "    </tr>\n",
       "    <tr>\n",
       "      <th>37864</th>\n",
       "      <td>1</td>\n",
       "      <td>2</td>\n",
       "      <td>0</td>\n",
       "      <td>1</td>\n",
       "    </tr>\n",
       "    <tr>\n",
       "      <th>52634</th>\n",
       "      <td>1</td>\n",
       "      <td>2</td>\n",
       "      <td>0</td>\n",
       "      <td>1</td>\n",
       "    </tr>\n",
       "  </tbody>\n",
       "</table>\n",
       "</div>"
      ],
      "text/plain": [
       "        MCQ 1  MCQ 2  ToF 1  ToF 2\n",
       "54651       1      2      0      1\n",
       "27922       1      2      0      1\n",
       "106245      1      2      0      1\n",
       "37864       1      2      0      1\n",
       "52634       1      2      0      1"
      ]
     },
     "execution_count": 27,
     "metadata": {},
     "output_type": "execute_result"
    }
   ],
   "source": [
    "# Create a DataFrame that contains only the subset of observations that were successful:\n",
    "df4_success = df4[ (df4['MCQ 1'] == 1) & (df4['MCQ 2'] == 2) & (df4['ToF 1'] == 0) & (df4['ToF 2'] == 1) ]\n",
    "\n",
    "\n",
    "\n",
    "# ...and show a few random rows:\n",
    "df4_success.sample(5)"
   ]
  },
  {
   "cell_type": "code",
   "execution_count": 28,
   "metadata": {
    "deletable": false,
    "nbgrader": {
     "cell_type": "code",
     "checksum": "02b0741470898915fe31d1d95fd5ea58",
     "grade": false,
     "grade_id": "cell-fe878c90818d81cd",
     "locked": false,
     "schema_version": 3,
     "solution": true,
     "task": false
    }
   },
   "outputs": [
    {
     "data": {
      "text/plain": [
       "0.010214953271028037"
      ]
     },
     "execution_count": 28,
     "metadata": {},
     "output_type": "execute_result"
    }
   ],
   "source": [
    "# Find the value of P_puzzle4, the probability of success:\n",
    "P_puzzle4 = len(df4_success) / len(df4)\n",
    "P_puzzle4\n",
    "\n"
   ]
  },
  {
   "cell_type": "markdown",
   "metadata": {},
   "source": [
    "### Puzzle 4.2: Probability Calculations\n",
    "\n",
    "Suppose you have a solution for the exam (the solution itself can be anything, you just need to make sure each question only has one correct answer).  Find an estimation of the probability that a student, who randomly guesses on each question, **earned a passing grade** on the exam.  *(Each question is worth the same amount, so a passing grade means you got at least 3 of the four quesitons correct.)*\n",
    "\n",
    "- To do this, create a `df4_passing` DataFrame with only the rows that were successful.\n",
    "- Store our estimation of the probability of success in `P_puzzle4_passing` below."
   ]
  },
  {
   "cell_type": "code",
   "execution_count": 29,
   "metadata": {
    "deletable": false,
    "nbgrader": {
     "cell_type": "code",
     "checksum": "2a885b911abd3ddbaaeaabc7e1b025c3",
     "grade": false,
     "grade_id": "cell-2d30e3f69ccc4cab",
     "locked": false,
     "schema_version": 3,
     "solution": true,
     "task": false
    }
   },
   "outputs": [
    {
     "data": {
      "text/html": [
       "<div>\n",
       "<style scoped>\n",
       "    .dataframe tbody tr th:only-of-type {\n",
       "        vertical-align: middle;\n",
       "    }\n",
       "\n",
       "    .dataframe tbody tr th {\n",
       "        vertical-align: top;\n",
       "    }\n",
       "\n",
       "    .dataframe thead th {\n",
       "        text-align: right;\n",
       "    }\n",
       "</style>\n",
       "<table border=\"1\" class=\"dataframe\">\n",
       "  <thead>\n",
       "    <tr style=\"text-align: right;\">\n",
       "      <th></th>\n",
       "      <th>MCQ 1</th>\n",
       "      <th>MCQ 2</th>\n",
       "      <th>ToF 1</th>\n",
       "      <th>ToF 2</th>\n",
       "    </tr>\n",
       "  </thead>\n",
       "  <tbody>\n",
       "    <tr>\n",
       "      <th>86340</th>\n",
       "      <td>4</td>\n",
       "      <td>2</td>\n",
       "      <td>0</td>\n",
       "      <td>1</td>\n",
       "    </tr>\n",
       "    <tr>\n",
       "      <th>6366</th>\n",
       "      <td>5</td>\n",
       "      <td>2</td>\n",
       "      <td>0</td>\n",
       "      <td>1</td>\n",
       "    </tr>\n",
       "    <tr>\n",
       "      <th>75840</th>\n",
       "      <td>1</td>\n",
       "      <td>1</td>\n",
       "      <td>0</td>\n",
       "      <td>1</td>\n",
       "    </tr>\n",
       "    <tr>\n",
       "      <th>60887</th>\n",
       "      <td>5</td>\n",
       "      <td>2</td>\n",
       "      <td>0</td>\n",
       "      <td>1</td>\n",
       "    </tr>\n",
       "    <tr>\n",
       "      <th>56257</th>\n",
       "      <td>1</td>\n",
       "      <td>4</td>\n",
       "      <td>0</td>\n",
       "      <td>1</td>\n",
       "    </tr>\n",
       "  </tbody>\n",
       "</table>\n",
       "</div>"
      ],
      "text/plain": [
       "       MCQ 1  MCQ 2  ToF 1  ToF 2\n",
       "86340      4      2      0      1\n",
       "6366       5      2      0      1\n",
       "75840      1      1      0      1\n",
       "60887      5      2      0      1\n",
       "56257      1      4      0      1"
      ]
     },
     "execution_count": 29,
     "metadata": {},
     "output_type": "execute_result"
    }
   ],
   "source": [
    "# Create a DataFrame that contains only the subset of observations that were successful:\n",
    "df4_passing = df4[ ( (df4['MCQ 1'] == 1) & (df4['MCQ 2'] == 2) & (df4['ToF 1'] == 0) & (df4['ToF 2'] != 1)  ) | ((df4['MCQ 1'] == 1) & (df4['MCQ 2'] == 2) & (df4['ToF 1'] != 0) & (df4['ToF 2'] == 1)) | ((df4['MCQ 1'] == 1) & (df4['MCQ 2'] != 2) & (df4['ToF 1'] == 0) & (df4['ToF 2'] == 1)) | ((df4['MCQ 1'] != 1) & (df4['MCQ 2'] == 2) & (df4['ToF 1'] == 0) & (df4['ToF 2'] == 1))        ]\n",
    "\n",
    "\n",
    "\n",
    "# ...and show a few random rows:\n",
    "df4_passing.sample(5)"
   ]
  },
  {
   "cell_type": "code",
   "execution_count": 30,
   "metadata": {
    "deletable": false,
    "nbgrader": {
     "cell_type": "code",
     "checksum": "1afccd38e3d5b6730a27e009e781aff0",
     "grade": false,
     "grade_id": "cell-9bad993cdbd1fde9",
     "locked": false,
     "schema_version": 3,
     "solution": true,
     "task": false
    }
   },
   "outputs": [
    {
     "data": {
      "text/plain": [
       "0.09806542056074766"
      ]
     },
     "execution_count": 30,
     "metadata": {},
     "output_type": "execute_result"
    }
   ],
   "source": [
    "# Find the value of P_puzzle4_passing, the probability of success:\n",
    "P_puzzle4_passing = len(df4_passing) / len(df4)\n",
    "P_puzzle4_passing\n",
    "\n"
   ]
  },
  {
   "cell_type": "code",
   "execution_count": 31,
   "metadata": {
    "deletable": false,
    "editable": false,
    "nbgrader": {
     "cell_type": "code",
     "checksum": "7d1c2c0d30642743213b290601410d4d",
     "grade": true,
     "grade_id": "cell-a6ebe4ed0a4a4c12",
     "locked": true,
     "points": 1,
     "schema_version": 3,
     "solution": false,
     "task": false
    }
   },
   "outputs": [
    {
     "name": "stdout",
     "output_type": "stream",
     "text": [
      "🎉 All tests passed! 🎉\n"
     ]
    }
   ],
   "source": [
    "## == TEST CASES for Simulation 4 ==\n",
    "# - This read-only cell contains test cases for your previous cell.\n",
    "# - If this cell runs without any error our output, you PASSED all test cases!\n",
    "# - If this cell results in any errors, check you previous cell, make changes, and RE-RUN your code and then this cell.\n",
    "\n",
    "assert(len(df4) == 107000), \"Make sure your df4 has exactly 107,000 observations\"\n",
    "assert(len(df4_success) < (107000 * 0.05)), \"Make sure your df4_success only has students scoring 100%\"\n",
    "assert(len(df4_passing) < (107000 * 0.2)), \"Make sure your df4_passing has all students passing\"\n",
    "\n",
    "assert(P_puzzle4 > 0 and P_puzzle4 < 0.05), \"Make sure your P_puzzle4 is a probability of earning a 100%\"\n",
    "assert(P_puzzle4_passing > 0.05 and P_puzzle4_passing < 0.2), \"Make sure your P_puzzle4_passing is a probability of earning a passing grade\"\n",
    "\n",
    "## == SUCCESS MESSAGE ==\n",
    "# You will only see this message (with the emoji showing) if you passed all test cases:\n",
    "tada = \"\\N{PARTY POPPER}\"\n",
    "print(f\"{tada} All tests passed! {tada}\")"
   ]
  },
  {
   "cell_type": "markdown",
   "metadata": {},
   "source": [
    "## Simulation 5: Marbles in a Bag\n",
    "\n",
    "Suppose you have a bag of 12 marbles.  The bag contains:\n",
    "\n",
    "- Three red marbles,\n",
    "- Four blue marbles, and\n",
    "- Five clear marbles\n",
    "\n",
    "Write a simulation of that randomly draws a total of two marbles from the bag **with replacement** after drawing each one.  Run the simulation **50,000** times and store your observations in `df5`:"
   ]
  },
  {
   "cell_type": "code",
   "execution_count": 33,
   "metadata": {
    "deletable": false,
    "nbgrader": {
     "cell_type": "code",
     "checksum": "b370e0f88cd6380fa2fe0bb9a4bcb209",
     "grade": false,
     "grade_id": "cell-ae186efce8f6a1ac",
     "locked": false,
     "schema_version": 3,
     "solution": true,
     "task": false
    }
   },
   "outputs": [
    {
     "data": {
      "text/html": [
       "<div>\n",
       "<style scoped>\n",
       "    .dataframe tbody tr th:only-of-type {\n",
       "        vertical-align: middle;\n",
       "    }\n",
       "\n",
       "    .dataframe tbody tr th {\n",
       "        vertical-align: top;\n",
       "    }\n",
       "\n",
       "    .dataframe thead th {\n",
       "        text-align: right;\n",
       "    }\n",
       "</style>\n",
       "<table border=\"1\" class=\"dataframe\">\n",
       "  <thead>\n",
       "    <tr style=\"text-align: right;\">\n",
       "      <th></th>\n",
       "      <th>Draw 1</th>\n",
       "      <th>Draw 2</th>\n",
       "    </tr>\n",
       "  </thead>\n",
       "  <tbody>\n",
       "    <tr>\n",
       "      <th>40689</th>\n",
       "      <td>2</td>\n",
       "      <td>12</td>\n",
       "    </tr>\n",
       "    <tr>\n",
       "      <th>49089</th>\n",
       "      <td>9</td>\n",
       "      <td>12</td>\n",
       "    </tr>\n",
       "    <tr>\n",
       "      <th>24692</th>\n",
       "      <td>12</td>\n",
       "      <td>4</td>\n",
       "    </tr>\n",
       "    <tr>\n",
       "      <th>18929</th>\n",
       "      <td>8</td>\n",
       "      <td>9</td>\n",
       "    </tr>\n",
       "    <tr>\n",
       "      <th>49906</th>\n",
       "      <td>10</td>\n",
       "      <td>3</td>\n",
       "    </tr>\n",
       "  </tbody>\n",
       "</table>\n",
       "</div>"
      ],
      "text/plain": [
       "       Draw 1  Draw 2\n",
       "40689       2      12\n",
       "49089       9      12\n",
       "24692      12       4\n",
       "18929       8       9\n",
       "49906      10       3"
      ]
     },
     "execution_count": 33,
     "metadata": {},
     "output_type": "execute_result"
    }
   ],
   "source": [
    "data5 = []\n",
    "\n",
    "for i in range(50000):\n",
    "    \n",
    "    # 1-3 = red, 4-7 = blue, 8-12 = clear\n",
    "    \n",
    "    draw1 = random.randint(1,12)\n",
    "    draw2 = random.randint(1,12)\n",
    "    d5 = {'Draw 1': draw1, 'Draw 2': draw2}\n",
    "    data5.append(d5)\n",
    "\n",
    "\n",
    "\n",
    "\n",
    "\n",
    "df5 = pd.DataFrame(data5)\n",
    "\n",
    "\n",
    "\n",
    "# ...and show a few random rows:\n",
    "df5.sample(5)"
   ]
  },
  {
   "cell_type": "markdown",
   "metadata": {},
   "source": [
    "### Puzzle 5.1: Probability Calculations\n",
    "\n",
    "Find an estimation of the probability that you draw exactly one red marble and exactly one blue marble.\n",
    "\n",
    "- To do this, create a `df5_success` DataFrame with only the rows that were successful.\n",
    "- Store our estimation of the probability of success in `P_puzzle5` below."
   ]
  },
  {
   "cell_type": "code",
   "execution_count": 34,
   "metadata": {
    "deletable": false,
    "nbgrader": {
     "cell_type": "code",
     "checksum": "cda6eae7db9cfcff2b9630807d33b656",
     "grade": false,
     "grade_id": "cell-eed49152845de177",
     "locked": false,
     "schema_version": 3,
     "solution": true,
     "task": false
    }
   },
   "outputs": [
    {
     "data": {
      "text/html": [
       "<div>\n",
       "<style scoped>\n",
       "    .dataframe tbody tr th:only-of-type {\n",
       "        vertical-align: middle;\n",
       "    }\n",
       "\n",
       "    .dataframe tbody tr th {\n",
       "        vertical-align: top;\n",
       "    }\n",
       "\n",
       "    .dataframe thead th {\n",
       "        text-align: right;\n",
       "    }\n",
       "</style>\n",
       "<table border=\"1\" class=\"dataframe\">\n",
       "  <thead>\n",
       "    <tr style=\"text-align: right;\">\n",
       "      <th></th>\n",
       "      <th>Draw 1</th>\n",
       "      <th>Draw 2</th>\n",
       "    </tr>\n",
       "  </thead>\n",
       "  <tbody>\n",
       "    <tr>\n",
       "      <th>10528</th>\n",
       "      <td>1</td>\n",
       "      <td>6</td>\n",
       "    </tr>\n",
       "    <tr>\n",
       "      <th>11453</th>\n",
       "      <td>1</td>\n",
       "      <td>7</td>\n",
       "    </tr>\n",
       "    <tr>\n",
       "      <th>22313</th>\n",
       "      <td>2</td>\n",
       "      <td>5</td>\n",
       "    </tr>\n",
       "    <tr>\n",
       "      <th>17684</th>\n",
       "      <td>1</td>\n",
       "      <td>6</td>\n",
       "    </tr>\n",
       "    <tr>\n",
       "      <th>20272</th>\n",
       "      <td>1</td>\n",
       "      <td>4</td>\n",
       "    </tr>\n",
       "  </tbody>\n",
       "</table>\n",
       "</div>"
      ],
      "text/plain": [
       "       Draw 1  Draw 2\n",
       "10528       1       6\n",
       "11453       1       7\n",
       "22313       2       5\n",
       "17684       1       6\n",
       "20272       1       4"
      ]
     },
     "execution_count": 34,
     "metadata": {},
     "output_type": "execute_result"
    }
   ],
   "source": [
    "# Create a DataFrame that contains only the subset of observations that were successful:\n",
    "df5_success = df5[ ((df5['Draw 1'] == 1) | (df5['Draw 1'] == 2) | (df5['Draw 1'] == 3)) & ((df5['Draw 2'] == 4) | (df5['Draw 2'] == 5) | (df5['Draw 2'] == 6) | (df5['Draw 2'] == 7) )  ]\n",
    "\n",
    "\n",
    "\n",
    "# ...and show a few random rows:\n",
    "df5_success.sample(5)"
   ]
  },
  {
   "cell_type": "code",
   "execution_count": 36,
   "metadata": {
    "deletable": false,
    "nbgrader": {
     "cell_type": "code",
     "checksum": "7aa28138b1881dbc027048f3387ac6be",
     "grade": false,
     "grade_id": "cell-5d3f15b37a9a3ef3",
     "locked": false,
     "schema_version": 3,
     "solution": true,
     "task": false
    }
   },
   "outputs": [
    {
     "data": {
      "text/plain": [
       "0.08292"
      ]
     },
     "execution_count": 36,
     "metadata": {},
     "output_type": "execute_result"
    }
   ],
   "source": [
    "# Find the value of P_puzzle5, the probability of success:\n",
    "P_puzzle5 = len(df5_success) / len(df5)\n",
    "P_puzzle5\n",
    "\n"
   ]
  },
  {
   "cell_type": "code",
   "execution_count": 37,
   "metadata": {
    "deletable": false,
    "editable": false,
    "nbgrader": {
     "cell_type": "code",
     "checksum": "8ddf96b5b3c73440c10103626756bff7",
     "grade": true,
     "grade_id": "cell-4ceb4e0fd91e0606",
     "locked": true,
     "points": 1,
     "schema_version": 3,
     "solution": false,
     "task": false
    }
   },
   "outputs": [
    {
     "name": "stdout",
     "output_type": "stream",
     "text": [
      "🎉 All tests passed! 🎉\n"
     ]
    }
   ],
   "source": [
    "## == TEST CASES for Simulation 5 ==\n",
    "# - This read-only cell contains test cases for your previous cell.\n",
    "# - If this cell runs without any error our output, you PASSED all test cases!\n",
    "# - If this cell results in any errors, check you previous cell, make changes, and RE-RUN your code and then this cell.\n",
    "\n",
    "assert(len(df5) == 50000), \"Make sure your df5 has exactly 50,000 observations\"\n",
    "assert(len(df5_success) < (107000 * 0.2)), \"Make sure your df5_success only has students scoring 100%\"\n",
    "\n",
    "assert(P_puzzle5 > 0.02 and P_puzzle5 < 0.2), \"Make sure your P_puzzle5 is a probability of earning a 100%\"\n",
    "\n",
    "## == SUCCESS MESSAGE ==\n",
    "# You will only see this message (with the emoji showing) if you passed all test cases:\n",
    "tada = \"\\N{PARTY POPPER}\"\n",
    "print(f\"{tada} All tests passed! {tada}\")"
   ]
  },
  {
   "cell_type": "markdown",
   "metadata": {},
   "source": [
    "## Submit Your Work!\n",
    "\n",
    "Make sure to **Save and Checkpoint** your notebook, exit Jupyter, and submit your work! :)"
   ]
  }
 ],
 "metadata": {
  "kernelspec": {
   "display_name": "Python 3",
   "language": "python",
   "name": "python3"
  },
  "language_info": {
   "codemirror_mode": {
    "name": "ipython",
    "version": 3
   },
   "file_extension": ".py",
   "mimetype": "text/x-python",
   "name": "python",
   "nbconvert_exporter": "python",
   "pygments_lexer": "ipython3",
   "version": "3.7.3"
  }
 },
 "nbformat": 4,
 "nbformat_minor": 2
}
