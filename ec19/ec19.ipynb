{
 "cells": [
  {
   "cell_type": "markdown",
   "metadata": {
    "deletable": false,
    "editable": false,
    "nbgrader": {
     "cell_type": "markdown",
     "checksum": "7d8b8e7c6243af1fc025e741be07897f",
     "grade": false,
     "grade_id": "cell-549c97aaa3207ecb",
     "locked": true,
     "schema_version": 3,
     "solution": false,
     "task": false
    }
   },
   "source": [
    "# EC Notebook for Lecture 19: Bayes Rule and `if` Statements\n",
    "\n",
    "This extra credit Python notebook will let you practice the material you saw in lecture.  Completing all parts of this notebook will earn +1 extra credit point to your grade in STAT 107! :)\n",
    "\n",
    "This notebook is worth +1 if turned in before 11:30 am on **Monday, Oct. 14** *(30 minutes before the next STAT 107 lecture)*.  You can feel free to complete it anytime for extra practice."
   ]
  },
  {
   "cell_type": "markdown",
   "metadata": {
    "deletable": false,
    "editable": false,
    "nbgrader": {
     "cell_type": "markdown",
     "checksum": "db0646e1ca1ef2a69f16bd9cb6e7346f",
     "grade": false,
     "grade_id": "cell-15e26626a074080c",
     "locked": true,
     "schema_version": 3,
     "solution": false,
     "task": false
    }
   },
   "source": [
    "# Question 1: Bayes Rule\n",
    "\n",
    "Suppose a factory run by Wade and Karle has machines I and II that produce “Waflan” phones.\n",
    "The factory’s record show that:\n",
    "\n",
    "- Machines I and II produce, respectively, 1% and 2% defective Waflans.\n",
    "- Out of the total production, machines I and II produce, respectively, 45% and 55% of all Waflans.\n",
    "\n",
    "\n",
    "## Question 1.1\n",
    "\n",
    "You are given a random phone (you don't know what machine made it).  What is the probability that you has picked up a **defective** phone?\n"
   ]
  },
  {
   "cell_type": "code",
   "execution_count": 3,
   "metadata": {
    "deletable": false,
    "nbgrader": {
     "cell_type": "code",
     "checksum": "c91ecb34a3ca1419a66b96c4a40b5f78",
     "grade": false,
     "grade_id": "cell-9578fbde59fb455a",
     "locked": false,
     "schema_version": 3,
     "solution": true,
     "task": false
    }
   },
   "outputs": [
    {
     "data": {
      "text/plain": [
       "0.0155"
      ]
     },
     "execution_count": 3,
     "metadata": {},
     "output_type": "execute_result"
    }
   ],
   "source": [
    "P_defective = (0.45 + 1.1)/ 100\n",
    "P_defective\n",
    "\n",
    "\n"
   ]
  },
  {
   "cell_type": "markdown",
   "metadata": {},
   "source": [
    "## Question 1.2\n",
    "\n",
    "If you picked a defective phone, what is the probability that it was produced by Machine I?\n"
   ]
  },
  {
   "cell_type": "code",
   "execution_count": 5,
   "metadata": {
    "deletable": false,
    "nbgrader": {
     "cell_type": "code",
     "checksum": "a344e3fc11759ea481af9437f96f4c19",
     "grade": false,
     "grade_id": "cell-8f102827bea7eb1d",
     "locked": false,
     "schema_version": 3,
     "solution": true,
     "task": false
    }
   },
   "outputs": [
    {
     "data": {
      "text/plain": [
       "0.2903225806451613"
      ]
     },
     "execution_count": 5,
     "metadata": {},
     "output_type": "execute_result"
    }
   ],
   "source": [
    "P_defective_from_M1 = 0.45 / 1.55\n",
    "P_defective_from_M1\n",
    "\n"
   ]
  },
  {
   "cell_type": "code",
   "execution_count": 6,
   "metadata": {
    "deletable": false,
    "editable": false,
    "nbgrader": {
     "cell_type": "code",
     "checksum": "2b54e89e5c45898aea02332ec82e17f9",
     "grade": true,
     "grade_id": "cell-ddf5fc5fca795b79",
     "locked": true,
     "points": 1,
     "schema_version": 3,
     "solution": false,
     "task": false
    }
   },
   "outputs": [
    {
     "name": "stdout",
     "output_type": "stream",
     "text": [
      "🎉 All tests passed! 🎉\n"
     ]
    }
   ],
   "source": [
    "## == TEST CASES for Question 1 ==\n",
    "# - This read-only cell contains test cases for your previous cell.\n",
    "# - If this cell runs without any error our output, you PASSED all test cases!\n",
    "# - If this cell results in any errors, check you previous cell, make changes, and RE-RUN your code and then this cell.\n",
    "\n",
    "assert(round(P_defective,4) == 0.0155), \"The probability of being defective is not correct\"\n",
    "assert(round(P_defective_from_M1,2) == 0.29), \"The probability of defective being produced by machine 1 is not correct\"\n",
    "\n",
    "\n",
    "## == SUCCESS MESSAGE ==\n",
    "# You will only see this message (with the emoji showing) if you passed all test cases:\n",
    "tada = \"\\N{PARTY POPPER}\"\n",
    "print(f\"{tada} All tests passed! {tada}\")"
   ]
  },
  {
   "cell_type": "markdown",
   "metadata": {
    "deletable": false,
    "editable": false,
    "nbgrader": {
     "cell_type": "markdown",
     "checksum": "9893473f8acb8a9a2316b4ce6cf994f0",
     "grade": false,
     "grade_id": "cell-5e4b942cb45c3d8c",
     "locked": true,
     "schema_version": 3,
     "solution": false,
     "task": false
    }
   },
   "source": [
    "# Question 2\n",
    "\n",
    "In this question we will try to use **if-statement** in our simulation.\n",
    "\n",
    "Suppose we roll a fair, 6-sided dice.\n",
    "\n",
    "- If we roll a 1, 2, or 3, we roll a second die that is also six-sided.\n",
    "- If we roll a 4, 5, or 6, we roll a second die that is **12-sided**.\n",
    "\n",
    "Write a code to run this simulation 10,000 times. Store your output in the DataFrame named `df` in columns `first` for the first die and `second` for the second die."
   ]
  },
  {
   "cell_type": "code",
   "execution_count": 8,
   "metadata": {
    "deletable": false,
    "nbgrader": {
     "cell_type": "code",
     "checksum": "b92f41655a33bb3f65fdd0e0e1d3e101",
     "grade": false,
     "grade_id": "cell-3851bc3799a6c2ac",
     "locked": false,
     "schema_version": 3,
     "solution": true,
     "task": false
    }
   },
   "outputs": [
    {
     "data": {
      "text/html": [
       "<div>\n",
       "<style scoped>\n",
       "    .dataframe tbody tr th:only-of-type {\n",
       "        vertical-align: middle;\n",
       "    }\n",
       "\n",
       "    .dataframe tbody tr th {\n",
       "        vertical-align: top;\n",
       "    }\n",
       "\n",
       "    .dataframe thead th {\n",
       "        text-align: right;\n",
       "    }\n",
       "</style>\n",
       "<table border=\"1\" class=\"dataframe\">\n",
       "  <thead>\n",
       "    <tr style=\"text-align: right;\">\n",
       "      <th></th>\n",
       "      <th>first</th>\n",
       "      <th>second</th>\n",
       "    </tr>\n",
       "  </thead>\n",
       "  <tbody>\n",
       "    <tr>\n",
       "      <th>4399</th>\n",
       "      <td>6</td>\n",
       "      <td>1</td>\n",
       "    </tr>\n",
       "    <tr>\n",
       "      <th>5488</th>\n",
       "      <td>5</td>\n",
       "      <td>9</td>\n",
       "    </tr>\n",
       "    <tr>\n",
       "      <th>7803</th>\n",
       "      <td>1</td>\n",
       "      <td>1</td>\n",
       "    </tr>\n",
       "    <tr>\n",
       "      <th>3130</th>\n",
       "      <td>6</td>\n",
       "      <td>7</td>\n",
       "    </tr>\n",
       "    <tr>\n",
       "      <th>2020</th>\n",
       "      <td>1</td>\n",
       "      <td>2</td>\n",
       "    </tr>\n",
       "  </tbody>\n",
       "</table>\n",
       "</div>"
      ],
      "text/plain": [
       "      first  second\n",
       "4399      6       1\n",
       "5488      5       9\n",
       "7803      1       1\n",
       "3130      6       7\n",
       "2020      1       2"
      ]
     },
     "execution_count": 8,
     "metadata": {},
     "output_type": "execute_result"
    }
   ],
   "source": [
    "import random\n",
    "import pandas as pd\n",
    "data = []\n",
    "\n",
    "for i in range(10000):\n",
    "    roll1 = random.randint(1,6)\n",
    "    if roll1 <=3:\n",
    "        roll2 = random.randint(1,6)\n",
    "    else:\n",
    "        roll2 = random.randint(1,12)\n",
    "        \n",
    "    d = {'first':roll1,'second':roll2}\n",
    "    data.append(d)\n",
    "df = pd.DataFrame(data)\n",
    "\n",
    "\n",
    "\n",
    "\n",
    "\n",
    "df.sample(5)"
   ]
  },
  {
   "cell_type": "code",
   "execution_count": 9,
   "metadata": {
    "deletable": false,
    "editable": false,
    "nbgrader": {
     "cell_type": "code",
     "checksum": "3db9f20723472018b1c63156e88e3377",
     "grade": true,
     "grade_id": "cell-e5e0fbae87fcf069",
     "locked": true,
     "points": 1,
     "schema_version": 3,
     "solution": false,
     "task": false
    }
   },
   "outputs": [
    {
     "name": "stdout",
     "output_type": "stream",
     "text": [
      "🎉 All tests passed! 🎉\n"
     ]
    }
   ],
   "source": [
    "## == TEST CASES for Question 2 ==\n",
    "# - This read-only cell contains test cases for your previous cell.\n",
    "# - If this cell runs without any error our output, you PASSED all test cases!\n",
    "# - If this cell results in any errors, check you previous cell, make changes, and RE-RUN your code and then this cell.\n",
    "\n",
    "assert(len(df)==10000), \"The simulation must run 10,000 times.\"\n",
    "\n",
    "assert( 'first' in df ), \"You must have a column labeled `first`.\"\n",
    "assert( 'second' in df ), \"You must have a column labeled `second`.\"\n",
    "\n",
    "assert( len( df[ (df['first'] <= 3) & (df['second'] > 6) ] ) == 0), \"If the first die rolls a 3 or less, the second die should never roll above a 6.\"\n",
    "assert( len( df[ (df['first'] >= 4) & (df['second'] > 6) ] ) != 0), \"If the first die rolls a 4 or more, the second die must be a 12-sided die.\"\n",
    "\n",
    "\n",
    "## == SUCCESS MESSAGE ==\n",
    "# You will only see this message (with the emoji showing) if you passed all test cases:\n",
    "tada = \"\\N{PARTY POPPER}\"\n",
    "print(f\"{tada} All tests passed! {tada}\")"
   ]
  },
  {
   "cell_type": "markdown",
   "metadata": {},
   "source": [
    "## Submit Your Work!\n",
    "\n",
    "Make sure to **Save and Checkpoint** your notebook, exit Jupyter, and submit your work! :)"
   ]
  }
 ],
 "metadata": {
  "kernelspec": {
   "display_name": "Python 3",
   "language": "python",
   "name": "python3"
  },
  "language_info": {
   "codemirror_mode": {
    "name": "ipython",
    "version": 3
   },
   "file_extension": ".py",
   "mimetype": "text/x-python",
   "name": "python",
   "nbconvert_exporter": "python",
   "pygments_lexer": "ipython3",
   "version": "3.7.3"
  }
 },
 "nbformat": 4,
 "nbformat_minor": 2
}
