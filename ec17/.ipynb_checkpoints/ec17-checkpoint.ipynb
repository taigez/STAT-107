{
 "cells": [
  {
   "cell_type": "markdown",
   "metadata": {},
   "source": [
    "# EC Notebook for Lecture 17: More About Probability!\n",
    "\n",
    "This extra credit Python notebook will let you practice the material you saw in lecture.  Completing all parts of this notebook will earn +1 extra credit point to your grade in STAT 107! :)\n",
    "\n",
    "This notebook is worth +1 if turned in before 11:30 am on **Wednesday, Oct. 9** *(30 minutes before the next STAT 107 lecture)*.  You can feel free to complete it anytime for extra practice."
   ]
  },
  {
   "cell_type": "markdown",
   "metadata": {},
   "source": [
    "## 1 De Morgan’s Law\n",
    "In the lecture we have already learned that the probability of multiple events can be expressed mathematically through boolean algebra. And De Morgan’s Law allows us to invert a probability problem mathematically. \n",
    "\n",
    "### Question 1: \n",
    "\n",
    "You roll two different fair six-sided dice at the same time.  One die is colored blue, one is colored red.  What is the probability that the blue die doesn't land on 4 or the red die doesn't land on 2?\n"
   ]
  },
  {
   "cell_type": "code",
   "execution_count": 1,
   "metadata": {
    "deletable": false,
    "nbgrader": {
     "cell_type": "code",
     "checksum": "345eeb416ee9fc9d880b9e846ecacf53",
     "grade": false,
     "grade_id": "cell-99d959c1fa5c1922",
     "locked": false,
     "schema_version": 3,
     "solution": true,
     "task": false
    }
   },
   "outputs": [
    {
     "data": {
      "text/plain": [
       "0.9722222222222222"
      ]
     },
     "execution_count": 1,
     "metadata": {},
     "output_type": "execute_result"
    }
   ],
   "source": [
    "prob_1 = 1 - (1/6) ** 2\n",
    "prob_1\n"
   ]
  },
  {
   "cell_type": "code",
   "execution_count": 2,
   "metadata": {
    "deletable": false,
    "editable": false,
    "nbgrader": {
     "cell_type": "code",
     "checksum": "b663ee662f0fd2afd397b98ff1b3783c",
     "grade": true,
     "grade_id": "cell-6d95af9e6dbf7763",
     "locked": true,
     "points": 1,
     "schema_version": 3,
     "solution": false,
     "task": false
    }
   },
   "outputs": [],
   "source": [
    "## == TEST CASES for Puzzle 1 ==\n",
    "# - This read-only cell contains test cases for your previous cell.\n",
    "# - If this cell runs without any error our output, you PASSED all test cases!\n",
    "# - If this cell results in any errors, check you previous cell, make changes, and RE-RUN your code and then this cell.\n",
    "\n",
    "assert(abs(prob_1 - 0.97222) < 0.001), \"The probability doesn't seem to be right...\""
   ]
  },
  {
   "cell_type": "markdown",
   "metadata": {},
   "source": [
    "## 2 Conditional Probability and Tables\n",
    "The definition of the conditional probability of an event B is the probability that the event will occur given that an event A has already occurred. \n",
    "\n",
    "### Question 2: independent case\n",
    "Suppose you have a bag of 12 marbles, 5 of them are red and 7 of them are blue. What is the probability that you pick two marbels **with replacement**, the second is red given that the first is blue?"
   ]
  },
  {
   "cell_type": "code",
   "execution_count": 3,
   "metadata": {
    "deletable": false,
    "nbgrader": {
     "cell_type": "code",
     "checksum": "b1ef9785c001f88898f0f3159a640563",
     "grade": false,
     "grade_id": "cell-0f2b9437c5b3e29a",
     "locked": false,
     "schema_version": 3,
     "solution": true,
     "task": false
    }
   },
   "outputs": [
    {
     "data": {
      "text/plain": [
       "0.4166666666666667"
      ]
     },
     "execution_count": 3,
     "metadata": {},
     "output_type": "execute_result"
    }
   ],
   "source": [
    "# Think about fixing the first dice number and consider the other two.\n",
    "prob_2 = ((7/12) * (5/12)) / (7/12)\n",
    "prob_2 \n",
    "\n",
    "\n"
   ]
  },
  {
   "cell_type": "code",
   "execution_count": 4,
   "metadata": {
    "deletable": false,
    "editable": false,
    "nbgrader": {
     "cell_type": "code",
     "checksum": "58145c3127dfa029ea09825d73fe0bf5",
     "grade": true,
     "grade_id": "cell-6f4ebbb95f35fe62",
     "locked": true,
     "points": 1,
     "schema_version": 3,
     "solution": false,
     "task": false
    }
   },
   "outputs": [],
   "source": [
    "## == TEST CASES for Puzzle 2 ==\n",
    "# - This read-only cell contains test cases for your previous cell.\n",
    "# - If this cell runs without any error our output, you PASSED all test cases!\n",
    "# - If this cell results in any errors, check you previous cell, make changes, and RE-RUN your code and then this cell.\n",
    "\n",
    "assert(abs(prob_2 - 0.41666) < 0.0001), \"The probability doesn't seem to be right...\""
   ]
  },
  {
   "cell_type": "markdown",
   "metadata": {},
   "source": [
    "### Question 3: dependent case\n",
    "Suppose you have a bag of 12 marbles, 5 of them are red and 7 of them are blue. Plus, 3 red marbles and 4 blue marbles are stripy. What is the probability that you pick a marbel and it is stripy given that it is red?"
   ]
  },
  {
   "cell_type": "code",
   "execution_count": 5,
   "metadata": {
    "deletable": false,
    "nbgrader": {
     "cell_type": "code",
     "checksum": "c706eccb57171f463ac522e99e2556ec",
     "grade": false,
     "grade_id": "cell-ea88dcf40cc90ada",
     "locked": false,
     "schema_version": 3,
     "solution": true,
     "task": false
    }
   },
   "outputs": [
    {
     "data": {
      "text/plain": [
       "0.6"
      ]
     },
     "execution_count": 5,
     "metadata": {},
     "output_type": "execute_result"
    }
   ],
   "source": [
    "prob_red_stripy = 3/12\n",
    "prob_red = 5/12\n",
    "prob_3 = prob_red_stripy / prob_red\n",
    "prob_3 \n",
    "\n",
    "\n"
   ]
  },
  {
   "cell_type": "code",
   "execution_count": 6,
   "metadata": {
    "deletable": false,
    "editable": false,
    "nbgrader": {
     "cell_type": "code",
     "checksum": "f627c7260791307ec1203f714f1993b4",
     "grade": true,
     "grade_id": "cell-357bac434e050bca",
     "locked": true,
     "points": 1,
     "schema_version": 3,
     "solution": false,
     "task": false
    }
   },
   "outputs": [],
   "source": [
    "## == TEST CASES for Puzzle 3 ==\n",
    "# - This read-only cell contains test cases for your previous cell.\n",
    "# - If this cell runs without any error our output, you PASSED all test cases!\n",
    "# - If this cell results in any errors, check you previous cell, make changes, and RE-RUN your code and then this cell.\n",
    "assert(abs(prob_red - 0.41666 < 0.0001)), \"I don't think the probability is correct...\"\n",
    "assert(abs(prob_3 - 0.6 < 0.0001)), \"I don't think the probability is correct...\""
   ]
  },
  {
   "cell_type": "markdown",
   "metadata": {},
   "source": [
    "## Submit Your Work!\n",
    "\n",
    "Make sure to **Save and Checkpoint** your notebook, exit Jupyter, and submit your work! :)"
   ]
  },
  {
   "cell_type": "code",
   "execution_count": null,
   "metadata": {},
   "outputs": [],
   "source": []
  }
 ],
 "metadata": {
  "kernelspec": {
   "display_name": "Python 3",
   "language": "python",
   "name": "python3"
  },
  "language_info": {
   "codemirror_mode": {
    "name": "ipython",
    "version": 3
   },
   "file_extension": ".py",
   "mimetype": "text/x-python",
   "name": "python",
   "nbconvert_exporter": "python",
   "pygments_lexer": "ipython3",
   "version": "3.7.3"
  }
 },
 "nbformat": 4,
 "nbformat_minor": 2
}
