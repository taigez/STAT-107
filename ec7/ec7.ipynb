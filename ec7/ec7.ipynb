{
 "cells": [
  {
   "cell_type": "markdown",
   "metadata": {},
   "source": [
    "# EC Notebook for Lecture 7: Working with columns\n",
    "\n",
    "This extra credit Python notebook will let you practice the material you saw in lecture.  Completing all parts of this notebook will earn +1 extra credit point to your grade in STAT 107! :)\n",
    "\n",
    "This notebook is worth +1 if turned in before 11:30am on **Friday, Sept. 13** *(30 minutes before the next STAT 107 lecture)*.  You can feel free to complete it anytime for extra practice."
   ]
  },
  {
   "cell_type": "markdown",
   "metadata": {},
   "source": [
    "## 1. Loading pandas and importing data\n",
    "\n",
    "For this notebook, we will use the \"Hello\" dataset -- as we did in lecture -- to answer a few questions on working with columns.\n",
    "\n",
    "Using your @illinois.edu address, you can access the \"Hello\" dataset here: https://docs.google.com/spreadsheets/d/1LB4E89GoVi5yezEfHhopbI5BMxodSG7VvoznkaAkMAQ/edit#gid=0"
   ]
  },
  {
   "cell_type": "code",
   "execution_count": 3,
   "metadata": {
    "deletable": false,
    "nbgrader": {
     "cell_type": "code",
     "checksum": "3ad0eb1e8fc3cc4fd6749f392c6d3a2c",
     "grade": false,
     "grade_id": "cell-0d5f5f22a56cb05c",
     "locked": false,
     "schema_version": 3,
     "solution": true,
     "task": false
    }
   },
   "outputs": [
    {
     "data": {
      "text/html": [
       "<div>\n",
       "<style scoped>\n",
       "    .dataframe tbody tr th:only-of-type {\n",
       "        vertical-align: middle;\n",
       "    }\n",
       "\n",
       "    .dataframe tbody tr th {\n",
       "        vertical-align: top;\n",
       "    }\n",
       "\n",
       "    .dataframe thead th {\n",
       "        text-align: right;\n",
       "    }\n",
       "</style>\n",
       "<table border=\"1\" class=\"dataframe\">\n",
       "  <thead>\n",
       "    <tr style=\"text-align: right;\">\n",
       "      <th></th>\n",
       "      <th>Name</th>\n",
       "      <th>Major</th>\n",
       "      <th>School Year</th>\n",
       "      <th>Type</th>\n",
       "      <th>Computer</th>\n",
       "      <th>Straw Holes</th>\n",
       "      <th>Has Dogs</th>\n",
       "      <th>Has Cats</th>\n",
       "      <th>Has Fish</th>\n",
       "      <th>Has Chickens</th>\n",
       "      <th>...</th>\n",
       "      <th>Has Twitch</th>\n",
       "      <th>Programmed before?</th>\n",
       "      <th>Python Background</th>\n",
       "      <th>Statistics Courses</th>\n",
       "      <th>Hours Studying</th>\n",
       "      <th>Siblings</th>\n",
       "      <th>Hours of Sleep</th>\n",
       "      <th>Shoes Owned</th>\n",
       "      <th>People Texted Yesterday</th>\n",
       "      <th>Personality</th>\n",
       "    </tr>\n",
       "  </thead>\n",
       "  <tbody>\n",
       "    <tr>\n",
       "      <td>0</td>\n",
       "      <td>Wade</td>\n",
       "      <td>Computer Science</td>\n",
       "      <td>Other</td>\n",
       "      <td>Android</td>\n",
       "      <td>Windows-based computer</td>\n",
       "      <td>2.0</td>\n",
       "      <td>0</td>\n",
       "      <td>1</td>\n",
       "      <td>0</td>\n",
       "      <td>0</td>\n",
       "      <td>...</td>\n",
       "      <td>0</td>\n",
       "      <td>Yes</td>\n",
       "      <td>Significant -- I am a wizard when it comes to ...</td>\n",
       "      <td>2</td>\n",
       "      <td>3.0</td>\n",
       "      <td>2.0</td>\n",
       "      <td>8.0</td>\n",
       "      <td>4.0</td>\n",
       "      <td>2.0</td>\n",
       "      <td>Introvert</td>\n",
       "    </tr>\n",
       "    <tr>\n",
       "      <td>1</td>\n",
       "      <td>Karle</td>\n",
       "      <td>Statistics</td>\n",
       "      <td>Other</td>\n",
       "      <td>iPhone</td>\n",
       "      <td>Mac OS X-based computer</td>\n",
       "      <td>1.0</td>\n",
       "      <td>0</td>\n",
       "      <td>0</td>\n",
       "      <td>0</td>\n",
       "      <td>0</td>\n",
       "      <td>...</td>\n",
       "      <td>0</td>\n",
       "      <td>Yes</td>\n",
       "      <td>Some Python -- I have had one class or written...</td>\n",
       "      <td>20</td>\n",
       "      <td>1.0</td>\n",
       "      <td>2.0</td>\n",
       "      <td>7.0</td>\n",
       "      <td>20.0</td>\n",
       "      <td>24.0</td>\n",
       "      <td>Extrovert</td>\n",
       "    </tr>\n",
       "    <tr>\n",
       "      <td>2</td>\n",
       "      <td>noor</td>\n",
       "      <td>global studies/statistics</td>\n",
       "      <td>Sophomore</td>\n",
       "      <td>iPhone</td>\n",
       "      <td>Mac OS X-based computer</td>\n",
       "      <td>1.0</td>\n",
       "      <td>0</td>\n",
       "      <td>0</td>\n",
       "      <td>0</td>\n",
       "      <td>0</td>\n",
       "      <td>...</td>\n",
       "      <td>0</td>\n",
       "      <td>No</td>\n",
       "      <td>No programming background -- is Python Taylor ...</td>\n",
       "      <td>3</td>\n",
       "      <td>3.0</td>\n",
       "      <td>1.0</td>\n",
       "      <td>7.0</td>\n",
       "      <td>20.0</td>\n",
       "      <td>10.0</td>\n",
       "      <td>Introvert</td>\n",
       "    </tr>\n",
       "    <tr>\n",
       "      <td>3</td>\n",
       "      <td>Jonathan</td>\n",
       "      <td>Political Science</td>\n",
       "      <td>Senior</td>\n",
       "      <td>iPhone</td>\n",
       "      <td>Mac OS X-based computer</td>\n",
       "      <td>1.0</td>\n",
       "      <td>1</td>\n",
       "      <td>1</td>\n",
       "      <td>0</td>\n",
       "      <td>0</td>\n",
       "      <td>...</td>\n",
       "      <td>0</td>\n",
       "      <td>Yes</td>\n",
       "      <td>No Python, but I've done some programming in o...</td>\n",
       "      <td>2</td>\n",
       "      <td>4.0</td>\n",
       "      <td>1.0</td>\n",
       "      <td>6.0</td>\n",
       "      <td>10.0</td>\n",
       "      <td>8.0</td>\n",
       "      <td>Introvert</td>\n",
       "    </tr>\n",
       "    <tr>\n",
       "      <td>4</td>\n",
       "      <td>Clare</td>\n",
       "      <td>Statistics</td>\n",
       "      <td>Sophomore</td>\n",
       "      <td>iPhone</td>\n",
       "      <td>Mac OS X-based computer</td>\n",
       "      <td>1.0</td>\n",
       "      <td>1</td>\n",
       "      <td>0</td>\n",
       "      <td>0</td>\n",
       "      <td>0</td>\n",
       "      <td>...</td>\n",
       "      <td>0</td>\n",
       "      <td>Yes</td>\n",
       "      <td>Some Python -- I have had one class or written...</td>\n",
       "      <td>1</td>\n",
       "      <td>4.0</td>\n",
       "      <td>0.0</td>\n",
       "      <td>8.0</td>\n",
       "      <td>20.0</td>\n",
       "      <td>30.0</td>\n",
       "      <td>Ambivert</td>\n",
       "    </tr>\n",
       "    <tr>\n",
       "      <td>...</td>\n",
       "      <td>...</td>\n",
       "      <td>...</td>\n",
       "      <td>...</td>\n",
       "      <td>...</td>\n",
       "      <td>...</td>\n",
       "      <td>...</td>\n",
       "      <td>...</td>\n",
       "      <td>...</td>\n",
       "      <td>...</td>\n",
       "      <td>...</td>\n",
       "      <td>...</td>\n",
       "      <td>...</td>\n",
       "      <td>...</td>\n",
       "      <td>...</td>\n",
       "      <td>...</td>\n",
       "      <td>...</td>\n",
       "      <td>...</td>\n",
       "      <td>...</td>\n",
       "      <td>...</td>\n",
       "      <td>...</td>\n",
       "      <td>...</td>\n",
       "    </tr>\n",
       "    <tr>\n",
       "      <td>161</td>\n",
       "      <td>Stephanie</td>\n",
       "      <td>Political Science</td>\n",
       "      <td>Junior</td>\n",
       "      <td>iPhone</td>\n",
       "      <td>Mac OS X-based computer</td>\n",
       "      <td>NaN</td>\n",
       "      <td>1</td>\n",
       "      <td>0</td>\n",
       "      <td>0</td>\n",
       "      <td>0</td>\n",
       "      <td>...</td>\n",
       "      <td>0</td>\n",
       "      <td>No</td>\n",
       "      <td>No programming background -- is Python Taylor ...</td>\n",
       "      <td>1</td>\n",
       "      <td>2.0</td>\n",
       "      <td>9.0</td>\n",
       "      <td>7.0</td>\n",
       "      <td>30.0</td>\n",
       "      <td>12.0</td>\n",
       "      <td>Extrovert</td>\n",
       "    </tr>\n",
       "    <tr>\n",
       "      <td>162</td>\n",
       "      <td>Cindy</td>\n",
       "      <td>biomedical engineering</td>\n",
       "      <td>Senior</td>\n",
       "      <td>Android</td>\n",
       "      <td>Windows-based computer</td>\n",
       "      <td>1.0</td>\n",
       "      <td>1</td>\n",
       "      <td>0</td>\n",
       "      <td>0</td>\n",
       "      <td>0</td>\n",
       "      <td>...</td>\n",
       "      <td>0</td>\n",
       "      <td>No</td>\n",
       "      <td>No Python, but I've done some programming in o...</td>\n",
       "      <td>1</td>\n",
       "      <td>2.0</td>\n",
       "      <td>1.0</td>\n",
       "      <td>8.0</td>\n",
       "      <td>3.0</td>\n",
       "      <td>8.0</td>\n",
       "      <td>Ambivert</td>\n",
       "    </tr>\n",
       "    <tr>\n",
       "      <td>163</td>\n",
       "      <td>Talal</td>\n",
       "      <td>Information sciences</td>\n",
       "      <td>Sophomore</td>\n",
       "      <td>iPhone</td>\n",
       "      <td>Windows-based computer</td>\n",
       "      <td>1.0</td>\n",
       "      <td>0</td>\n",
       "      <td>1</td>\n",
       "      <td>0</td>\n",
       "      <td>0</td>\n",
       "      <td>...</td>\n",
       "      <td>0</td>\n",
       "      <td>Yes</td>\n",
       "      <td>No Python, but I've done some programming in o...</td>\n",
       "      <td>0</td>\n",
       "      <td>3.0</td>\n",
       "      <td>2.0</td>\n",
       "      <td>8.0</td>\n",
       "      <td>12.0</td>\n",
       "      <td>25.0</td>\n",
       "      <td>Ambivert</td>\n",
       "    </tr>\n",
       "    <tr>\n",
       "      <td>164</td>\n",
       "      <td>John</td>\n",
       "      <td>Statistics or Business</td>\n",
       "      <td>Freshman</td>\n",
       "      <td>iPhone</td>\n",
       "      <td>Windows-based computer</td>\n",
       "      <td>1.0</td>\n",
       "      <td>1</td>\n",
       "      <td>0</td>\n",
       "      <td>0</td>\n",
       "      <td>0</td>\n",
       "      <td>...</td>\n",
       "      <td>1</td>\n",
       "      <td>No</td>\n",
       "      <td>No programming background -- is Python Taylor ...</td>\n",
       "      <td>1</td>\n",
       "      <td>1.0</td>\n",
       "      <td>1.0</td>\n",
       "      <td>7.0</td>\n",
       "      <td>12.0</td>\n",
       "      <td>60.0</td>\n",
       "      <td>Introvert</td>\n",
       "    </tr>\n",
       "    <tr>\n",
       "      <td>165</td>\n",
       "      <td>Anisha</td>\n",
       "      <td>Mcb</td>\n",
       "      <td>Junior</td>\n",
       "      <td>iPhone</td>\n",
       "      <td>Mac OS X-based computer</td>\n",
       "      <td>1.0</td>\n",
       "      <td>0</td>\n",
       "      <td>0</td>\n",
       "      <td>0</td>\n",
       "      <td>0</td>\n",
       "      <td>...</td>\n",
       "      <td>0</td>\n",
       "      <td>Yes</td>\n",
       "      <td>Some Python -- I have had one class or written...</td>\n",
       "      <td>1</td>\n",
       "      <td>4.0</td>\n",
       "      <td>1.0</td>\n",
       "      <td>7.0</td>\n",
       "      <td>6.0</td>\n",
       "      <td>15.0</td>\n",
       "      <td>Introvert</td>\n",
       "    </tr>\n",
       "  </tbody>\n",
       "</table>\n",
       "<p>166 rows × 31 columns</p>\n",
       "</div>"
      ],
      "text/plain": [
       "          Name                      Major School Year     Type  \\\n",
       "0         Wade           Computer Science       Other  Android   \n",
       "1        Karle                 Statistics       Other   iPhone   \n",
       "2         noor  global studies/statistics   Sophomore   iPhone   \n",
       "3     Jonathan          Political Science      Senior   iPhone   \n",
       "4        Clare                 Statistics   Sophomore   iPhone   \n",
       "..         ...                        ...         ...      ...   \n",
       "161  Stephanie          Political Science      Junior   iPhone   \n",
       "162      Cindy     biomedical engineering      Senior  Android   \n",
       "163      Talal       Information sciences   Sophomore   iPhone   \n",
       "164       John     Statistics or Business    Freshman   iPhone   \n",
       "165     Anisha                        Mcb      Junior   iPhone   \n",
       "\n",
       "                    Computer  Straw Holes  Has Dogs  Has Cats  Has Fish  \\\n",
       "0     Windows-based computer          2.0         0         1         0   \n",
       "1    Mac OS X-based computer          1.0         0         0         0   \n",
       "2    Mac OS X-based computer          1.0         0         0         0   \n",
       "3    Mac OS X-based computer          1.0         1         1         0   \n",
       "4    Mac OS X-based computer          1.0         1         0         0   \n",
       "..                       ...          ...       ...       ...       ...   \n",
       "161  Mac OS X-based computer          NaN         1         0         0   \n",
       "162   Windows-based computer          1.0         1         0         0   \n",
       "163   Windows-based computer          1.0         0         1         0   \n",
       "164   Windows-based computer          1.0         1         0         0   \n",
       "165  Mac OS X-based computer          1.0         0         0         0   \n",
       "\n",
       "     Has Chickens  ...  Has Twitch  Programmed before?  \\\n",
       "0               0  ...           0                 Yes   \n",
       "1               0  ...           0                 Yes   \n",
       "2               0  ...           0                  No   \n",
       "3               0  ...           0                 Yes   \n",
       "4               0  ...           0                 Yes   \n",
       "..            ...  ...         ...                 ...   \n",
       "161             0  ...           0                  No   \n",
       "162             0  ...           0                  No   \n",
       "163             0  ...           0                 Yes   \n",
       "164             0  ...           1                  No   \n",
       "165             0  ...           0                 Yes   \n",
       "\n",
       "                                     Python Background  Statistics Courses  \\\n",
       "0    Significant -- I am a wizard when it comes to ...                   2   \n",
       "1    Some Python -- I have had one class or written...                  20   \n",
       "2    No programming background -- is Python Taylor ...                   3   \n",
       "3    No Python, but I've done some programming in o...                   2   \n",
       "4    Some Python -- I have had one class or written...                   1   \n",
       "..                                                 ...                 ...   \n",
       "161  No programming background -- is Python Taylor ...                   1   \n",
       "162  No Python, but I've done some programming in o...                   1   \n",
       "163  No Python, but I've done some programming in o...                   0   \n",
       "164  No programming background -- is Python Taylor ...                   1   \n",
       "165  Some Python -- I have had one class or written...                   1   \n",
       "\n",
       "    Hours Studying  Siblings  Hours of Sleep  Shoes Owned  \\\n",
       "0              3.0       2.0             8.0          4.0   \n",
       "1              1.0       2.0             7.0         20.0   \n",
       "2              3.0       1.0             7.0         20.0   \n",
       "3              4.0       1.0             6.0         10.0   \n",
       "4              4.0       0.0             8.0         20.0   \n",
       "..             ...       ...             ...          ...   \n",
       "161            2.0       9.0             7.0         30.0   \n",
       "162            2.0       1.0             8.0          3.0   \n",
       "163            3.0       2.0             8.0         12.0   \n",
       "164            1.0       1.0             7.0         12.0   \n",
       "165            4.0       1.0             7.0          6.0   \n",
       "\n",
       "     People Texted Yesterday  Personality  \n",
       "0                        2.0    Introvert  \n",
       "1                       24.0    Extrovert  \n",
       "2                       10.0    Introvert  \n",
       "3                        8.0    Introvert  \n",
       "4                       30.0     Ambivert  \n",
       "..                       ...          ...  \n",
       "161                     12.0    Extrovert  \n",
       "162                      8.0     Ambivert  \n",
       "163                     25.0     Ambivert  \n",
       "164                     60.0    Introvert  \n",
       "165                     15.0    Introvert  \n",
       "\n",
       "[166 rows x 31 columns]"
      ]
     },
     "execution_count": 3,
     "metadata": {},
     "output_type": "execute_result"
    }
   ],
   "source": [
    "import pandas as pd\n",
    "df = pd.read_csv(\"hello dataset - Sheet1.csv\")\n",
    "df"
   ]
  },
  {
   "cell_type": "markdown",
   "metadata": {},
   "source": [
    "# 2. Do upperclass students study less?\n",
    "\n",
    "Do seniors study less than freshman?  Using the \"Hello\" dataset, find the average number of hours freshman study (`freshman_avg_study_hours`) and the average number of hours seniors study (`senior_avg_study_hours`) each week:  "
   ]
  },
  {
   "cell_type": "code",
   "execution_count": 6,
   "metadata": {
    "deletable": false,
    "nbgrader": {
     "cell_type": "code",
     "checksum": "02ee1b21183e2ead088f5d45611e5dc4",
     "grade": false,
     "grade_id": "cell-0c5e6b97fdf25f9a",
     "locked": false,
     "schema_version": 3,
     "solution": true,
     "task": false
    }
   },
   "outputs": [
    {
     "data": {
      "text/plain": [
       "3.73"
      ]
     },
     "execution_count": 6,
     "metadata": {},
     "output_type": "execute_result"
    }
   ],
   "source": [
    "\n",
    "df_f = df[df[\"School Year\"] == \"Freshman\"]\n",
    "\n",
    "freshman_avg_study_hours = df_f[\"Hours Studying\"].mean()\n",
    "freshman_avg_study_hours\n",
    "\n"
   ]
  },
  {
   "cell_type": "code",
   "execution_count": 7,
   "metadata": {
    "deletable": false,
    "nbgrader": {
     "cell_type": "code",
     "checksum": "9e41303a5bc80e41d45d116643c01279",
     "grade": false,
     "grade_id": "cell-ba360e51c3559faa",
     "locked": false,
     "schema_version": 3,
     "solution": true,
     "task": false
    }
   },
   "outputs": [
    {
     "data": {
      "text/plain": [
       "3.77027027027027"
      ]
     },
     "execution_count": 7,
     "metadata": {},
     "output_type": "execute_result"
    }
   ],
   "source": [
    "df_s = df[df[\"School Year\"] == \"Senior\"]\n",
    "\n",
    "senior_avg_study_hours = df_s[\"Hours Studying\"].mean()\n",
    "senior_avg_study_hours\n",
    "\n"
   ]
  },
  {
   "cell_type": "code",
   "execution_count": 8,
   "metadata": {
    "deletable": false,
    "editable": false,
    "nbgrader": {
     "cell_type": "code",
     "checksum": "8a4ca63643eb919a6ec26e7b76337451",
     "grade": true,
     "grade_id": "cell-e03adddf03d4c81a",
     "locked": true,
     "points": 1,
     "schema_version": 3,
     "solution": false,
     "task": false
    }
   },
   "outputs": [],
   "source": [
    "## == TEST CASES for Puzzle 2 ==\n",
    "# - This read-only cell contains test cases for your previous cell.\n",
    "# - If this cell runs without any error our output, you PASSED all test cases!\n",
    "# - If this cell results in any errors, check you previous cell, make changes, and RE-RUN your code and then this cell.\n",
    "\n",
    "assert(freshman_avg_study_hours == 3.73), \"The average number of hours studying for freshman appears incorrect.\"\n",
    "assert(senior_avg_study_hours - 3.77 < 0.01), \"The average number of hours studying for seniors appears incorrect.\""
   ]
  },
  {
   "cell_type": "markdown",
   "metadata": {},
   "source": [
    "# 3. Do introverts text less than extroverts?\n",
    "\n",
    "In our dataset, you responded with the number of texts recieved yesterday.  Find the average number of texts sent by introverts, by extroverts, and by ambiverts:"
   ]
  },
  {
   "cell_type": "code",
   "execution_count": 10,
   "metadata": {
    "deletable": false,
    "nbgrader": {
     "cell_type": "code",
     "checksum": "6aa62c22b3a0149a98bf48d028e74b43",
     "grade": false,
     "grade_id": "cell-0ded48531f57011e",
     "locked": false,
     "schema_version": 3,
     "solution": true,
     "task": false
    }
   },
   "outputs": [
    {
     "data": {
      "text/plain": [
       "10.966666666666667"
      ]
     },
     "execution_count": 10,
     "metadata": {},
     "output_type": "execute_result"
    }
   ],
   "source": [
    "df_i = df[df[\"Personality\"] == \"Introvert\"]\n",
    "introverts_avg_txts = df_i[\"People Texted Yesterday\"].mean()\n",
    "introverts_avg_txts\n",
    "\n"
   ]
  },
  {
   "cell_type": "code",
   "execution_count": 11,
   "metadata": {
    "deletable": false,
    "nbgrader": {
     "cell_type": "code",
     "checksum": "d732d7997fe9b9326391d593e86fd003",
     "grade": false,
     "grade_id": "cell-3cadfc178d2b60a5",
     "locked": false,
     "schema_version": 3,
     "solution": true,
     "task": false
    }
   },
   "outputs": [
    {
     "data": {
      "text/plain": [
       "25.03488372093023"
      ]
     },
     "execution_count": 11,
     "metadata": {},
     "output_type": "execute_result"
    }
   ],
   "source": [
    "df_a = df[df[\"Personality\"] == \"Ambivert\"]\n",
    "ambiverts_avg_txts = df_a[\"People Texted Yesterday\"].mean()\n",
    "ambiverts_avg_txts\n",
    "\n"
   ]
  },
  {
   "cell_type": "code",
   "execution_count": 12,
   "metadata": {
    "deletable": false,
    "nbgrader": {
     "cell_type": "code",
     "checksum": "22215cce9bb81150050b522be4949cbe",
     "grade": false,
     "grade_id": "cell-975d7137d0ca4494",
     "locked": false,
     "schema_version": 3,
     "solution": true,
     "task": false
    }
   },
   "outputs": [
    {
     "data": {
      "text/plain": [
       "22.36842105263158"
      ]
     },
     "execution_count": 12,
     "metadata": {},
     "output_type": "execute_result"
    }
   ],
   "source": [
    "df_e = df[df[\"Personality\"] == \"Extrovert\"]\n",
    "extroverts_avg_txts = df_e[\"People Texted Yesterday\"].mean()\n",
    "extroverts_avg_txts\n",
    "\n"
   ]
  },
  {
   "cell_type": "code",
   "execution_count": 13,
   "metadata": {
    "deletable": false,
    "editable": false,
    "nbgrader": {
     "cell_type": "code",
     "checksum": "e744684504e169ea96d06893b482bb55",
     "grade": true,
     "grade_id": "cell-85b1350f5048af0d",
     "locked": true,
     "points": 1,
     "schema_version": 3,
     "solution": false,
     "task": false
    }
   },
   "outputs": [],
   "source": [
    "## == TEST CASES for Puzzle 2 ==\n",
    "# - This read-only cell contains test cases for your previous cell.\n",
    "# - If this cell runs without any error our output, you PASSED all test cases!\n",
    "# - If this cell results in any errors, check you previous cell, make changes, and RE-RUN your code and then this cell.\n",
    "\n",
    "assert(introverts_avg_txts < extroverts_avg_txts), \"This does not appear correct -- check your introvert and extrovert logic.\"\n",
    "assert(introverts_avg_txts < ambiverts_avg_txts), \"This does not appear correct -- check your introvert and ambivert logic.\"\n",
    "assert(extroverts_avg_txts < ambiverts_avg_txts), \"This does not appear correct -- check your extrovert and ambivert logic.\""
   ]
  },
  {
   "cell_type": "markdown",
   "metadata": {},
   "source": [
    "## Submit Your Work!\n",
    "\n",
    "Make sure to **Save and Checkpoint** your notebook, exit Jupyter, and submit your work! :)"
   ]
  }
 ],
 "metadata": {
  "kernelspec": {
   "display_name": "Python 3",
   "language": "python",
   "name": "python3"
  },
  "language_info": {
   "codemirror_mode": {
    "name": "ipython",
    "version": 3
   },
   "file_extension": ".py",
   "mimetype": "text/x-python",
   "name": "python",
   "nbconvert_exporter": "python",
   "pygments_lexer": "ipython3",
   "version": "3.7.3"
  }
 },
 "nbformat": 4,
 "nbformat_minor": 2
}
