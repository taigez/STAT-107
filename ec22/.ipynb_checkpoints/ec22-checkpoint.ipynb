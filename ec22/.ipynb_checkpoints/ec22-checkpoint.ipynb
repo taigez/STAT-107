{
 "cells": [
  {
   "cell_type": "markdown",
   "metadata": {
    "deletable": false,
    "editable": false,
    "nbgrader": {
     "cell_type": "markdown",
     "checksum": "7f97d27910a7b44a7abdb340b8587feb",
     "grade": false,
     "grade_id": "cell-f4aa6160aae76950",
     "locked": true,
     "schema_version": 3,
     "solution": false,
     "task": false
    }
   },
   "source": [
    "# EC Notebook for Lecture 22: Binomial Distribution and its Expectation\n",
    "\n",
    "This extra credit Python notebook will let you practice the material you saw in lecture.  Completing all parts of this notebook will earn +1 extra credit point to your grade in STAT 107! :)\n",
    "\n",
    "This notebook is worth +1 if turned in before 11:30 am on **Wednesday, Oct. 21** *(30 minutes before the next STAT 107 lecture)*.  You can feel free to complete it anytime for extra practice."
   ]
  },
  {
   "cell_type": "markdown",
   "metadata": {
    "deletable": false,
    "editable": false,
    "nbgrader": {
     "cell_type": "markdown",
     "checksum": "947e93d3bf6c0bb569ca9cab89b9bc8d",
     "grade": false,
     "grade_id": "cell-e493fd72a043cfab",
     "locked": true,
     "schema_version": 3,
     "solution": false,
     "task": false
    }
   },
   "source": [
    "## Simulation of Binomial Distribution\n",
    "\n",
    "In the lecture, we learned about the binomial distribution. First, we will try to simulate an example with binomial distribution and plot the results. Next, we will compare the true expectation with our result."
   ]
  },
  {
   "cell_type": "markdown",
   "metadata": {
    "deletable": false,
    "editable": false,
    "nbgrader": {
     "cell_type": "markdown",
     "checksum": "dcbbefbee01a0c5d8d8404c9832323f7",
     "grade": false,
     "grade_id": "cell-24d4c649e8867ed6",
     "locked": true,
     "schema_version": 3,
     "solution": false,
     "task": false
    }
   },
   "source": [
    "## Question 1: Writing a simulation\n",
    "\n",
    "Suppose, we have a bag filled with **3 Red marbles, 4 Blue marbles and 3 Green marbles**. One by one, we will draw **20** marbles with replacement (i.e, after each draw, we put back the marble in the bag). We are interested in counting the **number of Red marbles** that we see in our 20 draws.  \n",
    "\n",
    "### Part 1\n",
    "\n",
    "First, write a function (`red_count()`)that counts the number of Red marbles in the 20 draws."
   ]
  },
  {
   "cell_type": "code",
   "execution_count": 9,
   "metadata": {
    "deletable": false,
    "nbgrader": {
     "cell_type": "code",
     "checksum": "7777e69263355a2a32bd445bc60ec07e",
     "grade": false,
     "grade_id": "cell-a0315ff1f3304a75",
     "locked": false,
     "schema_version": 3,
     "solution": true,
     "task": false
    }
   },
   "outputs": [],
   "source": [
    "def red_count():\n",
    "    import random\n",
    "    import pandas as pd\n",
    "    red = 0\n",
    "    for i in range(20):\n",
    "        ball = random.randint(1,10)\n",
    "        if ball <= 3:\n",
    "            red += 1\n",
    "    return red\n",
    "\n"
   ]
  },
  {
   "cell_type": "code",
   "execution_count": 10,
   "metadata": {
    "deletable": false,
    "editable": false,
    "nbgrader": {
     "cell_type": "code",
     "checksum": "df4cbe8b61dced8eb135ad111c686ff2",
     "grade": true,
     "grade_id": "cell-f5054d49f276f230",
     "locked": true,
     "points": 1,
     "schema_version": 3,
     "solution": false,
     "task": false
    }
   },
   "outputs": [
    {
     "name": "stdout",
     "output_type": "stream",
     "text": [
      "🎉 All tests passed! 🎉\n",
      "\n"
     ]
    }
   ],
   "source": [
    "## == TEST CASES for Question 1 ==\n",
    "# - This read-only cell contains test cases for your previous cell.\n",
    "# - If this cell runs without any error our output, you PASSED all test cases!\n",
    "# - If this cell results in any errors, check you previous cell, make changes, and RE-RUN your code and then this cell.\n",
    "assert(0 < red_count() < 20), \"The count of Red marbles may be incorrect\"\n",
    "\n",
    "\n",
    "## == SUCCESS MESSAGE ==\n",
    "# You will only see this message (with the emoji showing) if you passed all test cases:\n",
    "tada = \"\\N{PARTY POPPER}\"\n",
    "print(f\"{tada} All tests passed! {tada}\")\n",
    "print()"
   ]
  },
  {
   "cell_type": "markdown",
   "metadata": {
    "deletable": false,
    "editable": false,
    "nbgrader": {
     "cell_type": "markdown",
     "checksum": "2d9e1be7327a01ead2e31da40850ab20",
     "grade": false,
     "grade_id": "cell-d5c44b1525857a0a",
     "locked": true,
     "schema_version": 3,
     "solution": false,
     "task": false
    }
   },
   "source": [
    "### Part 2: Storing results in a dataframe\n",
    "\n",
    "Now, write a simulation to run this experiment (drawing 20 marbles with replacement) 1000 times. Store your results in the dataframe named `df`. And print out a few rows from `df`."
   ]
  },
  {
   "cell_type": "code",
   "execution_count": 11,
   "metadata": {
    "deletable": false,
    "nbgrader": {
     "cell_type": "code",
     "checksum": "b8ee87654c87b7f3fbdbc8eff9fdfd9a",
     "grade": false,
     "grade_id": "cell-5cf0a806a71f1906",
     "locked": false,
     "schema_version": 3,
     "solution": true,
     "task": false
    }
   },
   "outputs": [
    {
     "name": "stdout",
     "output_type": "stream",
     "text": [
      "     red\n",
      "822    2\n",
      "198    6\n",
      "223    8\n",
      "539    4\n",
      "649    5\n"
     ]
    }
   ],
   "source": [
    "import pandas as pd\n",
    "data = []\n",
    "\n",
    "for i in range(1000):\n",
    "    draw = red_count()\n",
    "    d = {'red':draw}\n",
    "    data.append(d)\n",
    "\n",
    "\n",
    "df = pd.DataFrame(data)\n",
    "\n",
    "\n",
    "# Print out a few random rows:\n",
    "print(df.sample(5))"
   ]
  },
  {
   "cell_type": "code",
   "execution_count": 12,
   "metadata": {
    "deletable": false,
    "editable": false,
    "nbgrader": {
     "cell_type": "code",
     "checksum": "05ea71d579d33659abe62ed5fa1c2cbf",
     "grade": true,
     "grade_id": "cell-e492e1c42fb29fc7",
     "locked": true,
     "points": 1,
     "schema_version": 3,
     "solution": false,
     "task": false
    }
   },
   "outputs": [
    {
     "name": "stdout",
     "output_type": "stream",
     "text": [
      "🎉 All tests passed! 🎉\n"
     ]
    }
   ],
   "source": [
    "## == TEST CASES for Question 2 ==\n",
    "# - This read-only cell contains test cases for your previous cell.\n",
    "# - If this cell runs without any error our output, you PASSED all test cases!\n",
    "# - If this cell results in any errors, check you previous cell, make changes, and RE-RUN your code and then this cell.\n",
    "assert(len(df) >= 1000), \"Make sure that you have run the simulation at least 1000 times\"\n",
    "\n",
    "\n",
    "## == SUCCESS MESSAGE ==\n",
    "# You will only see this message (with the emoji showing) if you passed all test cases:\n",
    "tada = \"\\N{PARTY POPPER}\"\n",
    "print(f\"{tada} All tests passed! {tada}\")"
   ]
  },
  {
   "cell_type": "markdown",
   "metadata": {
    "deletable": false,
    "editable": false,
    "nbgrader": {
     "cell_type": "markdown",
     "checksum": "20f2d65b358646f7b1a835b2896e0de4",
     "grade": false,
     "grade_id": "cell-fccf8da07bc66ecc",
     "locked": true,
     "schema_version": 3,
     "solution": false,
     "task": false
    }
   },
   "source": [
    "### Part 3: Plot a histogram\n",
    "\n",
    "Plot a histogram of your results."
   ]
  },
  {
   "cell_type": "code",
   "execution_count": 13,
   "metadata": {
    "deletable": false,
    "nbgrader": {
     "cell_type": "code",
     "checksum": "6bfffbdd9ec6c0ed2f31fd02024ec9d1",
     "grade": false,
     "grade_id": "cell-5dce6e0d379b8201",
     "locked": false,
     "schema_version": 3,
     "solution": true,
     "task": false
    }
   },
   "outputs": [
    {
     "data": {
      "text/plain": [
       "<matplotlib.axes._subplots.AxesSubplot at 0x173bf964b70>"
      ]
     },
     "execution_count": 13,
     "metadata": {},
     "output_type": "execute_result"
    },
    {
     "data": {
      "image/png": "[encoded data removed]",
      "text/plain": [
       "<Figure size 432x288 with 1 Axes>"
      ]
     },
     "metadata": {
      "needs_background": "light"
     },
     "output_type": "display_data"
    }
   ],
   "source": [
    "df.plot.hist()#\n"
   ]
  },
  {
   "cell_type": "markdown",
   "metadata": {
    "deletable": false,
    "editable": false,
    "nbgrader": {
     "cell_type": "markdown",
     "checksum": "cd5bb1a33fe15e192fe2fdc656d55bbc",
     "grade": false,
     "grade_id": "cell-93e686187533f2c4",
     "locked": true,
     "schema_version": 3,
     "solution": false,
     "task": false
    }
   },
   "source": [
    "## Question 2:\n",
    "\n",
    "Using the formula that you learned in class today, calculate the true expected value of number of red marbles that we will see in 20 draws. "
   ]
  },
  {
   "cell_type": "code",
   "execution_count": 14,
   "metadata": {
    "deletable": false,
    "nbgrader": {
     "cell_type": "code",
     "checksum": "daeb2325e3a9f6a1741394b9828d9259",
     "grade": false,
     "grade_id": "cell-5cfbe9d3dc0acb8b",
     "locked": false,
     "schema_version": 3,
     "solution": true,
     "task": false
    }
   },
   "outputs": [
    {
     "data": {
      "text/plain": [
       "6.0"
      ]
     },
     "execution_count": 14,
     "metadata": {},
     "output_type": "execute_result"
    }
   ],
   "source": [
    "expected_red_count = 20*(3/10)\n",
    "expected_red_count \n",
    "\n"
   ]
  },
  {
   "cell_type": "code",
   "execution_count": 15,
   "metadata": {
    "deletable": false,
    "editable": false,
    "nbgrader": {
     "cell_type": "code",
     "checksum": "c3b3c78dde5f87728ec920572b76f5a0",
     "grade": true,
     "grade_id": "cell-3a270c0cb136d5a0",
     "locked": true,
     "points": 0,
     "schema_version": 3,
     "solution": false,
     "task": false
    }
   },
   "outputs": [
    {
     "name": "stdout",
     "output_type": "stream",
     "text": [
      "🎉 All tests passed! 🎉\n",
      "\n"
     ]
    }
   ],
   "source": [
    "## == TEST CASES for Question 2 ==\n",
    "# - This read-only cell contains test cases for your previous cell.\n",
    "# - If this cell runs without any error our output, you PASSED all test cases!\n",
    "# - If this cell results in any errors, check you previous cell, make changes, and RE-RUN your code and then this cell.\n",
    "assert(expected_red_count*1000 == 6000), \"Make sure that you have used the correct formula for expected value for Binomial Distribution\"\n",
    "\n",
    "\n",
    "## == SUCCESS MESSAGE ==\n",
    "# You will only see this message (with the emoji showing) if you passed all test cases:\n",
    "tada = \"\\N{PARTY POPPER}\"\n",
    "print(f\"{tada} All tests passed! {tada}\")\n",
    "print()"
   ]
  },
  {
   "cell_type": "markdown",
   "metadata": {},
   "source": [
    "##### Does the true expected value match with the histogram based on your results. If not, what can we change to achieve that!? (You don't have to answer it. Try changing something in your code)"
   ]
  }
 ],
 "metadata": {
  "kernelspec": {
   "display_name": "Python 3",
   "language": "python",
   "name": "python3"
  },
  "language_info": {
   "codemirror_mode": {
    "name": "ipython",
    "version": 3
   },
   "file_extension": ".py",
   "mimetype": "text/x-python",
   "name": "python",
   "nbconvert_exporter": "python",
   "pygments_lexer": "ipython3",
   "version": "3.7.3"
  }
 },
 "nbformat": 4,
 "nbformat_minor": 2
}
